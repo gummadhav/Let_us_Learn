{
  "nbformat": 4,
  "nbformat_minor": 0,
  "metadata": {
    "colab": {
      "provenance": [],
      "gpuType": "T4",
      "include_colab_link": true
    },
    "kernelspec": {
      "name": "python3",
      "display_name": "Python 3"
    },
    "language_info": {
      "name": "python"
    },
    "accelerator": "GPU"
  },
  "cells": [
    {
      "cell_type": "markdown",
      "metadata": {
        "id": "view-in-github",
        "colab_type": "text"
      },
      "source": [
        "<a href=\"https://colab.research.google.com/github/gummadhav/Let_us_Learn/blob/main/Learn_OpenCV_OpenCL_On_CoLab.ipynb\" target=\"_parent\"><img src=\"https://colab.research.google.com/assets/colab-badge.svg\" alt=\"Open In Colab\"/></a>"
      ]
    },
    {
      "cell_type": "code",
      "source": [
        "%%shell\n",
        "echo \"Updating package lists and installing build essentials...\"\n",
        "apt-get update\n",
        "apt-get install -y build-essential # Compilers and build tools\n",
        "\n",
        "echo \"Installing OpenCV C++ development libraries...\"\n",
        "apt-get install -y libopencv-dev python3-opencv\n",
        "\n",
        "echo \"Verifying OpenCL development files (usually part of CUDA or standalone dev packages)...\"\n",
        "# Check if OpenCL headers are in a common location\n",
        "ls -l /usr/include/CL/cl.h\n",
        "\n",
        "# If the above 'ls' command returns \"No such file or directory\",\n",
        "# you might need to install a specific OpenCL header package:\n",
        "# For example, on some systems, it's 'opencl-headers' or 'libopencl-dev'\n",
        "# apt-get install -y opencl-headers\n",
        "\n",
        "# In Colab, the NVIDIA CUDA Toolkit usually brings in OpenCL support.\n",
        "# We can check for a system-wide OpenCL library\n",
        "ldconfig -p | grep libOpenCL"
      ],
      "metadata": {
        "id": "G5CYwLdB0bn6",
        "outputId": "9c9dfd93-bad7-4ad5-a2d5-59e4453adf46",
        "colab": {
          "base_uri": "https://localhost:8080/"
        }
      },
      "execution_count": null,
      "outputs": [
        {
          "output_type": "stream",
          "name": "stdout",
          "text": [
            "Updating package lists and installing build essentials...\n",
            "Get:1 https://cloud.r-project.org/bin/linux/ubuntu jammy-cran40/ InRelease [3,632 B]\n",
            "Get:2 https://developer.download.nvidia.com/compute/cuda/repos/ubuntu2204/x86_64  InRelease [1,581 B]\n",
            "Hit:3 http://archive.ubuntu.com/ubuntu jammy InRelease\n",
            "Get:4 http://security.ubuntu.com/ubuntu jammy-security InRelease [129 kB]\n",
            "Get:5 https://r2u.stat.illinois.edu/ubuntu jammy InRelease [6,555 B]\n",
            "Get:6 http://archive.ubuntu.com/ubuntu jammy-updates InRelease [128 kB]\n",
            "Get:7 https://developer.download.nvidia.com/compute/cuda/repos/ubuntu2204/x86_64  Packages [1,853 kB]\n",
            "Hit:8 https://ppa.launchpadcontent.net/deadsnakes/ppa/ubuntu jammy InRelease\n",
            "Hit:9 https://ppa.launchpadcontent.net/graphics-drivers/ppa/ubuntu jammy InRelease\n",
            "Get:10 https://r2u.stat.illinois.edu/ubuntu jammy/main amd64 Packages [2,773 kB]\n",
            "Hit:11 https://ppa.launchpadcontent.net/ubuntugis/ppa/ubuntu jammy InRelease\n",
            "Get:12 http://archive.ubuntu.com/ubuntu jammy-backports InRelease [127 kB]\n",
            "Get:13 http://security.ubuntu.com/ubuntu jammy-security/restricted amd64 Packages [5,103 kB]\n",
            "Get:14 https://r2u.stat.illinois.edu/ubuntu jammy/main all Packages [9,161 kB]\n",
            "Get:15 http://archive.ubuntu.com/ubuntu jammy-updates/restricted amd64 Packages [5,290 kB]\n",
            "Get:16 http://security.ubuntu.com/ubuntu jammy-security/universe amd64 Packages [1,270 kB]\n",
            "Get:17 http://security.ubuntu.com/ubuntu jammy-security/main amd64 Packages [3,207 kB]\n",
            "Get:18 http://archive.ubuntu.com/ubuntu jammy-updates/universe amd64 Packages [1,575 kB]\n",
            "Get:19 http://archive.ubuntu.com/ubuntu jammy-updates/main amd64 Packages [3,518 kB]\n",
            "Fetched 34.1 MB in 3s (12.6 MB/s)\n",
            "Reading package lists... Done\n",
            "W: Skipping acquire of configured file 'main/source/Sources' as repository 'https://r2u.stat.illinois.edu/ubuntu jammy InRelease' does not seem to provide it (sources.list entry misspelt?)\n",
            "Reading package lists... Done\n",
            "Building dependency tree... Done\n",
            "Reading state information... Done\n",
            "build-essential is already the newest version (12.9ubuntu3).\n",
            "0 upgraded, 0 newly installed, 0 to remove and 36 not upgraded.\n",
            "Installing OpenCV C++ development libraries...\n",
            "Reading package lists... Done\n",
            "Building dependency tree... Done\n",
            "Reading state information... Done\n",
            "libopencv-dev is already the newest version (4.5.4+dfsg-9ubuntu4+jammy1).\n",
            "Suggested packages:\n",
            "  python-numpy-doc python3-pytest\n",
            "The following NEW packages will be installed:\n",
            "  python3-numpy python3-opencv\n",
            "0 upgraded, 2 newly installed, 0 to remove and 36 not upgraded.\n",
            "Need to get 5,274 kB of archives.\n",
            "After this operation, 27.1 MB of additional disk space will be used.\n",
            "Get:1 http://archive.ubuntu.com/ubuntu jammy-updates/main amd64 python3-numpy amd64 1:1.21.5-1ubuntu22.04.1 [3,467 kB]\n",
            "Get:2 https://ppa.launchpadcontent.net/ubuntugis/ppa/ubuntu jammy/main amd64 python3-opencv amd64 4.5.4+dfsg-9ubuntu4+jammy1 [1,807 kB]\n",
            "Fetched 5,274 kB in 1s (4,731 kB/s)\n",
            "Selecting previously unselected package python3-numpy.\n",
            "(Reading database ... 126284 files and directories currently installed.)\n",
            "Preparing to unpack .../python3-numpy_1%3a1.21.5-1ubuntu22.04.1_amd64.deb ...\n",
            "Unpacking python3-numpy (1:1.21.5-1ubuntu22.04.1) ...\n",
            "Selecting previously unselected package python3-opencv:amd64.\n",
            "Preparing to unpack .../python3-opencv_4.5.4+dfsg-9ubuntu4+jammy1_amd64.deb ...\n",
            "Unpacking python3-opencv:amd64 (4.5.4+dfsg-9ubuntu4+jammy1) ...\n",
            "Setting up python3-numpy (1:1.21.5-1ubuntu22.04.1) ...\n",
            "Setting up python3-opencv:amd64 (4.5.4+dfsg-9ubuntu4+jammy1) ...\n",
            "Verifying OpenCL development files (usually part of CUDA or standalone dev packages)...\n",
            "-rw-r--r-- 1 root root 81345 Dec 14  2021 /usr/include/CL/cl.h\n",
            "\tlibOpenCL.so.1 (libc6,x86-64) => /usr/local/cuda/targets/x86_64-linux/lib/libOpenCL.so.1\n",
            "\tlibOpenCL.so.1 (libc6,x86-64) => /lib/x86_64-linux-gnu/libOpenCL.so.1\n",
            "\tlibOpenCL.so (libc6,x86-64) => /usr/local/cuda/targets/x86_64-linux/lib/libOpenCL.so\n",
            "\tlibOpenCL.so (libc6,x86-64) => /lib/x86_64-linux-gnu/libOpenCL.so\n"
          ]
        },
        {
          "output_type": "execute_result",
          "data": {
            "text/plain": []
          },
          "metadata": {},
          "execution_count": 1
        }
      ]
    },
    {
      "cell_type": "code",
      "source": [
        "%%writefile opencv_opencl_example.cpp\n",
        "\n",
        "#include <opencv2/opencv.hpp>\n",
        "#include <opencv2/core/ocl.hpp>\n",
        "#include <iostream>\n",
        "#include <chrono>\n",
        "\n",
        "int main() {\n",
        "    if (cv::ocl::haveOpenCL()) {\n",
        "        std::cout << \"OpenCL is available! Trying to enable it for OpenCV.\\n\";\n",
        "\n",
        "        if (cv::ocl::useOpenCL()) {\n",
        "            std::cout << \"OpenCL enabled for OpenCV.\\n\";\n",
        "\n",
        "            // Corrected way to get platform and device info for OpenCV 4.x\n",
        "            cv::ocl::Context context;\n",
        "            context.create(cv::ocl::Device::TYPE_GPU);\n",
        "\n",
        "            // Get the platform name from the first device\n",
        "            cv::ocl::Device device = context.device(0);\n",
        "            //std::cout << \"OpenCL Platform: \" << device.platformName() << std::endl;\n",
        "            std::cout << \"OpenCL Device Info:\\n\";\n",
        "            std::cout << \"  Name    : \" << device.name() << std::endl;\n",
        "            std::cout << \"  Vendor  : \" << device.vendorName() << std::endl;\n",
        "            std::cout << \"  Version : \" << device.version() << std::endl;\n",
        "\n",
        "            // Iterate and print all devices\n",
        "            for (int i = 0; i < context.ndevices(); ++i) {\n",
        "                cv::ocl::Device d = context.device(i);\n",
        "                std::cout << \"  Device \" << i << \": \" << d.name() << \" (\" << d.type() << \")\" << std::endl;\n",
        "            }\n",
        "        } else {\n",
        "            std::cout << \"Failed to enable OpenCL for OpenCV. Falling back to CPU.\\n\";\n",
        "        }\n",
        "    } else {\n",
        "        std::cout << \"OpenCL is NOT available. Falling back to CPU.\\n\";\n",
        "    }\n",
        "\n",
        "    std::string input_filename = \"test_image.jpg\";\n",
        "    cv::Mat image = cv::imread(input_filename, cv::IMREAD_COLOR);\n",
        "\n",
        "    if (image.empty()) {\n",
        "        std::cerr << \"Error: Could not open or find the image \" << input_filename << std::endl;\n",
        "        std::cerr << \"Please upload 'test_image.jpg' to the Colab environment.\" << std::endl;\n",
        "        return -1;\n",
        "    }\n",
        "    std::cout << \"Image '\" << input_filename << \"' loaded. Dimensions: \" << image.cols << \"x\" << image.rows << std::endl;\n",
        "\n",
        "    cv::UMat u_image, u_grayscale;\n",
        "    image.copyTo(u_image);\n",
        "\n",
        "    auto start = std::chrono::high_resolution_clock::now();\n",
        "    cv::cvtColor(u_image, u_grayscale, cv::COLOR_BGR2GRAY);\n",
        "    auto end = std::chrono::high_resolution_clock::now();\n",
        "    std::chrono::duration<double, std::milli> duration_ms = end - start;\n",
        "\n",
        "    std::cout << \"Grayscale conversion took: \" << duration_ms.count() << \" ms\\n\";\n",
        "\n",
        "    std::string output_filename = \"test_image_grayscale.jpg\";\n",
        "    bool success = cv::imwrite(output_filename, u_grayscale.getMat(cv::ACCESS_READ));\n",
        "\n",
        "    if (success) {\n",
        "        std::cout << \"Grayscale image saved as '\" << output_filename << \"'\" << std::endl;\n",
        "    } else {\n",
        "        std::cerr << \"Error: Could not save the grayscale image.\" << std::endl;\n",
        "        return -1;\n",
        "    }\n",
        "\n",
        "    return 0;\n",
        "}"
      ],
      "metadata": {
        "colab": {
          "base_uri": "https://localhost:8080/"
        },
        "id": "l6IHbZxJ45N8",
        "outputId": "f639bc99-4901-4263-a0c1-2e00bfd4971a"
      },
      "execution_count": null,
      "outputs": [
        {
          "output_type": "stream",
          "name": "stdout",
          "text": [
            "Overwriting opencv_opencl_example.cpp\n"
          ]
        }
      ]
    },
    {
      "cell_type": "code",
      "source": [
        "%%shell\n",
        "# Compile the C++ code, linking with OpenCV libraries\n",
        "g++ opencv_opencl_example.cpp -o opencv_opencl_app $(pkg-config --cflags --libs opencv4)\n",
        "\n",
        "# Check if compilation was successful\n",
        "if [ -f opencv_opencl_app ]; then\n",
        "    echo \"Compilation successful. Executable 'opencv_opencl_app' created.\"\n",
        "else\n",
        "    echo \"Compilation FAILED. Check for errors above.\"\n",
        "fi"
      ],
      "metadata": {
        "colab": {
          "base_uri": "https://localhost:8080/"
        },
        "id": "HGGZyc2-1VBo",
        "outputId": "27f0a519-1f8c-45df-a79f-9f61d8f96b26"
      },
      "execution_count": null,
      "outputs": [
        {
          "output_type": "stream",
          "name": "stdout",
          "text": [
            "Compilation successful. Executable 'opencv_opencl_app' created.\n"
          ]
        },
        {
          "output_type": "execute_result",
          "data": {
            "text/plain": []
          },
          "metadata": {},
          "execution_count": 22
        }
      ]
    },
    {
      "cell_type": "code",
      "source": [
        "%%shell\n",
        "ls -l opencv_opencl_app"
      ],
      "metadata": {
        "colab": {
          "base_uri": "https://localhost:8080/"
        },
        "id": "PvWqay418LjM",
        "outputId": "a254de7e-a6fe-4b3e-fa92-c9852fe2be47"
      },
      "execution_count": null,
      "outputs": [
        {
          "output_type": "stream",
          "name": "stdout",
          "text": [
            "-rwxr-xr-x 1 root root 37600 Aug  3 17:17 opencv_opencl_app\n"
          ]
        },
        {
          "output_type": "execute_result",
          "data": {
            "text/plain": []
          },
          "metadata": {},
          "execution_count": 23
        }
      ]
    },
    {
      "cell_type": "code",
      "source": [
        "%%shell\n",
        "./opencv_opencl_app"
      ],
      "metadata": {
        "colab": {
          "base_uri": "https://localhost:8080/"
        },
        "id": "oGWk4gn88Z3T",
        "outputId": "00753e35-8fc9-4875-c1e1-fb2f659cb99d"
      },
      "execution_count": null,
      "outputs": [
        {
          "output_type": "stream",
          "name": "stdout",
          "text": [
            "OpenCL is available! Trying to enable it for OpenCV.\n",
            "OpenCL enabled for OpenCV.\n",
            "OpenCL Device Info:\n",
            "  Name    : Tesla T4\n",
            "  Vendor  : NVIDIA Corporation\n",
            "  Version : OpenCL 3.0 CUDA\n",
            "  Device 0: Tesla T4 (4)\n",
            "Image 'test_image.jpg' loaded. Dimensions: 382x509\n",
            "Grayscale conversion took: 552.237 ms\n",
            "Grayscale image saved as 'test_image_grayscale.jpg'\n"
          ]
        },
        {
          "output_type": "execute_result",
          "data": {
            "text/plain": []
          },
          "metadata": {},
          "execution_count": 24
        }
      ]
    },
    {
      "cell_type": "code",
      "source": [
        "%%writefile invert_image.cpp\n",
        "\n",
        "#include <opencv2/opencv.hpp>\n",
        "#include <opencv2/core/ocl.hpp>\n",
        "#include <iostream>\n",
        "\n",
        "const char* opencl_kernel_code = R\"(\n",
        "__kernel void invert_image(__global uchar* src, __global uchar* dst, int total) {\n",
        "    int idx = get_global_id(0);\n",
        "    if (idx < total) {\n",
        "        dst[idx] = 255 - src[idx];\n",
        "    }\n",
        "}\n",
        ")\";\n",
        "\n",
        "int main() {\n",
        "    // Check for OpenCL availability\n",
        "    if (!cv::ocl::haveOpenCL()) {\n",
        "        std::cerr << \"OpenCL is not available.\\n\";\n",
        "        return -1;\n",
        "    }\n",
        "\n",
        "    cv::ocl::Context context;\n",
        "    if (!context.create(cv::ocl::Device::TYPE_GPU)) {\n",
        "        std::cerr << \"Failed to create OpenCL context.\\n\";\n",
        "        return -1;\n",
        "    }\n",
        "\n",
        "    cv::ocl::Device device = context.device(0);\n",
        "    std::cout << \"Running on device: \" << device.name() << \"\\n\";\n",
        "\n",
        "    // Load grayscale image\n",
        "    cv::Mat img = cv::imread(\"test_image.jpg\", cv::IMREAD_GRAYSCALE);\n",
        "    if (img.empty()) {\n",
        "        std::cerr << \"Image load failed.\\n\";\n",
        "        return -1;\n",
        "    }\n",
        "\n",
        "    // Upload image to UMat (automatically uses OpenCL if available)\n",
        "    cv::UMat u_src, u_dst;\n",
        "    img.copyTo(u_src);\n",
        "    u_dst.create(u_src.size(), u_src.type());\n",
        "\n",
        "    // Create OpenCL kernel from source\n",
        "    cv::ocl::ProgramSource source(opencl_kernel_code);\n",
        "    cv::String errmsg;\n",
        "    cv::ocl::Program program = context.getProg(source, \"\", errmsg);\n",
        "    if (!errmsg.empty()) std::cerr << \"Kernel compile error: \" << errmsg << \"\\n\";\n",
        "\n",
        "    cv::ocl::Kernel kernel(\"invert_image\", program);\n",
        "    if (kernel.empty()) {\n",
        "        std::cerr << \"Failed to create OpenCL kernel.\\n\";\n",
        "        return -1;\n",
        "    }\n",
        "\n",
        "    size_t total = u_src.total();\n",
        "    kernel.set(0, cv::ocl::KernelArg::ReadOnly(u_src));\n",
        "    kernel.set(1, cv::ocl::KernelArg::WriteOnly(u_dst));\n",
        "    kernel.set(2, (int)total);\n",
        "\n",
        "    // Run the kernel\n",
        "    size_t globalSize[] = { total };\n",
        "    if (!kernel.run(1, globalSize, NULL, true)) {\n",
        "        std::cerr << \"OpenCL kernel execution failed.\\n\";\n",
        "        return -1;\n",
        "    }\n",
        "\n",
        "    // Save result\n",
        "    cv::Mat result;\n",
        "    u_dst.copyTo(result);\n",
        "    cv::imwrite(\"inverted_image.jpg\", result);\n",
        "    std::cout << \"Inverted image saved as 'inverted_image.jpg'\\n\";\n",
        "\n",
        "    return 0;\n",
        "}\n"
      ],
      "metadata": {
        "colab": {
          "base_uri": "https://localhost:8080/"
        },
        "id": "UL6WWNn4DPBx",
        "outputId": "ec158b5c-7cd9-4ecc-d8e2-728684828b4d"
      },
      "execution_count": null,
      "outputs": [
        {
          "output_type": "stream",
          "name": "stdout",
          "text": [
            "Writing invert_image.cpp\n"
          ]
        }
      ]
    },
    {
      "cell_type": "code",
      "source": [
        "%%shell\n",
        "# Compile the C++ code, linking with OpenCV libraries\n",
        "g++ invert_image.cpp -o invert_image $(pkg-config --cflags --libs opencv4)\n",
        "\n",
        "# Check if compilation was successful\n",
        "if [ -f invert_image ]; then\n",
        "    echo \"Compilation successful. Executable 'opencv_opencl_app' created.\"\n",
        "else\n",
        "    echo \"Compilation FAILED. Check for errors above.\"\n",
        "fi"
      ],
      "metadata": {
        "colab": {
          "base_uri": "https://localhost:8080/"
        },
        "id": "QHTTPo6iDt7C",
        "outputId": "0330c537-cbb8-4319-e112-db63da1778c2"
      },
      "execution_count": 29,
      "outputs": [
        {
          "output_type": "stream",
          "name": "stdout",
          "text": [
            "Compilation successful. Executable 'opencv_opencl_app' created.\n"
          ]
        },
        {
          "output_type": "execute_result",
          "data": {
            "text/plain": []
          },
          "metadata": {},
          "execution_count": 29
        }
      ]
    },
    {
      "cell_type": "code",
      "source": [
        "%%shell\n",
        "\n",
        "./invert_image"
      ],
      "metadata": {
        "colab": {
          "base_uri": "https://localhost:8080/"
        },
        "id": "bot0XsG-EIeU",
        "outputId": "b22ad2a0-0649-49aa-b2d7-1147b1958742"
      },
      "execution_count": 30,
      "outputs": [
        {
          "output_type": "stream",
          "name": "stdout",
          "text": [
            "Running on device: Tesla T4\n",
            "Inverted image saved as 'inverted_image.jpg'\n"
          ]
        },
        {
          "output_type": "execute_result",
          "data": {
            "text/plain": []
          },
          "metadata": {},
          "execution_count": 30
        }
      ]
    }
  ]
}