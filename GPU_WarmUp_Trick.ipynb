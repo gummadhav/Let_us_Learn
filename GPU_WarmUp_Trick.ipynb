{
  "nbformat": 4,
  "nbformat_minor": 0,
  "metadata": {
    "colab": {
      "provenance": [],
      "gpuType": "T4",
      "authorship_tag": "ABX9TyPYb8ct6/pRQneU6ksZXjtT",
      "include_colab_link": true
    },
    "kernelspec": {
      "name": "python3",
      "display_name": "Python 3"
    },
    "language_info": {
      "name": "python"
    },
    "accelerator": "GPU"
  },
  "cells": [
    {
      "cell_type": "markdown",
      "metadata": {
        "id": "view-in-github",
        "colab_type": "text"
      },
      "source": [
        "<a href=\"https://colab.research.google.com/github/gummadhav/Let_us_Learn/blob/main/GPU_WarmUp_Trick.ipynb\" target=\"_parent\"><img src=\"https://colab.research.google.com/assets/colab-badge.svg\" alt=\"Open In Colab\"/></a>"
      ]
    },
    {
      "cell_type": "code",
      "execution_count": 1,
      "metadata": {
        "colab": {
          "base_uri": "https://localhost:8080/"
        },
        "id": "gk4lXBqfL7UE",
        "outputId": "11d331e4-e330-4ee2-9ead-e8dd20e2c672"
      },
      "outputs": [
        {
          "output_type": "stream",
          "name": "stdout",
          "text": [
            "/bin/bash: line 1: fg: no job control\n",
            "Get:1 https://developer.download.nvidia.com/compute/cuda/repos/ubuntu2204/x86_64  InRelease [1,581 B]\n",
            "Get:2 https://cli.github.com/packages stable InRelease [3,917 B]\n",
            "Get:3 https://cloud.r-project.org/bin/linux/ubuntu jammy-cran40/ InRelease [3,632 B]\n",
            "Hit:4 http://archive.ubuntu.com/ubuntu jammy InRelease\n",
            "Get:5 https://developer.download.nvidia.com/compute/cuda/repos/ubuntu2204/x86_64  Packages [1,933 kB]\n",
            "Get:6 http://archive.ubuntu.com/ubuntu jammy-updates InRelease [128 kB]\n",
            "Get:7 http://security.ubuntu.com/ubuntu jammy-security InRelease [129 kB]\n",
            "Hit:8 https://r2u.stat.illinois.edu/ubuntu jammy InRelease\n",
            "Get:9 http://archive.ubuntu.com/ubuntu jammy-backports InRelease [127 kB]\n",
            "Get:10 http://archive.ubuntu.com/ubuntu jammy-updates/main amd64 Packages [3,521 kB]\n",
            "Get:11 http://security.ubuntu.com/ubuntu jammy-security/main amd64 Packages [3,209 kB]\n",
            "Get:12 https://ppa.launchpadcontent.net/deadsnakes/ppa/ubuntu jammy InRelease [18.1 kB]\n",
            "Get:13 http://archive.ubuntu.com/ubuntu jammy-updates/universe amd64 Packages [1,575 kB]\n",
            "Get:14 http://archive.ubuntu.com/ubuntu jammy-backports/universe amd64 Packages [35.2 kB]\n",
            "Hit:15 https://ppa.launchpadcontent.net/graphics-drivers/ppa/ubuntu jammy InRelease\n",
            "Hit:16 https://ppa.launchpadcontent.net/ubuntugis/ppa/ubuntu jammy InRelease\n",
            "Get:17 https://ppa.launchpadcontent.net/deadsnakes/ppa/ubuntu jammy/main amd64 Packages [33.2 kB]\n",
            "Get:18 http://security.ubuntu.com/ubuntu jammy-security/universe amd64 Packages [1,271 kB]\n",
            "Fetched 12.0 MB in 2s (5,843 kB/s)\n",
            "Reading package lists... Done\n",
            "W: Skipping acquire of configured file 'main/source/Sources' as repository 'https://r2u.stat.illinois.edu/ubuntu jammy InRelease' does not seem to provide it (sources.list entry misspelt?)\n",
            "Reading package lists... Done\n",
            "Building dependency tree... Done\n",
            "Reading state information... Done\n",
            "build-essential is already the newest version (12.9ubuntu3).\n",
            "0 upgraded, 0 newly installed, 0 to remove and 35 not upgraded.\n",
            "Reading package lists... Done\n",
            "Building dependency tree... Done\n",
            "Reading state information... Done\n",
            "libopencv-dev is already the newest version (4.5.4+dfsg-9ubuntu4+jammy1).\n",
            "Suggested packages:\n",
            "  python-numpy-doc python3-pytest\n",
            "The following NEW packages will be installed:\n",
            "  python3-numpy python3-opencv\n",
            "0 upgraded, 2 newly installed, 0 to remove and 35 not upgraded.\n",
            "Need to get 5,274 kB of archives.\n",
            "After this operation, 27.1 MB of additional disk space will be used.\n",
            "Get:1 http://archive.ubuntu.com/ubuntu jammy-updates/main amd64 python3-numpy amd64 1:1.21.5-1ubuntu22.04.1 [3,467 kB]\n",
            "Get:2 https://ppa.launchpadcontent.net/ubuntugis/ppa/ubuntu jammy/main amd64 python3-opencv amd64 4.5.4+dfsg-9ubuntu4+jammy1 [1,807 kB]\n",
            "Fetched 5,274 kB in 2s (2,845 kB/s)\n",
            "Selecting previously unselected package python3-numpy.\n",
            "(Reading database ... 126380 files and directories currently installed.)\n",
            "Preparing to unpack .../python3-numpy_1%3a1.21.5-1ubuntu22.04.1_amd64.deb ...\n",
            "Unpacking python3-numpy (1:1.21.5-1ubuntu22.04.1) ...\n",
            "Selecting previously unselected package python3-opencv:amd64.\n",
            "Preparing to unpack .../python3-opencv_4.5.4+dfsg-9ubuntu4+jammy1_amd64.deb ...\n",
            "Unpacking python3-opencv:amd64 (4.5.4+dfsg-9ubuntu4+jammy1) ...\n",
            "Setting up python3-numpy (1:1.21.5-1ubuntu22.04.1) ...\n",
            "Setting up python3-opencv:amd64 (4.5.4+dfsg-9ubuntu4+jammy1) ...\n",
            "4.5.4\n"
          ]
        },
        {
          "output_type": "execute_result",
          "data": {
            "text/plain": []
          },
          "metadata": {},
          "execution_count": 1
        }
      ],
      "source": [
        "%%shell\n",
        "%%shell\n",
        "# Update package lists\n",
        "apt-get update\n",
        "\n",
        "# Install essential build tools (if not already present, good practice)\n",
        "apt-get install -y build-essential\n",
        "\n",
        "# Install OpenCV development libraries (C++ headers and shared libraries)\n",
        "# 'libopencv-dev' provides the development files\n",
        "# 'python3-opencv' is for Python, but sometimes pulled in as a dependency\n",
        "apt-get install -y libopencv-dev python3-opencv\n",
        "\n",
        "# Verify OpenCV version (optional, but good for checking)\n",
        "pkg-config --modversion opencv4 # For OpenCV 4.x\n",
        "# Or for older versions: pkg-config --modversion opencv"
      ]
    },
    {
      "cell_type": "code",
      "source": [
        "!pip install nvcc4jupyter"
      ],
      "metadata": {
        "colab": {
          "base_uri": "https://localhost:8080/"
        },
        "id": "BLuKx_iQMR8V",
        "outputId": "523e4d46-1852-4cfc-cc6d-2f239617eced"
      },
      "execution_count": 2,
      "outputs": [
        {
          "output_type": "stream",
          "name": "stdout",
          "text": [
            "Collecting nvcc4jupyter\n",
            "  Downloading nvcc4jupyter-1.2.1-py3-none-any.whl.metadata (5.1 kB)\n",
            "Downloading nvcc4jupyter-1.2.1-py3-none-any.whl (10 kB)\n",
            "Installing collected packages: nvcc4jupyter\n",
            "Successfully installed nvcc4jupyter-1.2.1\n"
          ]
        }
      ]
    },
    {
      "cell_type": "code",
      "source": [
        "%load_ext nvcc4jupyter"
      ],
      "metadata": {
        "colab": {
          "base_uri": "https://localhost:8080/"
        },
        "id": "lInnX6vaMVaz",
        "outputId": "795bc55e-cb94-4308-bcde-d5d3014f4e47"
      },
      "execution_count": 3,
      "outputs": [
        {
          "output_type": "stream",
          "name": "stdout",
          "text": [
            "Detected platform \"Colab\". Running its setup...\n",
            "Source files will be saved in \"/tmp/tmpuj92vcmu\".\n"
          ]
        }
      ]
    },
    {
      "cell_type": "code",
      "source": [
        "%%shell\n",
        "nvcc --version"
      ],
      "metadata": {
        "colab": {
          "base_uri": "https://localhost:8080/"
        },
        "id": "Ut_QdQm4MX3k",
        "outputId": "2ec3ac84-ed37-4b87-f241-b2803f24d8ed"
      },
      "execution_count": 4,
      "outputs": [
        {
          "output_type": "stream",
          "name": "stdout",
          "text": [
            "nvcc: NVIDIA (R) Cuda compiler driver\n",
            "Copyright (c) 2005-2024 NVIDIA Corporation\n",
            "Built on Thu_Jun__6_02:18:23_PDT_2024\n",
            "Cuda compilation tools, release 12.5, V12.5.82\n",
            "Build cuda_12.5.r12.5/compiler.34385749_0\n"
          ]
        },
        {
          "output_type": "execute_result",
          "data": {
            "text/plain": []
          },
          "metadata": {},
          "execution_count": 4
        }
      ]
    },
    {
      "cell_type": "code",
      "source": [
        "%%shell\n",
        "nvidia-smi"
      ],
      "metadata": {
        "colab": {
          "base_uri": "https://localhost:8080/"
        },
        "id": "yvinjYh_Ma1s",
        "outputId": "9da5d094-4873-4011-ab0d-6f399a437949"
      },
      "execution_count": 5,
      "outputs": [
        {
          "output_type": "stream",
          "name": "stdout",
          "text": [
            "Fri Aug 15 14:51:41 2025       \n",
            "+-----------------------------------------------------------------------------------------+\n",
            "| NVIDIA-SMI 550.54.15              Driver Version: 550.54.15      CUDA Version: 12.4     |\n",
            "|-----------------------------------------+------------------------+----------------------+\n",
            "| GPU  Name                 Persistence-M | Bus-Id          Disp.A | Volatile Uncorr. ECC |\n",
            "| Fan  Temp   Perf          Pwr:Usage/Cap |           Memory-Usage | GPU-Util  Compute M. |\n",
            "|                                         |                        |               MIG M. |\n",
            "|=========================================+========================+======================|\n",
            "|   0  Tesla T4                       Off |   00000000:00:04.0 Off |                    0 |\n",
            "| N/A   46C    P8             10W /   70W |       0MiB /  15360MiB |      0%      Default |\n",
            "|                                         |                        |                  N/A |\n",
            "+-----------------------------------------+------------------------+----------------------+\n",
            "                                                                                         \n",
            "+-----------------------------------------------------------------------------------------+\n",
            "| Processes:                                                                              |\n",
            "|  GPU   GI   CI        PID   Type   Process name                              GPU Memory |\n",
            "|        ID   ID                                                               Usage      |\n",
            "|=========================================================================================|\n",
            "|  No running processes found                                                             |\n",
            "+-----------------------------------------------------------------------------------------+\n"
          ]
        },
        {
          "output_type": "execute_result",
          "data": {
            "text/plain": []
          },
          "metadata": {},
          "execution_count": 5
        }
      ]
    },
    {
      "cell_type": "code",
      "source": [
        "%%writefile cpu_vs_gpu.cu\n",
        "\n",
        "#include <opencv2/opencv.hpp>\n",
        "#include <vector>\n",
        "#include <string>\n",
        "#include <filesystem>\n",
        "#include <iostream>\n",
        "#include \"cuda_runtime.h\"\n",
        "\n",
        "std::vector<std::string> get_image_paths(const std::string& folder) {\n",
        "    std::vector<std::string> paths;\n",
        "    for (const auto& entry : std::filesystem::directory_iterator(folder)) {\n",
        "        if (entry.path().extension() == \".bmp\") {\n",
        "            paths.push_back(entry.path().string());\n",
        "        }\n",
        "    }\n",
        "    return paths;\n",
        "}\n",
        "\n",
        "// ----- Gaussian Filter Kernel (CUDA) -----\n",
        "__global__\n",
        "void gaussian_filter_kernel(const uchar* input, uchar* output, int width, int height, const float* kernel) {\n",
        "    int x = blockIdx.x * blockDim.x + threadIdx.x;\n",
        "    int y = blockIdx.y * blockDim.y + threadIdx.y;\n",
        "    if (x >= width || y >= height) return;\n",
        "    float sum = 0, kSum = 0;\n",
        "    for (int dy = -1; dy <= 1; ++dy) {\n",
        "        for (int dx = -1; dx <= 1; ++dx) {\n",
        "            int ix = min(max(x+dx,0), width-1);\n",
        "            int iy = min(max(y+dy,0), height-1);\n",
        "            float k = kernel[(dy+1)*3 + (dx+1)];\n",
        "            sum += input[iy*width + ix] * k;\n",
        "            kSum += k;\n",
        "        }\n",
        "    }\n",
        "    float result = kSum > 0 ? sum / kSum : 0;\n",
        "    // Clamp and convert\n",
        "    result = min(max(result, 0.f), 255.f);\n",
        "    output[y*width + x] = static_cast<uchar>(result);\n",
        "}\n",
        "\n",
        "// ----- Laplacian Edge Detection Kernel (CUDA) -----\n",
        "__global__\n",
        "void laplacian_filter_kernel(const uchar* input, uchar* output, int width, int height) {\n",
        "    int kernel[3][3] = { {-1,-1,-1}, {-1,8,-1}, {-1,-1,-1} };\n",
        "    int x = blockIdx.x * blockDim.x + threadIdx.x;\n",
        "    int y = blockIdx.y * blockDim.y + threadIdx.y;\n",
        "    if (x >= width || y >= height) return;\n",
        "    int sum = 0;\n",
        "    for (int dy = -1; dy <= 1; ++dy) {\n",
        "        for (int dx = -1; dx <= 1; ++dx) {\n",
        "            int ix = min(max(x+dx,0), width-1);\n",
        "            int iy = min(max(y+dy,0), height-1);\n",
        "            sum += input[iy*width + ix] * kernel[dy+1][dx+1];\n",
        "        }\n",
        "    }\n",
        "    // Offset and clamp\n",
        "    int result = sum + 128;\n",
        "    result = min(max(result, 0), 255);\n",
        "    output[y*width + x] = static_cast<uchar>(result);\n",
        "}\n",
        "\n",
        "#define CHECK_CUDA(call) \\\n",
        "    { \\\n",
        "        cudaError_t err = call; \\\n",
        "        if (err != cudaSuccess) { \\\n",
        "            std::cerr << \"CUDA error: \" << cudaGetErrorString(err) << \" at \" << __FILE__ << \":\" << __LINE__ << std::endl; \\\n",
        "            exit(1); \\\n",
        "        } \\\n",
        "    }\n",
        "\n",
        "__global__ void empty_kernel(int* p) { *p = 1; }\n",
        "// Add this before your 'for' loop\n",
        "void warm_up() {\n",
        "    // Launch a simple, small kernel to prime the CUDA context\n",
        "    int* d_temp;\n",
        "    CHECK_CUDA(cudaMalloc(&d_temp, sizeof(int)));\n",
        "    int temp = 0;\n",
        "    CHECK_CUDA(cudaMemcpy(d_temp, &temp, sizeof(int), cudaMemcpyHostToDevice));\n",
        "    dim3 block(1, 1), grid(1, 1);\n",
        "\n",
        "    empty_kernel<<<grid, block>>>(d_temp);\n",
        "    CHECK_CUDA(cudaDeviceSynchronize());\n",
        "    CHECK_CUDA(cudaFree(d_temp));\n",
        "}\n",
        "\n",
        "int main() {\n",
        "    std::string input_folder = \"input_images\";\n",
        "    std::string output_folder = \"output_images\";\n",
        "    auto paths = get_image_paths(input_folder);\n",
        "\n",
        "    // Perform a warm-up run to reduce overhead on the first timed iteration\n",
        "    if (!paths.empty()) {\n",
        "        std::cout << \"Warming up CUDA...\" << std::endl;\n",
        "        warm_up();\n",
        "        std::cout << \"Warm-up complete.\" << std::endl;\n",
        "    }\n",
        "\n",
        "    float gaussKernel[9] = {1.f/16, 2.f/16, 1.f/16, 2.f/16, 4.f/16, 2.f/16, 1.f/16, 2.f/16, 1.f/16};\n",
        "\n",
        "    for (const auto& path : paths) {\n",
        "        std::cout << \"Processing: \" << path << std::endl;\n",
        "        cv::TickMeter total_cpu_timer;\n",
        "        total_cpu_timer.start();\n",
        "\n",
        "        cv::Mat img = cv::imread(path, cv::IMREAD_GRAYSCALE);\n",
        "        if (img.empty() || img.type() != CV_8U || img.channels() != 1) {\n",
        "            std::cerr << \"Invalid image: \" << path << std::endl;\n",
        "            continue;\n",
        "        }\n",
        "        int width = img.cols, height = img.rows;\n",
        "        size_t size = width * height * sizeof(uchar);\n",
        "\n",
        "        // ----------- CPU Processing -----------\n",
        "        cv::TickMeter timer_cpu_gauss, timer_cpu_laplace;\n",
        "        cv::Mat cpu_gauss, cpu_laplace;\n",
        "        timer_cpu_gauss.start();\n",
        "        cv::GaussianBlur(img, cpu_gauss, cv::Size(3, 3), 1, 1, cv::BORDER_DEFAULT);\n",
        "        timer_cpu_gauss.stop();\n",
        "\n",
        "        timer_cpu_laplace.start();\n",
        "        cv::Laplacian(cpu_gauss, cpu_laplace, CV_8U, 3, 1, 128); // offset=128\n",
        "        timer_cpu_laplace.stop();\n",
        "\n",
        "        std::string cpu_output = output_folder + \"/\" + std::filesystem::path(path).stem().string() + \"_cpu.bmp\";\n",
        "        if (!cv::imwrite(cpu_output, cpu_laplace)) {\n",
        "            std::cerr << \"Failed to save CPU image: \" << cpu_output << std::endl;\n",
        "        }\n",
        "        total_cpu_timer.stop();\n",
        "\n",
        "        // ----------- GPU Processing -----------\n",
        "        cv::TickMeter timer_gpu_total, timer_gpu_gauss, timer_gpu_laplace;\n",
        "        timer_gpu_total.start();\n",
        "        uchar *d_input, *d_gauss, *d_laplace;\n",
        "        float* d_gkernel;\n",
        "        CHECK_CUDA(cudaMallocManaged(&d_input, size));\n",
        "        CHECK_CUDA(cudaMallocManaged(&d_gauss, size));\n",
        "        CHECK_CUDA(cudaMallocManaged(&d_laplace, size));\n",
        "        CHECK_CUDA(cudaMallocManaged(&d_gkernel, 9 * sizeof(float)));\n",
        "\n",
        "        CHECK_CUDA(cudaMemcpy(d_input, img.data, size, cudaMemcpyHostToDevice));\n",
        "        CHECK_CUDA(cudaMemcpy(d_gkernel, gaussKernel, 9 * sizeof(float), cudaMemcpyHostToDevice));\n",
        "\n",
        "        dim3 block(16,16), grid((width+15)/16, (height+15)/16);\n",
        "\n",
        "        timer_gpu_gauss.start();\n",
        "        gaussian_filter_kernel<<<grid, block>>>(d_input, d_gauss, width, height, d_gkernel);\n",
        "        timer_gpu_gauss.stop();\n",
        "\n",
        "        CHECK_CUDA(cudaDeviceSynchronize());\n",
        "        CHECK_CUDA(cudaGetLastError());\n",
        "\n",
        "        timer_gpu_laplace.start();\n",
        "        laplacian_filter_kernel<<<grid, block>>>(d_gauss, d_laplace, width, height);\n",
        "        timer_gpu_laplace.stop();\n",
        "        CHECK_CUDA(cudaDeviceSynchronize());\n",
        "        CHECK_CUDA(cudaGetLastError());\n",
        "\n",
        "        cv::Mat out(height, width, CV_8U);\n",
        "        CHECK_CUDA(cudaMemcpy(out.data, d_laplace, size, cudaMemcpyDeviceToHost));\n",
        "\n",
        "        std::string gpu_output = output_folder + \"/\" + std::filesystem::path(path).stem().string() + \"_gpu.bmp\";\n",
        "        if (!cv::imwrite(gpu_output, out)) {\n",
        "            std::cerr << \"Failed to save GPU image: \" << gpu_output << std::endl;\n",
        "        }\n",
        "\n",
        "        CHECK_CUDA(cudaFree(d_input));\n",
        "        CHECK_CUDA(cudaFree(d_laplace));\n",
        "        CHECK_CUDA(cudaFree(d_gkernel));\n",
        "        timer_gpu_total.stop();\n",
        "\n",
        "        //total_timer.stop();\n",
        "        // ------- Print stage timings --------\n",
        "        std::cout << \"CPU GaussianBlur:    \" << timer_cpu_gauss.getTimeMilli()    << \" ms\" << std::endl;\n",
        "        std::cout << \"CPU Laplacian:       \" << timer_cpu_laplace.getTimeMilli()  << \" ms\" << std::endl;\n",
        "        std::cout << \"Total image time:    \" << total_cpu_timer.getTimeMilli()    << \" ms\" << std::endl << std::endl;\n",
        "\n",
        "        std::cout << \"GPU Gaussian kernel: \" << timer_gpu_gauss.getTimeMilli()    << \" ms\" << std::endl;\n",
        "        std::cout << \"GPU Laplace kernel: \" << timer_gpu_laplace.getTimeMilli() << \" ms\" << std::endl;\n",
        "        std::cout << \"GPU Total:           \" << timer_gpu_total.getTimeMilli()    << \" ms\" << std::endl;\n",
        "        std::cout << \"\\n\";\n",
        "    }\n",
        "    return 0;\n",
        "}\n"
      ],
      "metadata": {
        "colab": {
          "base_uri": "https://localhost:8080/"
        },
        "id": "SjEFaL4yMdPs",
        "outputId": "66a4b282-8e57-47a9-cc61-07c96ec6ea12"
      },
      "execution_count": 14,
      "outputs": [
        {
          "output_type": "stream",
          "name": "stdout",
          "text": [
            "Overwriting cpu_vs_gpu.cu\n"
          ]
        }
      ]
    },
    {
      "cell_type": "code",
      "source": [
        "%%shell\n",
        "nvcc cpu_vs_gpu.cu -o cpu_vs_gpu $(pkg-config --cflags --libs opencv4) -arch=sm_75"
      ],
      "metadata": {
        "colab": {
          "base_uri": "https://localhost:8080/"
        },
        "id": "aR4Y9rXYMqd-",
        "outputId": "11789b3a-ed83-4279-dcf3-538c297420bf"
      },
      "execution_count": 15,
      "outputs": [
        {
          "output_type": "stream",
          "name": "stdout",
          "text": [
            "\u001b[01m\u001b[0m\u001b[01m/usr/include/opencv4/opencv2/stitching/detail/warpers.hpp(235)\u001b[0m: \u001b[01;35mwarning\u001b[0m #611-D: overloaded virtual function \u001b[01m\"cv::detail::PlaneWarper::buildMaps\"\u001b[0m is only partially overridden in class \u001b[01m\"cv::detail::AffineWarper\"\u001b[0m\n",
            "  class AffineWarper : public PlaneWarper\n",
            "        ^\n",
            "\n",
            "\u001b[01;36m\u001b[0m\u001b[01;36mRemark\u001b[0m: The warnings can be suppressed with \"-diag-suppress <warning-number>\"\n",
            "\n",
            "\u001b[01m\u001b[0m\u001b[01m/usr/include/opencv4/opencv2/stitching/detail/warpers.hpp(235)\u001b[0m: \u001b[01;35mwarning\u001b[0m #611-D: overloaded virtual function \u001b[01m\"cv::detail::PlaneWarper::warp\"\u001b[0m is only partially overridden in class \u001b[01m\"cv::detail::AffineWarper\"\u001b[0m\n",
            "  class AffineWarper : public PlaneWarper\n",
            "        ^\n",
            "\n",
            "\u001b[01m\u001b[0m\u001b[01m/usr/include/opencv4/opencv2/stitching/detail/blenders.hpp(100)\u001b[0m: \u001b[01;35mwarning\u001b[0m #611-D: overloaded virtual function \u001b[01m\"cv::detail::Blender::prepare\"\u001b[0m is only partially overridden in class \u001b[01m\"cv::detail::FeatherBlender\"\u001b[0m\n",
            "  class FeatherBlender : public Blender\n",
            "        ^\n",
            "\n",
            "\u001b[01m\u001b[0m\u001b[01m/usr/include/opencv4/opencv2/stitching/detail/blenders.hpp(127)\u001b[0m: \u001b[01;35mwarning\u001b[0m #611-D: overloaded virtual function \u001b[01m\"cv::detail::Blender::prepare\"\u001b[0m is only partially overridden in class \u001b[01m\"cv::detail::MultiBandBlender\"\u001b[0m\n",
            "  class MultiBandBlender : public Blender\n",
            "        ^\n",
            "\n",
            "\u001b[01m\u001b[0m\u001b[01m/usr/include/opencv4/opencv2/stitching/detail/warpers.hpp(235)\u001b[0m: \u001b[01;35mwarning\u001b[0m #611-D: overloaded virtual function \u001b[01m\"cv::detail::PlaneWarper::buildMaps\"\u001b[0m is only partially overridden in class \u001b[01m\"cv::detail::AffineWarper\"\u001b[0m\n",
            "  class AffineWarper : public PlaneWarper\n",
            "        ^\n",
            "\n",
            "\u001b[01;36m\u001b[0m\u001b[01;36mRemark\u001b[0m: The warnings can be suppressed with \"-diag-suppress <warning-number>\"\n",
            "\n",
            "\u001b[01m\u001b[0m\u001b[01m/usr/include/opencv4/opencv2/stitching/detail/warpers.hpp(235)\u001b[0m: \u001b[01;35mwarning\u001b[0m #611-D: overloaded virtual function \u001b[01m\"cv::detail::PlaneWarper::warp\"\u001b[0m is only partially overridden in class \u001b[01m\"cv::detail::AffineWarper\"\u001b[0m\n",
            "  class AffineWarper : public PlaneWarper\n",
            "        ^\n",
            "\n",
            "\u001b[01m\u001b[0m\u001b[01m/usr/include/opencv4/opencv2/stitching/detail/blenders.hpp(100)\u001b[0m: \u001b[01;35mwarning\u001b[0m #611-D: overloaded virtual function \u001b[01m\"cv::detail::Blender::prepare\"\u001b[0m is only partially overridden in class \u001b[01m\"cv::detail::FeatherBlender\"\u001b[0m\n",
            "  class FeatherBlender : public Blender\n",
            "        ^\n",
            "\n",
            "\u001b[01m\u001b[0m\u001b[01m/usr/include/opencv4/opencv2/stitching/detail/blenders.hpp(127)\u001b[0m: \u001b[01;35mwarning\u001b[0m #611-D: overloaded virtual function \u001b[01m\"cv::detail::Blender::prepare\"\u001b[0m is only partially overridden in class \u001b[01m\"cv::detail::MultiBandBlender\"\u001b[0m\n",
            "  class MultiBandBlender : public Blender\n",
            "        ^\n",
            "\n"
          ]
        },
        {
          "output_type": "execute_result",
          "data": {
            "text/plain": []
          },
          "metadata": {},
          "execution_count": 15
        }
      ]
    },
    {
      "cell_type": "code",
      "source": [
        "%%shell\n",
        "ls -l cpu_vs_gpu"
      ],
      "metadata": {
        "colab": {
          "base_uri": "https://localhost:8080/"
        },
        "id": "R33iXj25MwZt",
        "outputId": "cd28c30c-0bbb-48d8-f557-24edeb994d0d"
      },
      "execution_count": 16,
      "outputs": [
        {
          "output_type": "stream",
          "name": "stdout",
          "text": [
            "-rwxr-xr-x 1 root root 1079864 Aug 15 14:57 cpu_vs_gpu\n"
          ]
        },
        {
          "output_type": "execute_result",
          "data": {
            "text/plain": []
          },
          "metadata": {},
          "execution_count": 16
        }
      ]
    },
    {
      "cell_type": "code",
      "source": [
        "%%shell\n",
        "./cpu_vs_gpu"
      ],
      "metadata": {
        "colab": {
          "base_uri": "https://localhost:8080/"
        },
        "id": "SfoWdlNYM0i_",
        "outputId": "04c859f1-7365-4394-9fb2-a200126afc13"
      },
      "execution_count": 17,
      "outputs": [
        {
          "output_type": "stream",
          "name": "stdout",
          "text": [
            "Warming up CUDA...\n",
            "Warm-up complete.\n",
            "Processing: input_images/greenland_grid_velo.bmp\n",
            "CPU GaussianBlur:    2.22504 ms\n",
            "CPU Laplacian:       1.4323 ms\n",
            "Total image time:    9.58302 ms\n",
            "\n",
            "GPU Gaussian kernel: 0.036262 ms\n",
            "GPU Laplace kernel: 0.012797 ms\n",
            "GPU Total:           3.4869 ms\n",
            "\n",
            "Processing: input_images/lena.bmp\n",
            "CPU GaussianBlur:    0.157529 ms\n",
            "CPU Laplacian:       0.271312 ms\n",
            "Total image time:    1.2947 ms\n",
            "\n",
            "GPU Gaussian kernel: 0.007794 ms\n",
            "GPU Laplace kernel: 0.003726 ms\n",
            "GPU Total:           0.797124 ms\n",
            "\n"
          ]
        },
        {
          "output_type": "execute_result",
          "data": {
            "text/plain": []
          },
          "metadata": {},
          "execution_count": 17
        }
      ]
    },
    {
      "cell_type": "code",
      "source": [
        "%%writefile cpu_vs_gpu_no_warmup.cu\n",
        "\n",
        "#include <opencv2/opencv.hpp>\n",
        "#include <vector>\n",
        "#include <string>\n",
        "#include <filesystem>\n",
        "#include <iostream>\n",
        "#include \"cuda_runtime.h\"\n",
        "\n",
        "std::vector<std::string> get_image_paths(const std::string& folder) {\n",
        "    std::vector<std::string> paths;\n",
        "    for (const auto& entry : std::filesystem::directory_iterator(folder)) {\n",
        "        if (entry.path().extension() == \".bmp\") {\n",
        "            paths.push_back(entry.path().string());\n",
        "        }\n",
        "    }\n",
        "    return paths;\n",
        "}\n",
        "\n",
        "// ----- Gaussian Filter Kernel (CUDA) -----\n",
        "__global__\n",
        "void gaussian_filter_kernel(const uchar* input, uchar* output, int width, int height, const float* kernel) {\n",
        "    int x = blockIdx.x * blockDim.x + threadIdx.x;\n",
        "    int y = blockIdx.y * blockDim.y + threadIdx.y;\n",
        "    if (x >= width || y >= height) return;\n",
        "    float sum = 0, kSum = 0;\n",
        "    for (int dy = -1; dy <= 1; ++dy) {\n",
        "        for (int dx = -1; dx <= 1; ++dx) {\n",
        "            int ix = min(max(x+dx,0), width-1);\n",
        "            int iy = min(max(y+dy,0), height-1);\n",
        "            float k = kernel[(dy+1)*3 + (dx+1)];\n",
        "            sum += input[iy*width + ix] * k;\n",
        "            kSum += k;\n",
        "        }\n",
        "    }\n",
        "    float result = kSum > 0 ? sum / kSum : 0;\n",
        "    // Clamp and convert\n",
        "    result = min(max(result, 0.f), 255.f);\n",
        "    output[y*width + x] = static_cast<uchar>(result);\n",
        "}\n",
        "\n",
        "// ----- Laplacian Edge Detection Kernel (CUDA) -----\n",
        "__global__\n",
        "void laplacian_filter_kernel(const uchar* input, uchar* output, int width, int height) {\n",
        "    int kernel[3][3] = { {-1,-1,-1}, {-1,8,-1}, {-1,-1,-1} };\n",
        "    int x = blockIdx.x * blockDim.x + threadIdx.x;\n",
        "    int y = blockIdx.y * blockDim.y + threadIdx.y;\n",
        "    if (x >= width || y >= height) return;\n",
        "    int sum = 0;\n",
        "    for (int dy = -1; dy <= 1; ++dy) {\n",
        "        for (int dx = -1; dx <= 1; ++dx) {\n",
        "            int ix = min(max(x+dx,0), width-1);\n",
        "            int iy = min(max(y+dy,0), height-1);\n",
        "            sum += input[iy*width + ix] * kernel[dy+1][dx+1];\n",
        "        }\n",
        "    }\n",
        "    // Offset and clamp\n",
        "    int result = sum + 128;\n",
        "    result = min(max(result, 0), 255);\n",
        "    output[y*width + x] = static_cast<uchar>(result);\n",
        "}\n",
        "\n",
        "#define CHECK_CUDA(call) \\\n",
        "    { \\\n",
        "        cudaError_t err = call; \\\n",
        "        if (err != cudaSuccess) { \\\n",
        "            std::cerr << \"CUDA error: \" << cudaGetErrorString(err) << \" at \" << __FILE__ << \":\" << __LINE__ << std::endl; \\\n",
        "            exit(1); \\\n",
        "        } \\\n",
        "    }\n",
        "\n",
        "int main() {\n",
        "    std::string input_folder = \"input_images\";\n",
        "    std::string output_folder = \"output_images\";\n",
        "    auto paths = get_image_paths(input_folder);\n",
        "\n",
        "    float gaussKernel[9] = {1.f/16, 2.f/16, 1.f/16, 2.f/16, 4.f/16, 2.f/16, 1.f/16, 2.f/16, 1.f/16};\n",
        "\n",
        "    for (const auto& path : paths) {\n",
        "        std::cout << \"Processing: \" << path << std::endl;\n",
        "        cv::TickMeter total_cpu_timer;\n",
        "        total_cpu_timer.start();\n",
        "\n",
        "        cv::Mat img = cv::imread(path, cv::IMREAD_GRAYSCALE);\n",
        "        if (img.empty() || img.type() != CV_8U || img.channels() != 1) {\n",
        "            std::cerr << \"Invalid image: \" << path << std::endl;\n",
        "            continue;\n",
        "        }\n",
        "        int width = img.cols, height = img.rows;\n",
        "        size_t size = width * height * sizeof(uchar);\n",
        "\n",
        "        // ----------- CPU Processing -----------\n",
        "        cv::TickMeter timer_cpu_gauss, timer_cpu_laplace;\n",
        "        cv::Mat cpu_gauss, cpu_laplace;\n",
        "        timer_cpu_gauss.start();\n",
        "        cv::GaussianBlur(img, cpu_gauss, cv::Size(3, 3), 1, 1, cv::BORDER_DEFAULT);\n",
        "        timer_cpu_gauss.stop();\n",
        "\n",
        "        timer_cpu_laplace.start();\n",
        "        cv::Laplacian(cpu_gauss, cpu_laplace, CV_8U, 3, 1, 128); // offset=128\n",
        "        timer_cpu_laplace.stop();\n",
        "\n",
        "        std::string cpu_output = output_folder + \"/\" + std::filesystem::path(path).stem().string() + \"_cpu.bmp\";\n",
        "        if (!cv::imwrite(cpu_output, cpu_laplace)) {\n",
        "            std::cerr << \"Failed to save CPU image: \" << cpu_output << std::endl;\n",
        "        }\n",
        "        total_cpu_timer.stop();\n",
        "\n",
        "        // ----------- GPU Processing -----------\n",
        "        cv::TickMeter timer_gpu_total, timer_gpu_gauss, timer_gpu_laplace;\n",
        "        timer_gpu_total.start();\n",
        "        uchar *d_input, *d_gauss, *d_laplace;\n",
        "        float* d_gkernel;\n",
        "        CHECK_CUDA(cudaMallocManaged(&d_input, size));\n",
        "        CHECK_CUDA(cudaMallocManaged(&d_gauss, size));\n",
        "        CHECK_CUDA(cudaMallocManaged(&d_laplace, size));\n",
        "        CHECK_CUDA(cudaMallocManaged(&d_gkernel, 9 * sizeof(float)));\n",
        "\n",
        "        CHECK_CUDA(cudaMemcpy(d_input, img.data, size, cudaMemcpyHostToDevice));\n",
        "        CHECK_CUDA(cudaMemcpy(d_gkernel, gaussKernel, 9 * sizeof(float), cudaMemcpyHostToDevice));\n",
        "\n",
        "        dim3 block(16,16), grid((width+15)/16, (height+15)/16);\n",
        "\n",
        "        timer_gpu_gauss.start();\n",
        "        gaussian_filter_kernel<<<grid, block>>>(d_input, d_gauss, width, height, d_gkernel);\n",
        "        timer_gpu_gauss.stop();\n",
        "\n",
        "        CHECK_CUDA(cudaDeviceSynchronize());\n",
        "        CHECK_CUDA(cudaGetLastError());\n",
        "\n",
        "        timer_gpu_laplace.start();\n",
        "        laplacian_filter_kernel<<<grid, block>>>(d_gauss, d_laplace, width, height);\n",
        "        timer_gpu_laplace.stop();\n",
        "        CHECK_CUDA(cudaDeviceSynchronize());\n",
        "        CHECK_CUDA(cudaGetLastError());\n",
        "\n",
        "        cv::Mat out(height, width, CV_8U);\n",
        "        CHECK_CUDA(cudaMemcpy(out.data, d_laplace, size, cudaMemcpyDeviceToHost));\n",
        "\n",
        "        std::string gpu_output = output_folder + \"/\" + std::filesystem::path(path).stem().string() + \"_gpu.bmp\";\n",
        "        if (!cv::imwrite(gpu_output, out)) {\n",
        "            std::cerr << \"Failed to save GPU image: \" << gpu_output << std::endl;\n",
        "        }\n",
        "\n",
        "        CHECK_CUDA(cudaFree(d_input));\n",
        "        CHECK_CUDA(cudaFree(d_laplace));\n",
        "        CHECK_CUDA(cudaFree(d_gkernel));\n",
        "        timer_gpu_total.stop();\n",
        "\n",
        "        //total_timer.stop();\n",
        "        // ------- Print stage timings --------\n",
        "        std::cout << \"CPU GaussianBlur:    \" << timer_cpu_gauss.getTimeMilli()    << \" ms\" << std::endl;\n",
        "        std::cout << \"CPU Laplacian:       \" << timer_cpu_laplace.getTimeMilli()  << \" ms\" << std::endl;\n",
        "        std::cout << \"Total image time:    \" << total_cpu_timer.getTimeMilli()    << \" ms\" << std::endl << std::endl;\n",
        "\n",
        "        std::cout << \"GPU Gaussian kernel: \" << timer_gpu_gauss.getTimeMilli()    << \" ms\" << std::endl;\n",
        "        std::cout << \"GPU Laplace kernel: \" << timer_gpu_laplace.getTimeMilli() << \" ms\" << std::endl;\n",
        "        std::cout << \"GPU Total:           \" << timer_gpu_total.getTimeMilli()    << \" ms\" << std::endl;\n",
        "        std::cout << \"\\n\";\n",
        "    }\n",
        "    return 0;\n",
        "}\n"
      ],
      "metadata": {
        "colab": {
          "base_uri": "https://localhost:8080/"
        },
        "id": "7EvniZ18M7Sk",
        "outputId": "c1a62679-3f04-4b74-e809-d77f30eebe13"
      },
      "execution_count": 10,
      "outputs": [
        {
          "output_type": "stream",
          "name": "stdout",
          "text": [
            "Writing cpu_vs_gpu_no_warmup.cu\n"
          ]
        }
      ]
    },
    {
      "cell_type": "code",
      "source": [
        "%%shell\n",
        "nvcc cpu_vs_gpu_no_warmup.cu -o cpu_vs_gpu_no_warmup $(pkg-config --cflags --libs opencv4) -arch=sm_75"
      ],
      "metadata": {
        "colab": {
          "base_uri": "https://localhost:8080/"
        },
        "id": "hgq1dRJ0NFb7",
        "outputId": "4b5a9403-9006-42de-cd90-ef88b9fe260d"
      },
      "execution_count": 18,
      "outputs": [
        {
          "output_type": "stream",
          "name": "stdout",
          "text": [
            "\u001b[01m\u001b[0m\u001b[01m/usr/include/opencv4/opencv2/stitching/detail/warpers.hpp(235)\u001b[0m: \u001b[01;35mwarning\u001b[0m #611-D: overloaded virtual function \u001b[01m\"cv::detail::PlaneWarper::buildMaps\"\u001b[0m is only partially overridden in class \u001b[01m\"cv::detail::AffineWarper\"\u001b[0m\n",
            "  class AffineWarper : public PlaneWarper\n",
            "        ^\n",
            "\n",
            "\u001b[01;36m\u001b[0m\u001b[01;36mRemark\u001b[0m: The warnings can be suppressed with \"-diag-suppress <warning-number>\"\n",
            "\n",
            "\u001b[01m\u001b[0m\u001b[01m/usr/include/opencv4/opencv2/stitching/detail/warpers.hpp(235)\u001b[0m: \u001b[01;35mwarning\u001b[0m #611-D: overloaded virtual function \u001b[01m\"cv::detail::PlaneWarper::warp\"\u001b[0m is only partially overridden in class \u001b[01m\"cv::detail::AffineWarper\"\u001b[0m\n",
            "  class AffineWarper : public PlaneWarper\n",
            "        ^\n",
            "\n",
            "\u001b[01m\u001b[0m\u001b[01m/usr/include/opencv4/opencv2/stitching/detail/blenders.hpp(100)\u001b[0m: \u001b[01;35mwarning\u001b[0m #611-D: overloaded virtual function \u001b[01m\"cv::detail::Blender::prepare\"\u001b[0m is only partially overridden in class \u001b[01m\"cv::detail::FeatherBlender\"\u001b[0m\n",
            "  class FeatherBlender : public Blender\n",
            "        ^\n",
            "\n",
            "\u001b[01m\u001b[0m\u001b[01m/usr/include/opencv4/opencv2/stitching/detail/blenders.hpp(127)\u001b[0m: \u001b[01;35mwarning\u001b[0m #611-D: overloaded virtual function \u001b[01m\"cv::detail::Blender::prepare\"\u001b[0m is only partially overridden in class \u001b[01m\"cv::detail::MultiBandBlender\"\u001b[0m\n",
            "  class MultiBandBlender : public Blender\n",
            "        ^\n",
            "\n",
            "\u001b[01m\u001b[0m\u001b[01m/usr/include/opencv4/opencv2/stitching/detail/warpers.hpp(235)\u001b[0m: \u001b[01;35mwarning\u001b[0m #611-D: overloaded virtual function \u001b[01m\"cv::detail::PlaneWarper::buildMaps\"\u001b[0m is only partially overridden in class \u001b[01m\"cv::detail::AffineWarper\"\u001b[0m\n",
            "  class AffineWarper : public PlaneWarper\n",
            "        ^\n",
            "\n",
            "\u001b[01;36m\u001b[0m\u001b[01;36mRemark\u001b[0m: The warnings can be suppressed with \"-diag-suppress <warning-number>\"\n",
            "\n",
            "\u001b[01m\u001b[0m\u001b[01m/usr/include/opencv4/opencv2/stitching/detail/warpers.hpp(235)\u001b[0m: \u001b[01;35mwarning\u001b[0m #611-D: overloaded virtual function \u001b[01m\"cv::detail::PlaneWarper::warp\"\u001b[0m is only partially overridden in class \u001b[01m\"cv::detail::AffineWarper\"\u001b[0m\n",
            "  class AffineWarper : public PlaneWarper\n",
            "        ^\n",
            "\n",
            "\u001b[01m\u001b[0m\u001b[01m/usr/include/opencv4/opencv2/stitching/detail/blenders.hpp(100)\u001b[0m: \u001b[01;35mwarning\u001b[0m #611-D: overloaded virtual function \u001b[01m\"cv::detail::Blender::prepare\"\u001b[0m is only partially overridden in class \u001b[01m\"cv::detail::FeatherBlender\"\u001b[0m\n",
            "  class FeatherBlender : public Blender\n",
            "        ^\n",
            "\n",
            "\u001b[01m\u001b[0m\u001b[01m/usr/include/opencv4/opencv2/stitching/detail/blenders.hpp(127)\u001b[0m: \u001b[01;35mwarning\u001b[0m #611-D: overloaded virtual function \u001b[01m\"cv::detail::Blender::prepare\"\u001b[0m is only partially overridden in class \u001b[01m\"cv::detail::MultiBandBlender\"\u001b[0m\n",
            "  class MultiBandBlender : public Blender\n",
            "        ^\n",
            "\n"
          ]
        },
        {
          "output_type": "execute_result",
          "data": {
            "text/plain": []
          },
          "metadata": {},
          "execution_count": 18
        }
      ]
    },
    {
      "cell_type": "code",
      "source": [
        "%%shell\n",
        "ls -l cpu_vs_gpu_no_warmup"
      ],
      "metadata": {
        "colab": {
          "base_uri": "https://localhost:8080/"
        },
        "id": "GvUZdyOlNKnk",
        "outputId": "977d8f38-8749-4bc8-ac58-9e5dd8be446c"
      },
      "execution_count": 19,
      "outputs": [
        {
          "output_type": "stream",
          "name": "stdout",
          "text": [
            "-rwxr-xr-x 1 root root 1070512 Aug 15 14:58 cpu_vs_gpu_no_warmup\n"
          ]
        },
        {
          "output_type": "execute_result",
          "data": {
            "text/plain": []
          },
          "metadata": {},
          "execution_count": 19
        }
      ]
    },
    {
      "cell_type": "code",
      "source": [
        "%%shell\n",
        "./cpu_vs_gpu_no_warmup"
      ],
      "metadata": {
        "colab": {
          "base_uri": "https://localhost:8080/"
        },
        "id": "P-8cDywsNNha",
        "outputId": "62e21621-3681-423b-a4f1-932327125882"
      },
      "execution_count": 20,
      "outputs": [
        {
          "output_type": "stream",
          "name": "stdout",
          "text": [
            "Processing: input_images/greenland_grid_velo.bmp\n",
            "CPU GaussianBlur:    3.45945 ms\n",
            "CPU Laplacian:       1.71704 ms\n",
            "Total image time:    14.4 ms\n",
            "\n",
            "GPU Gaussian kernel: 0.120837 ms\n",
            "GPU Laplace kernel: 0.012496 ms\n",
            "GPU Total:           116.259 ms\n",
            "\n",
            "Processing: input_images/lena.bmp\n",
            "CPU GaussianBlur:    0.205313 ms\n",
            "CPU Laplacian:       0.266634 ms\n",
            "Total image time:    1.40993 ms\n",
            "\n",
            "GPU Gaussian kernel: 0.007113 ms\n",
            "GPU Laplace kernel: 0.004496 ms\n",
            "GPU Total:           0.836995 ms\n",
            "\n"
          ]
        },
        {
          "output_type": "execute_result",
          "data": {
            "text/plain": []
          },
          "metadata": {},
          "execution_count": 20
        }
      ]
    }
  ]
}