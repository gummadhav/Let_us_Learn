{
  "nbformat": 4,
  "nbformat_minor": 0,
  "metadata": {
    "colab": {
      "provenance": [],
      "gpuType": "T4",
      "authorship_tag": "ABX9TyPopoRDj+ElGBNj16XSpahv",
      "include_colab_link": true
    },
    "kernelspec": {
      "name": "python3",
      "display_name": "Python 3"
    },
    "language_info": {
      "name": "python"
    },
    "accelerator": "GPU"
  },
  "cells": [
    {
      "cell_type": "markdown",
      "metadata": {
        "id": "view-in-github",
        "colab_type": "text"
      },
      "source": [
        "<a href=\"https://colab.research.google.com/github/gummadhav/Let_us_Learn/blob/main/CUDA_Streams_Tutorial.ipynb\" target=\"_parent\"><img src=\"https://colab.research.google.com/assets/colab-badge.svg\" alt=\"Open In Colab\"/></a>"
      ]
    },
    {
      "cell_type": "code",
      "execution_count": 1,
      "metadata": {
        "colab": {
          "base_uri": "https://localhost:8080/"
        },
        "id": "nz9gPauJLaHk",
        "outputId": "c18300cc-04cb-4616-cb7a-daa20ec14a73"
      },
      "outputs": [
        {
          "output_type": "stream",
          "name": "stdout",
          "text": [
            "/bin/bash: line 1: fg: no job control\n",
            "Hit:1 https://developer.download.nvidia.com/compute/cuda/repos/ubuntu2204/x86_64  InRelease\n",
            "Get:2 https://cloud.r-project.org/bin/linux/ubuntu jammy-cran40/ InRelease [3,632 B]\n",
            "Get:3 https://cli.github.com/packages stable InRelease [3,917 B]\n",
            "Get:4 http://security.ubuntu.com/ubuntu jammy-security InRelease [129 kB]\n",
            "Get:5 https://r2u.stat.illinois.edu/ubuntu jammy InRelease [6,555 B]\n",
            "Get:6 https://cli.github.com/packages stable/main amd64 Packages [346 B]\n",
            "Hit:7 http://archive.ubuntu.com/ubuntu jammy InRelease\n",
            "Get:8 https://r2u.stat.illinois.edu/ubuntu jammy/main amd64 Packages [2,780 kB]\n",
            "Get:9 http://archive.ubuntu.com/ubuntu jammy-updates InRelease [128 kB]\n",
            "Get:10 http://security.ubuntu.com/ubuntu jammy-security/universe amd64 Packages [1,271 kB]\n",
            "Hit:11 https://ppa.launchpadcontent.net/deadsnakes/ppa/ubuntu jammy InRelease\n",
            "Get:12 http://archive.ubuntu.com/ubuntu jammy-backports InRelease [127 kB]\n",
            "Hit:13 https://ppa.launchpadcontent.net/graphics-drivers/ppa/ubuntu jammy InRelease\n",
            "Get:14 https://r2u.stat.illinois.edu/ubuntu jammy/main all Packages [9,190 kB]\n",
            "Get:15 http://security.ubuntu.com/ubuntu jammy-security/main amd64 Packages [3,253 kB]\n",
            "Get:16 http://archive.ubuntu.com/ubuntu jammy-updates/main amd64 Packages [3,569 kB]\n",
            "Hit:17 https://ppa.launchpadcontent.net/ubuntugis/ppa/ubuntu jammy InRelease\n",
            "Get:18 http://archive.ubuntu.com/ubuntu jammy-updates/restricted amd64 Packages [5,430 kB]\n",
            "Get:19 http://archive.ubuntu.com/ubuntu jammy-updates/universe amd64 Packages [1,575 kB]\n",
            "Fetched 27.5 MB in 2s (14.3 MB/s)\n",
            "Reading package lists... Done\n",
            "W: Skipping acquire of configured file 'main/source/Sources' as repository 'https://r2u.stat.illinois.edu/ubuntu jammy InRelease' does not seem to provide it (sources.list entry misspelt?)\n",
            "Reading package lists... Done\n",
            "Building dependency tree... Done\n",
            "Reading state information... Done\n",
            "build-essential is already the newest version (12.9ubuntu3).\n",
            "0 upgraded, 0 newly installed, 0 to remove and 45 not upgraded.\n",
            "Reading package lists... Done\n",
            "Building dependency tree... Done\n",
            "Reading state information... Done\n",
            "libopencv-dev is already the newest version (4.5.4+dfsg-9ubuntu4+jammy1).\n",
            "Suggested packages:\n",
            "  python-numpy-doc python3-pytest\n",
            "The following NEW packages will be installed:\n",
            "  python3-numpy python3-opencv\n",
            "0 upgraded, 2 newly installed, 0 to remove and 45 not upgraded.\n",
            "Need to get 5,274 kB of archives.\n",
            "After this operation, 27.1 MB of additional disk space will be used.\n",
            "Get:1 http://archive.ubuntu.com/ubuntu jammy-updates/main amd64 python3-numpy amd64 1:1.21.5-1ubuntu22.04.1 [3,467 kB]\n",
            "Get:2 https://ppa.launchpadcontent.net/ubuntugis/ppa/ubuntu jammy/main amd64 python3-opencv amd64 4.5.4+dfsg-9ubuntu4+jammy1 [1,807 kB]\n",
            "Fetched 5,274 kB in 5s (1,143 kB/s)\n",
            "Selecting previously unselected package python3-numpy.\n",
            "(Reading database ... 126371 files and directories currently installed.)\n",
            "Preparing to unpack .../python3-numpy_1%3a1.21.5-1ubuntu22.04.1_amd64.deb ...\n",
            "Unpacking python3-numpy (1:1.21.5-1ubuntu22.04.1) ...\n",
            "Selecting previously unselected package python3-opencv:amd64.\n",
            "Preparing to unpack .../python3-opencv_4.5.4+dfsg-9ubuntu4+jammy1_amd64.deb ...\n",
            "Unpacking python3-opencv:amd64 (4.5.4+dfsg-9ubuntu4+jammy1) ...\n",
            "Setting up python3-numpy (1:1.21.5-1ubuntu22.04.1) ...\n",
            "Setting up python3-opencv:amd64 (4.5.4+dfsg-9ubuntu4+jammy1) ...\n",
            "4.5.4\n"
          ]
        },
        {
          "output_type": "execute_result",
          "data": {
            "text/plain": []
          },
          "metadata": {},
          "execution_count": 1
        }
      ],
      "source": [
        "%%shell\n",
        "%%shell\n",
        "# Update package lists\n",
        "apt-get update\n",
        "\n",
        "# Install essential build tools (if not already present, good practice)\n",
        "apt-get install -y build-essential\n",
        "\n",
        "# Install OpenCV development libraries (C++ headers and shared libraries)\n",
        "# 'libopencv-dev' provides the development files\n",
        "# 'python3-opencv' is for Python, but sometimes pulled in as a dependency\n",
        "apt-get install -y libopencv-dev python3-opencv\n",
        "\n",
        "# Verify OpenCV version (optional, but good for checking)\n",
        "pkg-config --modversion opencv4 # For OpenCV 4.x\n",
        "# Or for older versions: pkg-config --modversion opencv"
      ]
    },
    {
      "cell_type": "code",
      "source": [
        "!pip install nvcc4jupyter"
      ],
      "metadata": {
        "colab": {
          "base_uri": "https://localhost:8080/"
        },
        "id": "UnnxLRDjuKRL",
        "outputId": "6ad6e766-50e1-4cf6-9159-182b179c1332"
      },
      "execution_count": 2,
      "outputs": [
        {
          "output_type": "stream",
          "name": "stdout",
          "text": [
            "Collecting nvcc4jupyter\n",
            "  Downloading nvcc4jupyter-1.2.1-py3-none-any.whl.metadata (5.1 kB)\n",
            "Downloading nvcc4jupyter-1.2.1-py3-none-any.whl (10 kB)\n",
            "Installing collected packages: nvcc4jupyter\n",
            "Successfully installed nvcc4jupyter-1.2.1\n"
          ]
        }
      ]
    },
    {
      "cell_type": "code",
      "source": [
        "%load_ext nvcc4jupyter"
      ],
      "metadata": {
        "colab": {
          "base_uri": "https://localhost:8080/"
        },
        "id": "G7XM0QtJuNHI",
        "outputId": "1bacd803-1563-4214-e8b1-d52a0a54c5b0"
      },
      "execution_count": 3,
      "outputs": [
        {
          "output_type": "stream",
          "name": "stdout",
          "text": [
            "Detected platform \"Colab\". Running its setup...\n",
            "Source files will be saved in \"/tmp/tmpbx42cyrs\".\n"
          ]
        }
      ]
    },
    {
      "cell_type": "code",
      "source": [
        "%%shell\n",
        "nvcc --version"
      ],
      "metadata": {
        "colab": {
          "base_uri": "https://localhost:8080/"
        },
        "id": "M3DplYFyuPoa",
        "outputId": "e3ac9278-d5c2-41aa-a1bb-e59d7261e301"
      },
      "execution_count": 4,
      "outputs": [
        {
          "output_type": "stream",
          "name": "stdout",
          "text": [
            "nvcc: NVIDIA (R) Cuda compiler driver\n",
            "Copyright (c) 2005-2024 NVIDIA Corporation\n",
            "Built on Thu_Jun__6_02:18:23_PDT_2024\n",
            "Cuda compilation tools, release 12.5, V12.5.82\n",
            "Build cuda_12.5.r12.5/compiler.34385749_0\n"
          ]
        },
        {
          "output_type": "execute_result",
          "data": {
            "text/plain": []
          },
          "metadata": {},
          "execution_count": 4
        }
      ]
    },
    {
      "cell_type": "code",
      "source": [
        "%%shell\n",
        "nvidia-smi"
      ],
      "metadata": {
        "colab": {
          "base_uri": "https://localhost:8080/"
        },
        "id": "-2q0wL7SuUeS",
        "outputId": "126bdaf9-fdba-4f7e-eacd-9659eeb0481d"
      },
      "execution_count": 1,
      "outputs": [
        {
          "output_type": "stream",
          "name": "stdout",
          "text": [
            "Fri Aug 22 17:09:33 2025       \n",
            "+-----------------------------------------------------------------------------------------+\n",
            "| NVIDIA-SMI 550.54.15              Driver Version: 550.54.15      CUDA Version: 12.4     |\n",
            "|-----------------------------------------+------------------------+----------------------+\n",
            "| GPU  Name                 Persistence-M | Bus-Id          Disp.A | Volatile Uncorr. ECC |\n",
            "| Fan  Temp   Perf          Pwr:Usage/Cap |           Memory-Usage | GPU-Util  Compute M. |\n",
            "|                                         |                        |               MIG M. |\n",
            "|=========================================+========================+======================|\n",
            "|   0  Tesla T4                       Off |   00000000:00:04.0 Off |                    0 |\n",
            "| N/A   51C    P8             10W /   70W |       0MiB /  15360MiB |      0%      Default |\n",
            "|                                         |                        |                  N/A |\n",
            "+-----------------------------------------+------------------------+----------------------+\n",
            "                                                                                         \n",
            "+-----------------------------------------------------------------------------------------+\n",
            "| Processes:                                                                              |\n",
            "|  GPU   GI   CI        PID   Type   Process name                              GPU Memory |\n",
            "|        ID   ID                                                               Usage      |\n",
            "|=========================================================================================|\n",
            "|  No running processes found                                                             |\n",
            "+-----------------------------------------------------------------------------------------+\n"
          ]
        },
        {
          "output_type": "execute_result",
          "data": {
            "text/plain": []
          },
          "metadata": {},
          "execution_count": 1
        }
      ]
    },
    {
      "cell_type": "code",
      "source": [
        "%%writefile gpu_with_threaded_CUDA_Streams.cu\n",
        "\n",
        "#include <opencv2/opencv.hpp>\n",
        "#include <vector>\n",
        "#include <string>\n",
        "#include <filesystem>\n",
        "#include <iostream>\n",
        "#include <queue>\n",
        "#include <mutex>\n",
        "#include <thread>\n",
        "#include <atomic>\n",
        "#include \"cuda_runtime.h\"\n",
        "\n",
        "#define MAX_STREAMS 4\n",
        "\n",
        "// Utility: get image paths from folder\n",
        "std::vector<std::string> get_image_paths(const std::string& folder) {\n",
        "    std::vector<std::string> paths;\n",
        "    for (const auto& entry : std::filesystem::directory_iterator(folder)) {\n",
        "        if (entry.path().extension() == \".bmp\") {\n",
        "            paths.push_back(entry.path().string());\n",
        "        }\n",
        "    }\n",
        "    return paths;\n",
        "}\n",
        "\n",
        "// CUDA Gaussian Filter kernel\n",
        "__global__\n",
        "void gaussian_filter_kernel(const uchar* input, uchar* output, int width, int height, const float* kernel) {\n",
        "    int x = blockIdx.x * blockDim.x + threadIdx.x;\n",
        "    int y = blockIdx.y * blockDim.y + threadIdx.y;\n",
        "    if (x >= width || y >= height) return;\n",
        "    float sum = 0, kSum = 0;\n",
        "    for (int dy = -1; dy <= 1; ++dy) {\n",
        "        for (int dx = -1; dx <= 1; ++dx) {\n",
        "            int ix = min(max(x+dx,0), width-1);\n",
        "            int iy = min(max(y+dy,0), height-1);\n",
        "            float k = kernel[(dy+1)*3 + (dx+1)];\n",
        "            sum += input[iy*width + ix] * k;\n",
        "            kSum += k;\n",
        "        }\n",
        "    }\n",
        "    float result = kSum > 0 ? sum / kSum : 0;\n",
        "    result = min(max(result, 0.0f), 255.0f);\n",
        "    output[y*width + x] = static_cast<uchar>(result);\n",
        "}\n",
        "\n",
        "__global__\n",
        "void laplacian_filter_kernel(const uchar* input, uchar* output, int width, int height) {\n",
        "    int kernel[3][3] = { {-1,-1,-1}, {-1,8,-1}, {-1,-1,-1} };\n",
        "    int x = blockIdx.x * blockDim.x + threadIdx.x;\n",
        "    int y = blockIdx.y * blockDim.y + threadIdx.y;\n",
        "    if (x >= width || y >= height) return;\n",
        "    int sum = 0;\n",
        "    for (int dy = -1; dy <= 1; ++dy) {\n",
        "        for (int dx = -1; dx <= 1; ++dx) {\n",
        "            int ix = min(max(x+dx,0), width-1);\n",
        "            int iy = min(max(y+dy,0), height-1);\n",
        "            sum += input[iy*width + ix] * kernel[dy+1][dx+1];\n",
        "        }\n",
        "    }\n",
        "    int result = sum + 128;\n",
        "    result = min(max(result, 0), 255);\n",
        "    output[y*width + x] = static_cast<uchar>(result);\n",
        "}\n",
        "\n",
        "#define CHECK_CUDA(call) \\\n",
        "    { \\\n",
        "        cudaError_t err = call; \\\n",
        "        if (err != cudaSuccess) { \\\n",
        "            std::cerr << \"CUDA error: \" << cudaGetErrorString(err) << \" at \" << __FILE__ << \":\" << __LINE__ << std::endl; \\\n",
        "            exit(1); \\\n",
        "        } \\\n",
        "    }\n",
        "\n",
        "// Empty kernel for warm-up\n",
        "__global__ void empty_kernel(int* p) { *p = 1; }\n",
        "\n",
        "// Warm-up function\n",
        "void warm_up() {\n",
        "    std::cout << \"Warming up CUDA...\" << std::endl;\n",
        "    int* d_temp;\n",
        "    CHECK_CUDA(cudaMalloc(&d_temp, sizeof(int)));\n",
        "    empty_kernel<<<1, 1>>>(d_temp);  // Launch any small dummy kernel\n",
        "    CHECK_CUDA(cudaDeviceSynchronize());\n",
        "    CHECK_CUDA(cudaFree(d_temp));\n",
        "    std::cout << \"Warm-up complete.\" << std::endl;\n",
        "}\n",
        "\n",
        "// Buffer struct per image\n",
        "struct DeviceBuffers {\n",
        "    uchar *d_input = nullptr, *d_gauss = nullptr, *d_laplace = nullptr;\n",
        "    float *d_gkernel = nullptr;\n",
        "    cudaStream_t stream = nullptr;\n",
        "    cudaEvent_t event_start = nullptr, event_stop = nullptr;\n",
        "    int width = 0, height = 0;\n",
        "    size_t size = 0;\n",
        "};\n",
        "\n",
        "std::queue<std::string> image_queue;\n",
        "std::mutex queue_mutex;\n",
        "std::atomic<int> images_processed(0);\n",
        "\n",
        "// Per-image GPU worker\n",
        "void process_image_gpu(const std::string& path, const float* gaussKernel, const std::string& output_folder) {\n",
        "    cv::Mat img = cv::imread(path, cv::IMREAD_GRAYSCALE);\n",
        "    if (img.empty() || img.type() != CV_8U || img.channels() != 1) {\n",
        "        std::cerr << \"Invalid image: \" << path << std::endl;\n",
        "        return;\n",
        "    }\n",
        "    int width = img.cols, height = img.rows;\n",
        "    size_t size = width * height * sizeof(uchar);\n",
        "\n",
        "    // Allocate device buffers and stream/events\n",
        "    DeviceBuffers db;\n",
        "    db.width = width;\n",
        "    db.height = height;\n",
        "    db.size = size;\n",
        "\n",
        "    CHECK_CUDA(cudaMalloc(&db.d_input, size));\n",
        "    CHECK_CUDA(cudaMalloc(&db.d_gauss, size));\n",
        "    CHECK_CUDA(cudaMalloc(&db.d_laplace, size));\n",
        "    CHECK_CUDA(cudaMalloc(&db.d_gkernel, 9 * sizeof(float)));\n",
        "\n",
        "    CHECK_CUDA(cudaStreamCreate(&db.stream));\n",
        "    CHECK_CUDA(cudaEventCreate(&db.event_start));\n",
        "    CHECK_CUDA(cudaEventCreate(&db.event_stop));\n",
        "\n",
        "    // Copy data to device asynchronously\n",
        "    CHECK_CUDA(cudaMemcpyAsync(db.d_input, img.data, size, cudaMemcpyHostToDevice, db.stream));\n",
        "    CHECK_CUDA(cudaMemcpyAsync(db.d_gkernel, gaussKernel, 9 * sizeof(float), cudaMemcpyHostToDevice, db.stream));\n",
        "\n",
        "    dim3 block(16,16), grid((width+15)/16, (height+15)/16);\n",
        "\n",
        "    // Timing start\n",
        "    CHECK_CUDA(cudaEventRecord(db.event_start, db.stream));\n",
        "\n",
        "    gaussian_filter_kernel<<<grid, block, 0, db.stream>>>(db.d_input, db.d_gauss, width, height, db.d_gkernel);\n",
        "    laplacian_filter_kernel<<<grid, block, 0, db.stream>>>(db.d_gauss, db.d_laplace, width, height);\n",
        "\n",
        "    // Timing stop\n",
        "    CHECK_CUDA(cudaEventRecord(db.event_stop, db.stream));\n",
        "    CHECK_CUDA(cudaGetLastError()); // Check for kernel errors after recording stop event\n",
        "\n",
        "    // Copy output to host asynchronously\n",
        "    cv::Mat out(height, width, CV_8U);\n",
        "    CHECK_CUDA(cudaMemcpyAsync(out.data, db.d_laplace, size, cudaMemcpyDeviceToHost, db.stream));\n",
        "\n",
        "    // Wait for all GPU operations\n",
        "    CHECK_CUDA(cudaStreamSynchronize(db.stream));\n",
        "    CHECK_CUDA(cudaGetLastError());\n",
        "\n",
        "    // Timing calculation\n",
        "    float kernel_ms = 0;\n",
        "    CHECK_CUDA(cudaEventElapsedTime(&kernel_ms, db.event_start, db.event_stop));\n",
        "\n",
        "    // Save the image\n",
        "    std::string gpu_output = output_folder + \"/\" + std::filesystem::path(path).stem().string() + \"_gpu.bmp\";\n",
        "    if (!cv::imwrite(gpu_output, out)) {\n",
        "        std::cerr << \"Failed to save GPU image: \" << gpu_output << std::endl;\n",
        "    }\n",
        "\n",
        "    std::cout << \"Processed [\" << path << \"] with GPU kernel time: \" << kernel_ms << \" ms\" << std::endl;\n",
        "\n",
        "    // Clean up\n",
        "    CHECK_CUDA(cudaFree(db.d_input));\n",
        "    CHECK_CUDA(cudaFree(db.d_gauss));\n",
        "    CHECK_CUDA(cudaFree(db.d_laplace));\n",
        "    CHECK_CUDA(cudaFree(db.d_gkernel));\n",
        "    CHECK_CUDA(cudaEventDestroy(db.event_start));\n",
        "    CHECK_CUDA(cudaEventDestroy(db.event_stop));\n",
        "    CHECK_CUDA(cudaStreamDestroy(db.stream));\n",
        "}\n",
        "\n",
        "// Thread worker pool function\n",
        "void worker_func(const float* gaussKernel, const std::string& output_folder) {\n",
        "    while (true) {\n",
        "        std::string path;\n",
        "        {\n",
        "            std::lock_guard<std::mutex> lock(queue_mutex);\n",
        "            if (image_queue.empty())\n",
        "                break;\n",
        "            path = image_queue.front();\n",
        "            image_queue.pop();\n",
        "        }\n",
        "        process_image_gpu(path, gaussKernel, output_folder);\n",
        "        images_processed++;\n",
        "    }\n",
        "}\n",
        "\n",
        "int main() {\n",
        "    std::string input_folder = \"input_images\";\n",
        "    std::string output_folder = \"output_images\";\n",
        "    std::filesystem::create_directories(output_folder);\n",
        "\n",
        "    auto paths = get_image_paths(input_folder);\n",
        "    if (paths.empty()) {\n",
        "        std::cerr << \"No BMP images found in \" << input_folder << std::endl;\n",
        "        return 1;\n",
        "    }\n",
        "\n",
        "    for (const auto& p : paths)\n",
        "        image_queue.push(p);\n",
        "\n",
        "    float gaussKernel[9] = {1.f/16, 2.f/16, 1.f/16, 2.f/16, 4.f/16, 2.f/16, 1.f/16, 2.f/16, 1.f/16};\n",
        "\n",
        "    // ---- WARM-UP CALL ----\n",
        "    warm_up();\n",
        "\n",
        "    // Launch worker threads, limited by MAX_STREAMS\n",
        "    int thread_count = std::min(MAX_STREAMS, (int)paths.size());\n",
        "    std::vector<std::thread> workers;\n",
        "    for (int i = 0; i < thread_count; ++i) {\n",
        "        workers.emplace_back(worker_func, gaussKernel, output_folder);\n",
        "    }\n",
        "    for (auto& t : workers) t.join();\n",
        "\n",
        "    std::cout << \"All images processed. Total: \" << images_processed.load() << std::endl;\n",
        "    return 0;\n",
        "}"
      ],
      "metadata": {
        "colab": {
          "base_uri": "https://localhost:8080/"
        },
        "id": "hMRVxPf9u1_H",
        "outputId": "1c9bf479-1aa3-41c1-c1c5-2d20a5e26531"
      },
      "execution_count": 2,
      "outputs": [
        {
          "output_type": "stream",
          "name": "stdout",
          "text": [
            "Writing gpu_with_threaded_CUDA_Streams.cu\n"
          ]
        }
      ]
    },
    {
      "cell_type": "code",
      "source": [
        "%%shell\n",
        "nvcc gpu_with_threaded_CUDA_Streams.cu -o gpu_with_threaded_CUDA_Streams $(pkg-config --cflags --libs opencv4) -arch=sm_75"
      ],
      "metadata": {
        "colab": {
          "base_uri": "https://localhost:8080/"
        },
        "id": "ghCghGOowfxU",
        "outputId": "8d05c37f-8176-48ff-b8fc-c9c9ce9cfc0c"
      },
      "execution_count": 5,
      "outputs": [
        {
          "output_type": "stream",
          "name": "stdout",
          "text": [
            "\u001b[01m\u001b[0m\u001b[01m/usr/include/opencv4/opencv2/stitching/detail/warpers.hpp(235)\u001b[0m: \u001b[01;35mwarning\u001b[0m #611-D: overloaded virtual function \u001b[01m\"cv::detail::PlaneWarper::buildMaps\"\u001b[0m is only partially overridden in class \u001b[01m\"cv::detail::AffineWarper\"\u001b[0m\n",
            "  class AffineWarper : public PlaneWarper\n",
            "        ^\n",
            "\n",
            "\u001b[01;36m\u001b[0m\u001b[01;36mRemark\u001b[0m: The warnings can be suppressed with \"-diag-suppress <warning-number>\"\n",
            "\n",
            "\u001b[01m\u001b[0m\u001b[01m/usr/include/opencv4/opencv2/stitching/detail/warpers.hpp(235)\u001b[0m: \u001b[01;35mwarning\u001b[0m #611-D: overloaded virtual function \u001b[01m\"cv::detail::PlaneWarper::warp\"\u001b[0m is only partially overridden in class \u001b[01m\"cv::detail::AffineWarper\"\u001b[0m\n",
            "  class AffineWarper : public PlaneWarper\n",
            "        ^\n",
            "\n",
            "\u001b[01m\u001b[0m\u001b[01m/usr/include/opencv4/opencv2/stitching/detail/blenders.hpp(100)\u001b[0m: \u001b[01;35mwarning\u001b[0m #611-D: overloaded virtual function \u001b[01m\"cv::detail::Blender::prepare\"\u001b[0m is only partially overridden in class \u001b[01m\"cv::detail::FeatherBlender\"\u001b[0m\n",
            "  class FeatherBlender : public Blender\n",
            "        ^\n",
            "\n",
            "\u001b[01m\u001b[0m\u001b[01m/usr/include/opencv4/opencv2/stitching/detail/blenders.hpp(127)\u001b[0m: \u001b[01;35mwarning\u001b[0m #611-D: overloaded virtual function \u001b[01m\"cv::detail::Blender::prepare\"\u001b[0m is only partially overridden in class \u001b[01m\"cv::detail::MultiBandBlender\"\u001b[0m\n",
            "  class MultiBandBlender : public Blender\n",
            "        ^\n",
            "\n",
            "\u001b[01m\u001b[0m\u001b[01m/usr/include/opencv4/opencv2/stitching/detail/warpers.hpp(235)\u001b[0m: \u001b[01;35mwarning\u001b[0m #611-D: overloaded virtual function \u001b[01m\"cv::detail::PlaneWarper::buildMaps\"\u001b[0m is only partially overridden in class \u001b[01m\"cv::detail::AffineWarper\"\u001b[0m\n",
            "  class AffineWarper : public PlaneWarper\n",
            "        ^\n",
            "\n",
            "\u001b[01;36m\u001b[0m\u001b[01;36mRemark\u001b[0m: The warnings can be suppressed with \"-diag-suppress <warning-number>\"\n",
            "\n",
            "\u001b[01m\u001b[0m\u001b[01m/usr/include/opencv4/opencv2/stitching/detail/warpers.hpp(235)\u001b[0m: \u001b[01;35mwarning\u001b[0m #611-D: overloaded virtual function \u001b[01m\"cv::detail::PlaneWarper::warp\"\u001b[0m is only partially overridden in class \u001b[01m\"cv::detail::AffineWarper\"\u001b[0m\n",
            "  class AffineWarper : public PlaneWarper\n",
            "        ^\n",
            "\n",
            "\u001b[01m\u001b[0m\u001b[01m/usr/include/opencv4/opencv2/stitching/detail/blenders.hpp(100)\u001b[0m: \u001b[01;35mwarning\u001b[0m #611-D: overloaded virtual function \u001b[01m\"cv::detail::Blender::prepare\"\u001b[0m is only partially overridden in class \u001b[01m\"cv::detail::FeatherBlender\"\u001b[0m\n",
            "  class FeatherBlender : public Blender\n",
            "        ^\n",
            "\n",
            "\u001b[01m\u001b[0m\u001b[01m/usr/include/opencv4/opencv2/stitching/detail/blenders.hpp(127)\u001b[0m: \u001b[01;35mwarning\u001b[0m #611-D: overloaded virtual function \u001b[01m\"cv::detail::Blender::prepare\"\u001b[0m is only partially overridden in class \u001b[01m\"cv::detail::MultiBandBlender\"\u001b[0m\n",
            "  class MultiBandBlender : public Blender\n",
            "        ^\n",
            "\n"
          ]
        },
        {
          "output_type": "execute_result",
          "data": {
            "text/plain": []
          },
          "metadata": {},
          "execution_count": 5
        }
      ]
    },
    {
      "cell_type": "code",
      "source": [
        "%%shell\n",
        "\n",
        "ls -l gpu_with_threaded_CUDA_Streams"
      ],
      "metadata": {
        "colab": {
          "base_uri": "https://localhost:8080/"
        },
        "id": "K8WazB0Tw2Fe",
        "outputId": "0052ee2d-aa9a-4142-e947-41a18c1c94ef"
      },
      "execution_count": 6,
      "outputs": [
        {
          "output_type": "stream",
          "name": "stdout",
          "text": [
            "-rwxr-xr-x 1 root root 1128696 Aug 22 17:10 gpu_with_threaded_CUDA_Streams\n"
          ]
        },
        {
          "output_type": "execute_result",
          "data": {
            "text/plain": []
          },
          "metadata": {},
          "execution_count": 6
        }
      ]
    },
    {
      "cell_type": "code",
      "source": [
        "%%shell\n",
        "\n",
        "./gpu_with_threaded_CUDA_Streams"
      ],
      "metadata": {
        "colab": {
          "base_uri": "https://localhost:8080/"
        },
        "id": "wqO6BYD1w9l1",
        "outputId": "5356efef-4ea1-4215-80a4-dc74ab9db9e8"
      },
      "execution_count": 7,
      "outputs": [
        {
          "output_type": "stream",
          "name": "stdout",
          "text": [
            "Warming up CUDA...\n",
            "Warm-up complete.\n",
            "Processed [input_images/lena.bmp] with GPU kernel time: 0.10032 ms\n",
            "Processed [input_images/greenland_grid_velo.bmp] with GPU kernel time: 0.163808 ms\n",
            "All images processed. Total: 2\n"
          ]
        },
        {
          "output_type": "execute_result",
          "data": {
            "text/plain": []
          },
          "metadata": {},
          "execution_count": 7
        }
      ]
    }
  ]
}