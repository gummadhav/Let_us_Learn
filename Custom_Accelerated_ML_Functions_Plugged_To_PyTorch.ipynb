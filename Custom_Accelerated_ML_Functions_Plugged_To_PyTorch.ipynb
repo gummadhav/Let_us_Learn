{
  "nbformat": 4,
  "nbformat_minor": 0,
  "metadata": {
    "colab": {
      "provenance": [],
      "gpuType": "T4",
      "authorship_tag": "ABX9TyMJAXaC/FdaIn+a55EcTbn9",
      "include_colab_link": true
    },
    "kernelspec": {
      "name": "python3",
      "display_name": "Python 3"
    },
    "language_info": {
      "name": "python"
    },
    "accelerator": "GPU"
  },
  "cells": [
    {
      "cell_type": "markdown",
      "metadata": {
        "id": "view-in-github",
        "colab_type": "text"
      },
      "source": [
        "<a href=\"https://colab.research.google.com/github/gummadhav/Let_us_Learn/blob/main/Custom_Accelerated_ML_Functions_Plugged_To_PyTorch.ipynb\" target=\"_parent\"><img src=\"https://colab.research.google.com/assets/colab-badge.svg\" alt=\"Open In Colab\"/></a>"
      ]
    },
    {
      "cell_type": "code",
      "execution_count": 1,
      "metadata": {
        "colab": {
          "base_uri": "https://localhost:8080/"
        },
        "id": "q5Cx8igFLJVo",
        "outputId": "81f47cd1-67cc-450a-a62c-84d9e08f277f"
      },
      "outputs": [
        {
          "output_type": "stream",
          "name": "stdout",
          "text": [
            "Collecting nvcc4jupyter\n",
            "  Downloading nvcc4jupyter-1.2.1-py3-none-any.whl.metadata (5.1 kB)\n",
            "Downloading nvcc4jupyter-1.2.1-py3-none-any.whl (10 kB)\n",
            "Installing collected packages: nvcc4jupyter\n",
            "Successfully installed nvcc4jupyter-1.2.1\n"
          ]
        }
      ],
      "source": [
        "!pip install nvcc4jupyter"
      ]
    },
    {
      "cell_type": "code",
      "source": [
        "%load_ext nvcc4jupyter"
      ],
      "metadata": {
        "colab": {
          "base_uri": "https://localhost:8080/"
        },
        "id": "xUKV2luNLe3p",
        "outputId": "c57709d7-207c-424d-e3b9-30aaed8933d0"
      },
      "execution_count": 2,
      "outputs": [
        {
          "output_type": "stream",
          "name": "stdout",
          "text": [
            "Detected platform \"Colab\". Running its setup...\n",
            "Source files will be saved in \"/tmp/tmpua6s7ute\".\n"
          ]
        }
      ]
    },
    {
      "cell_type": "code",
      "source": [
        "%%shell\n",
        "nvcc --version"
      ],
      "metadata": {
        "colab": {
          "base_uri": "https://localhost:8080/"
        },
        "id": "zSQIkihJLjFT",
        "outputId": "49fc7dfe-0e2b-4624-e0b6-201183b2eb65"
      },
      "execution_count": 3,
      "outputs": [
        {
          "output_type": "stream",
          "name": "stdout",
          "text": [
            "nvcc: NVIDIA (R) Cuda compiler driver\n",
            "Copyright (c) 2005-2024 NVIDIA Corporation\n",
            "Built on Thu_Jun__6_02:18:23_PDT_2024\n",
            "Cuda compilation tools, release 12.5, V12.5.82\n",
            "Build cuda_12.5.r12.5/compiler.34385749_0\n"
          ]
        },
        {
          "output_type": "execute_result",
          "data": {
            "text/plain": []
          },
          "metadata": {},
          "execution_count": 3
        }
      ]
    },
    {
      "cell_type": "code",
      "source": [
        "%%shell\n",
        "nvidia-smi"
      ],
      "metadata": {
        "colab": {
          "base_uri": "https://localhost:8080/"
        },
        "id": "eTZw937RLm0D",
        "outputId": "4d68a96f-8d9e-41d0-af9f-80d0c6316dc1"
      },
      "execution_count": 4,
      "outputs": [
        {
          "output_type": "stream",
          "name": "stdout",
          "text": [
            "Wed Aug  6 16:19:55 2025       \n",
            "+-----------------------------------------------------------------------------------------+\n",
            "| NVIDIA-SMI 550.54.15              Driver Version: 550.54.15      CUDA Version: 12.4     |\n",
            "|-----------------------------------------+------------------------+----------------------+\n",
            "| GPU  Name                 Persistence-M | Bus-Id          Disp.A | Volatile Uncorr. ECC |\n",
            "| Fan  Temp   Perf          Pwr:Usage/Cap |           Memory-Usage | GPU-Util  Compute M. |\n",
            "|                                         |                        |               MIG M. |\n",
            "|=========================================+========================+======================|\n",
            "|   0  Tesla T4                       Off |   00000000:00:04.0 Off |                    0 |\n",
            "| N/A   45C    P8              9W /   70W |       0MiB /  15360MiB |      0%      Default |\n",
            "|                                         |                        |                  N/A |\n",
            "+-----------------------------------------+------------------------+----------------------+\n",
            "                                                                                         \n",
            "+-----------------------------------------------------------------------------------------+\n",
            "| Processes:                                                                              |\n",
            "|  GPU   GI   CI        PID   Type   Process name                              GPU Memory |\n",
            "|        ID   ID                                                               Usage      |\n",
            "|=========================================================================================|\n",
            "|  No running processes found                                                             |\n",
            "+-----------------------------------------------------------------------------------------+\n"
          ]
        },
        {
          "output_type": "execute_result",
          "data": {
            "text/plain": []
          },
          "metadata": {},
          "execution_count": 4
        }
      ]
    },
    {
      "cell_type": "code",
      "source": [
        "!pip install ninja"
      ],
      "metadata": {
        "colab": {
          "base_uri": "https://localhost:8080/"
        },
        "id": "RMTSG4n4Lqy0",
        "outputId": "137872ce-92c6-4ab4-a647-1f6b2e0cc040"
      },
      "execution_count": 5,
      "outputs": [
        {
          "output_type": "stream",
          "name": "stdout",
          "text": [
            "Collecting ninja\n",
            "  Downloading ninja-1.11.1.4-py3-none-manylinux_2_12_x86_64.manylinux2010_x86_64.whl.metadata (5.0 kB)\n",
            "Downloading ninja-1.11.1.4-py3-none-manylinux_2_12_x86_64.manylinux2010_x86_64.whl (422 kB)\n",
            "\u001b[?25l   \u001b[90m━━━━━━━━━━━━━━━━━━━━━━━━━━━━━━━━━━━━━━━━\u001b[0m \u001b[32m0.0/422.8 kB\u001b[0m \u001b[31m?\u001b[0m eta \u001b[36m-:--:--\u001b[0m\r\u001b[2K   \u001b[91m━━━━━━━━━━━━━━━━━━━━━━━━━━━━━━━━━━━━━━━\u001b[0m\u001b[91m╸\u001b[0m \u001b[32m419.8/422.8 kB\u001b[0m \u001b[31m13.5 MB/s\u001b[0m eta \u001b[36m0:00:01\u001b[0m\r\u001b[2K   \u001b[90m━━━━━━━━━━━━━━━━━━━━━━━━━━━━━━━━━━━━━━━━\u001b[0m \u001b[32m422.8/422.8 kB\u001b[0m \u001b[31m10.0 MB/s\u001b[0m eta \u001b[36m0:00:00\u001b[0m\n",
            "\u001b[?25hInstalling collected packages: ninja\n",
            "Successfully installed ninja-1.11.1.4\n"
          ]
        }
      ]
    },
    {
      "cell_type": "code",
      "source": [
        "from pathlib import Path\n",
        "\n",
        "cuda_code = r\"\"\"\n",
        "#include <cuda_runtime.h>\n",
        "#include <torch/extension.h>\n",
        "\n",
        "__global__ void relu_kernel(float* input, float* output, int size) {\n",
        "    int idx = blockIdx.x * blockDim.x + threadIdx.x;\n",
        "    if (idx < size) {\n",
        "        output[idx] = fmaxf(input[idx], 0.0f);\n",
        "    }\n",
        "}\n",
        "\n",
        "void launch_relu(torch::Tensor input, torch::Tensor output) {\n",
        "    int size = input.numel();\n",
        "    int threads = 256;\n",
        "    int blocks = (size + threads - 1) / threads;\n",
        "\n",
        "    relu_kernel<<<blocks, threads>>>(\n",
        "        input.data_ptr<float>(),\n",
        "        output.data_ptr<float>(),\n",
        "        size\n",
        "    );\n",
        "}\n",
        "\"\"\"\n",
        "\n",
        "cpp_code = r\"\"\"\n",
        "#include <torch/extension.h>\n",
        "\n",
        "void launch_relu(torch::Tensor input, torch::Tensor output);\n",
        "\n",
        "void relu_forward(torch::Tensor input, torch::Tensor output) {\n",
        "    launch_relu(input, output);\n",
        "}\n",
        "\n",
        "PYBIND11_MODULE(TORCH_EXTENSION_NAME, m) {\n",
        "    m.def(\"relu_forward\", &relu_forward, \"Custom ReLU (CUDA)\");\n",
        "}\n",
        "\"\"\"\n",
        "\n",
        "Path(\"relu_kernel.cu\").write_text(cuda_code)\n",
        "Path(\"relu_wrapper.cpp\").write_text(cpp_code)"
      ],
      "metadata": {
        "colab": {
          "base_uri": "https://localhost:8080/"
        },
        "id": "YSc_MO3nLwTY",
        "outputId": "34777485-763d-4186-dc7f-4dd128e8b8ff"
      },
      "execution_count": 6,
      "outputs": [
        {
          "output_type": "execute_result",
          "data": {
            "text/plain": [
              "300"
            ]
          },
          "metadata": {},
          "execution_count": 6
        }
      ]
    },
    {
      "cell_type": "code",
      "source": [
        "from pathlib import Path\n",
        "from setuptools import setup\n",
        "from torch.utils.cpp_extension import CUDAExtension\n",
        "\n",
        "setup_py_code = \"\"\"\n",
        "from setuptools import setup\n",
        "from torch.utils.cpp_extension import BuildExtension, CUDAExtension\n",
        "\n",
        "setup(\n",
        "    name='custom_relu',\n",
        "    ext_modules=[\n",
        "        CUDAExtension('custom_relu', [\n",
        "            'relu_wrapper.cpp',\n",
        "            'relu_kernel.cu',\n",
        "        ])\n",
        "    ],\n",
        "    cmdclass={\n",
        "        'build_ext': BuildExtension\n",
        "    }\n",
        ")\n",
        "\"\"\"\n",
        "\n",
        "Path(\"setup.py\").write_text(setup_py_code)"
      ],
      "metadata": {
        "colab": {
          "base_uri": "https://localhost:8080/"
        },
        "id": "cX2OBq69MZuw",
        "outputId": "81422499-f2d1-4f68-a252-15734837832a"
      },
      "execution_count": 7,
      "outputs": [
        {
          "output_type": "execute_result",
          "data": {
            "text/plain": [
              "326"
            ]
          },
          "metadata": {},
          "execution_count": 7
        }
      ]
    },
    {
      "cell_type": "code",
      "source": [
        "%%shell\n",
        "python setup.py install"
      ],
      "metadata": {
        "colab": {
          "base_uri": "https://localhost:8080/"
        },
        "id": "GYuMVRmdMsSA",
        "outputId": "7705728c-2615-47d6-c398-ab95fa867b05"
      },
      "execution_count": 8,
      "outputs": [
        {
          "output_type": "stream",
          "name": "stdout",
          "text": [
            "running install\n",
            "/usr/local/lib/python3.11/dist-packages/setuptools/_distutils/cmd.py:66: SetuptoolsDeprecationWarning: setup.py install is deprecated.\n",
            "!!\n",
            "\n",
            "        ********************************************************************************\n",
            "        Please avoid running ``setup.py`` directly.\n",
            "        Instead, use pypa/build, pypa/installer or other\n",
            "        standards-based tools.\n",
            "\n",
            "        See https://blog.ganssle.io/articles/2021/10/setup-py-deprecated.html for details.\n",
            "        ********************************************************************************\n",
            "\n",
            "!!\n",
            "  self.initialize_options()\n",
            "/usr/local/lib/python3.11/dist-packages/setuptools/_distutils/cmd.py:66: EasyInstallDeprecationWarning: easy_install command is deprecated.\n",
            "!!\n",
            "\n",
            "        ********************************************************************************\n",
            "        Please avoid running ``setup.py`` and ``easy_install``.\n",
            "        Instead, use pypa/build, pypa/installer or other\n",
            "        standards-based tools.\n",
            "\n",
            "        See https://github.com/pypa/setuptools/issues/917 for details.\n",
            "        ********************************************************************************\n",
            "\n",
            "!!\n",
            "  self.initialize_options()\n",
            "running bdist_egg\n",
            "running egg_info\n",
            "creating custom_relu.egg-info\n",
            "writing custom_relu.egg-info/PKG-INFO\n",
            "writing dependency_links to custom_relu.egg-info/dependency_links.txt\n",
            "writing top-level names to custom_relu.egg-info/top_level.txt\n",
            "writing manifest file 'custom_relu.egg-info/SOURCES.txt'\n",
            "reading manifest file 'custom_relu.egg-info/SOURCES.txt'\n",
            "writing manifest file 'custom_relu.egg-info/SOURCES.txt'\n",
            "installing library code to build/bdist.linux-x86_64/egg\n",
            "running install_lib\n",
            "running build_ext\n",
            "/usr/local/lib/python3.11/dist-packages/torch/utils/cpp_extension.py:448: UserWarning: The detected CUDA version (12.5) has a minor version mismatch with the version that was used to compile PyTorch (12.4). Most likely this shouldn't be a problem.\n",
            "  warnings.warn(CUDA_MISMATCH_WARN.format(cuda_str_version, torch.version.cuda))\n",
            "/usr/local/lib/python3.11/dist-packages/torch/utils/cpp_extension.py:458: UserWarning: There are no x86_64-linux-gnu-g++ version bounds defined for CUDA version 12.5\n",
            "  warnings.warn(f'There are no {compiler_name} version bounds defined for CUDA version {cuda_str_version}')\n",
            "building 'custom_relu' extension\n",
            "creating /content/build/temp.linux-x86_64-cpython-311\n",
            "/usr/local/lib/python3.11/dist-packages/torch/utils/cpp_extension.py:2059: UserWarning: TORCH_CUDA_ARCH_LIST is not set, all archs for visible cards are included for compilation. \n",
            "If this is not desired, please set os.environ['TORCH_CUDA_ARCH_LIST'].\n",
            "  warnings.warn(\n",
            "Emitting ninja build file /content/build/temp.linux-x86_64-cpython-311/build.ninja...\n",
            "Compiling objects...\n",
            "Allowing ninja to set a default number of workers... (overridable by setting the environment variable MAX_JOBS=N)\n",
            "[1/2] c++ -MMD -MF /content/build/temp.linux-x86_64-cpython-311/relu_wrapper.o.d -Wsign-compare -DNDEBUG -g -fwrapv -O2 -Wall -g -fstack-protector-strong -Wformat -Werror=format-security -g -fwrapv -O2 -fPIC -I/usr/local/lib/python3.11/dist-packages/torch/include -I/usr/local/lib/python3.11/dist-packages/torch/include/torch/csrc/api/include -I/usr/local/lib/python3.11/dist-packages/torch/include/TH -I/usr/local/lib/python3.11/dist-packages/torch/include/THC -I/usr/local/cuda/include -I/usr/include/python3.11 -c -c /content/relu_wrapper.cpp -o /content/build/temp.linux-x86_64-cpython-311/relu_wrapper.o -DTORCH_API_INCLUDE_EXTENSION_H '-DPYBIND11_COMPILER_TYPE=\"_gcc\"' '-DPYBIND11_STDLIB=\"_libstdcpp\"' '-DPYBIND11_BUILD_ABI=\"_cxxabi1011\"' -DTORCH_EXTENSION_NAME=custom_relu -D_GLIBCXX_USE_CXX11_ABI=0 -std=c++17\n",
            "[2/2] /usr/local/cuda/bin/nvcc --generate-dependencies-with-compile --dependency-output /content/build/temp.linux-x86_64-cpython-311/relu_kernel.o.d -I/usr/local/lib/python3.11/dist-packages/torch/include -I/usr/local/lib/python3.11/dist-packages/torch/include/torch/csrc/api/include -I/usr/local/lib/python3.11/dist-packages/torch/include/TH -I/usr/local/lib/python3.11/dist-packages/torch/include/THC -I/usr/local/cuda/include -I/usr/include/python3.11 -c -c /content/relu_kernel.cu -o /content/build/temp.linux-x86_64-cpython-311/relu_kernel.o -D__CUDA_NO_HALF_OPERATORS__ -D__CUDA_NO_HALF_CONVERSIONS__ -D__CUDA_NO_BFLOAT16_CONVERSIONS__ -D__CUDA_NO_HALF2_OPERATORS__ --expt-relaxed-constexpr --compiler-options ''\"'\"'-fPIC'\"'\"'' -DTORCH_API_INCLUDE_EXTENSION_H '-DPYBIND11_COMPILER_TYPE=\"_gcc\"' '-DPYBIND11_STDLIB=\"_libstdcpp\"' '-DPYBIND11_BUILD_ABI=\"_cxxabi1011\"' -DTORCH_EXTENSION_NAME=custom_relu -D_GLIBCXX_USE_CXX11_ABI=0 -gencode=arch=compute_75,code=compute_75 -gencode=arch=compute_75,code=sm_75 -std=c++17\n",
            "creating build/lib.linux-x86_64-cpython-311\n",
            "x86_64-linux-gnu-g++ -Wsign-compare -DNDEBUG -g -fwrapv -O2 -Wall -g -fstack-protector-strong -Wformat -Werror=format-security -g -fwrapv -O2 -shared -Wl,-O1 -Wl,-Bsymbolic-functions /content/build/temp.linux-x86_64-cpython-311/relu_kernel.o /content/build/temp.linux-x86_64-cpython-311/relu_wrapper.o -L/usr/local/lib/python3.11/dist-packages/torch/lib -L/usr/local/cuda/lib64 -L/usr/lib/x86_64-linux-gnu -lc10 -ltorch -ltorch_cpu -ltorch_python -lcudart -lc10_cuda -ltorch_cuda -o build/lib.linux-x86_64-cpython-311/custom_relu.cpython-311-x86_64-linux-gnu.so\n",
            "creating build/bdist.linux-x86_64/egg\n",
            "copying build/lib.linux-x86_64-cpython-311/custom_relu.cpython-311-x86_64-linux-gnu.so -> build/bdist.linux-x86_64/egg\n",
            "creating stub loader for custom_relu.cpython-311-x86_64-linux-gnu.so\n",
            "byte-compiling build/bdist.linux-x86_64/egg/custom_relu.py to custom_relu.cpython-311.pyc\n",
            "creating build/bdist.linux-x86_64/egg/EGG-INFO\n",
            "copying custom_relu.egg-info/PKG-INFO -> build/bdist.linux-x86_64/egg/EGG-INFO\n",
            "copying custom_relu.egg-info/SOURCES.txt -> build/bdist.linux-x86_64/egg/EGG-INFO\n",
            "copying custom_relu.egg-info/dependency_links.txt -> build/bdist.linux-x86_64/egg/EGG-INFO\n",
            "copying custom_relu.egg-info/top_level.txt -> build/bdist.linux-x86_64/egg/EGG-INFO\n",
            "writing build/bdist.linux-x86_64/egg/EGG-INFO/native_libs.txt\n",
            "zip_safe flag not set; analyzing archive contents...\n",
            "__pycache__.custom_relu.cpython-311: module references __file__\n",
            "creating dist\n",
            "creating 'dist/custom_relu-0.0.0-py3.11-linux-x86_64.egg' and adding 'build/bdist.linux-x86_64/egg' to it\n",
            "removing 'build/bdist.linux-x86_64/egg' (and everything under it)\n",
            "Processing custom_relu-0.0.0-py3.11-linux-x86_64.egg\n",
            "creating /usr/local/lib/python3.11/dist-packages/custom_relu-0.0.0-py3.11-linux-x86_64.egg\n",
            "Extracting custom_relu-0.0.0-py3.11-linux-x86_64.egg to /usr/local/lib/python3.11/dist-packages\n",
            "Adding custom-relu 0.0.0 to easy-install.pth file\n",
            "\n",
            "Installed /usr/local/lib/python3.11/dist-packages/custom_relu-0.0.0-py3.11-linux-x86_64.egg\n",
            "Processing dependencies for custom-relu==0.0.0\n",
            "Finished processing dependencies for custom-relu==0.0.0\n"
          ]
        },
        {
          "output_type": "execute_result",
          "data": {
            "text/plain": []
          },
          "metadata": {},
          "execution_count": 8
        }
      ]
    },
    {
      "cell_type": "code",
      "source": [
        "from torch.utils.cpp_extension import load\n",
        "\n",
        "custom_relu = load(\n",
        "    name=\"custom_relu\",\n",
        "    sources=[\"relu_wrapper.cpp\", \"relu_kernel.cu\"],\n",
        "    verbose=True,\n",
        "    with_cuda=True\n",
        ")"
      ],
      "metadata": {
        "colab": {
          "base_uri": "https://localhost:8080/"
        },
        "id": "Cw5SRG6DNExM",
        "outputId": "f9387e7d-02c5-42a8-e3ae-434e855e5a64"
      },
      "execution_count": 9,
      "outputs": [
        {
          "output_type": "stream",
          "name": "stderr",
          "text": [
            "Using /root/.cache/torch_extensions/py311_cu124 as PyTorch extensions root...\n",
            "Creating extension directory /root/.cache/torch_extensions/py311_cu124/custom_relu...\n",
            "Detected CUDA files, patching ldflags\n",
            "Emitting ninja build file /root/.cache/torch_extensions/py311_cu124/custom_relu/build.ninja...\n",
            "/usr/local/lib/python3.11/dist-packages/torch/utils/cpp_extension.py:2059: UserWarning: TORCH_CUDA_ARCH_LIST is not set, all archs for visible cards are included for compilation. \n",
            "If this is not desired, please set os.environ['TORCH_CUDA_ARCH_LIST'].\n",
            "  warnings.warn(\n",
            "Building extension module custom_relu...\n",
            "Allowing ninja to set a default number of workers... (overridable by setting the environment variable MAX_JOBS=N)\n",
            "Loading extension module custom_relu...\n"
          ]
        }
      ]
    },
    {
      "cell_type": "code",
      "source": [
        "import torch\n",
        "\n",
        "# Create a dummy PyTorch tensor with both positive and negative values on CUDA\n",
        "input_tensor = torch.randn(10, 10, device='cuda')\n",
        "# Ensure some values are negative\n",
        "input_tensor[input_tensor > 0.5] *= -1\n",
        "input_tensor[input_tensor < -0.5] *= -1 # Ensure some are positive too\n",
        "\n",
        "print(\"Input tensor (first 5x5):\\n\", input_tensor[:5, :5])\n",
        "\n",
        "\n",
        "# Create an output tensor on CUDA, initialized with zeros\n",
        "output_tensor_custom = torch.zeros_like(input_tensor, device='cuda')\n",
        "\n",
        "# Call the custom relu_forward function\n",
        "custom_relu.relu_forward(input_tensor, output_tensor_custom)\n",
        "\n",
        "# Calculate the output using PyTorch's built-in relu for comparison\n",
        "output_tensor_torch = torch.relu(input_tensor)\n",
        "\n",
        "# Compare the outputs\n",
        "are_equal = torch.equal(output_tensor_custom, output_tensor_torch)\n",
        "are_allclose = torch.allclose(output_tensor_custom, output_tensor_torch)\n",
        "\n",
        "print(f\"\\nCustom ReLU output matches PyTorch ReLU output (exact equal): {are_equal}\")\n",
        "print(f\"Custom ReLU output matches PyTorch ReLU output (all close): {are_allclose}\")\n",
        "\n",
        "print(\"\\nCustom ReLU output tensor (first 5x5):\\n\", output_tensor_custom[:5, :5])\n",
        "print(\"\\nPyTorch ReLU output tensor (first 5x5):\\n\", output_tensor_torch[:5, :5])"
      ],
      "metadata": {
        "colab": {
          "base_uri": "https://localhost:8080/"
        },
        "id": "SkvBdGGjNgtf",
        "outputId": "17749a8d-10a7-4a90-b24b-4a22c1aa0c6a"
      },
      "execution_count": 10,
      "outputs": [
        {
          "output_type": "stream",
          "name": "stdout",
          "text": [
            "Input tensor (first 5x5):\n",
            " tensor([[ 0.4726,  0.9190, -0.0555,  1.1306,  1.2934],\n",
            "        [-0.1905,  0.2162,  0.7895, -0.4247,  1.2878],\n",
            "        [ 0.0042,  1.6427,  1.3950, -0.2774, -0.0644],\n",
            "        [ 1.0406,  0.6978,  0.7731,  0.2646,  0.2793],\n",
            "        [-0.4431,  0.5495,  0.2993,  0.5874,  1.6998]], device='cuda:0')\n",
            "\n",
            "Custom ReLU output matches PyTorch ReLU output (exact equal): True\n",
            "Custom ReLU output matches PyTorch ReLU output (all close): True\n",
            "\n",
            "Custom ReLU output tensor (first 5x5):\n",
            " tensor([[0.4726, 0.9190, 0.0000, 1.1306, 1.2934],\n",
            "        [0.0000, 0.2162, 0.7895, 0.0000, 1.2878],\n",
            "        [0.0042, 1.6427, 1.3950, 0.0000, 0.0000],\n",
            "        [1.0406, 0.6978, 0.7731, 0.2646, 0.2793],\n",
            "        [0.0000, 0.5495, 0.2993, 0.5874, 1.6998]], device='cuda:0')\n",
            "\n",
            "PyTorch ReLU output tensor (first 5x5):\n",
            " tensor([[0.4726, 0.9190, 0.0000, 1.1306, 1.2934],\n",
            "        [0.0000, 0.2162, 0.7895, 0.0000, 1.2878],\n",
            "        [0.0042, 1.6427, 1.3950, 0.0000, 0.0000],\n",
            "        [1.0406, 0.6978, 0.7731, 0.2646, 0.2793],\n",
            "        [0.0000, 0.5495, 0.2993, 0.5874, 1.6998]], device='cuda:0')\n"
          ]
        }
      ]
    }
  ]
}