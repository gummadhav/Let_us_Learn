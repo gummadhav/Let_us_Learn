{
  "nbformat": 4,
  "nbformat_minor": 0,
  "metadata": {
    "colab": {
      "provenance": [],
      "gpuType": "T4",
      "authorship_tag": "ABX9TyPLXTw/DgXkxqyRxSD81w+t",
      "include_colab_link": true
    },
    "kernelspec": {
      "name": "python3",
      "display_name": "Python 3"
    },
    "language_info": {
      "name": "python"
    },
    "accelerator": "GPU"
  },
  "cells": [
    {
      "cell_type": "markdown",
      "metadata": {
        "id": "view-in-github",
        "colab_type": "text"
      },
      "source": [
        "<a href=\"https://colab.research.google.com/github/gummadhav/Let_us_Learn/blob/main/Scalable_CUDA_Excercise.ipynb\" target=\"_parent\"><img src=\"https://colab.research.google.com/assets/colab-badge.svg\" alt=\"Open In Colab\"/></a>"
      ]
    },
    {
      "cell_type": "code",
      "execution_count": 1,
      "metadata": {
        "colab": {
          "base_uri": "https://localhost:8080/"
        },
        "id": "XHMcQ-WzAMru",
        "outputId": "bf1d125c-b3e1-48ac-e3ed-a6d2e97e34ed"
      },
      "outputs": [
        {
          "output_type": "stream",
          "name": "stdout",
          "text": [
            "\r0% [Working]\r            \rGet:1 https://cloud.r-project.org/bin/linux/ubuntu jammy-cran40/ InRelease [3,632 B]\n",
            "\r0% [Waiting for headers] [Connecting to security.ubuntu.com (185.125.190.81)] [\r0% [Waiting for headers] [Connecting to security.ubuntu.com (185.125.190.81)] [\r                                                                               \rHit:2 https://cli.github.com/packages stable InRelease\n",
            "\r0% [Waiting for headers] [Connecting to security.ubuntu.com (185.125.190.81)] [\r                                                                               \rGet:3 https://developer.download.nvidia.com/compute/cuda/repos/ubuntu2204/x86_64  InRelease [1,581 B]\n",
            "Hit:4 http://archive.ubuntu.com/ubuntu jammy InRelease\n",
            "Get:5 http://archive.ubuntu.com/ubuntu jammy-updates InRelease [128 kB]\n",
            "Get:6 http://security.ubuntu.com/ubuntu jammy-security InRelease [129 kB]\n",
            "Get:7 https://r2u.stat.illinois.edu/ubuntu jammy InRelease [6,555 B]\n",
            "Get:8 https://developer.download.nvidia.com/compute/cuda/repos/ubuntu2204/x86_64  Packages [1,942 kB]\n",
            "Get:9 http://archive.ubuntu.com/ubuntu jammy-backports InRelease [127 kB]\n",
            "Get:10 https://r2u.stat.illinois.edu/ubuntu jammy/main amd64 Packages [2,782 kB]\n",
            "Get:11 http://archive.ubuntu.com/ubuntu jammy-updates/universe amd64 Packages [1,576 kB]\n",
            "Hit:12 https://ppa.launchpadcontent.net/deadsnakes/ppa/ubuntu jammy InRelease\n",
            "Get:13 http://security.ubuntu.com/ubuntu jammy-security/restricted amd64 Packages [5,340 kB]\n",
            "Hit:14 https://ppa.launchpadcontent.net/graphics-drivers/ppa/ubuntu jammy InRelease\n",
            "Get:15 http://archive.ubuntu.com/ubuntu jammy-updates/restricted amd64 Packages [5,543 kB]\n",
            "Get:16 https://r2u.stat.illinois.edu/ubuntu jammy/main all Packages [9,205 kB]\n",
            "Hit:17 https://ppa.launchpadcontent.net/ubuntugis/ppa/ubuntu jammy InRelease\n",
            "Get:18 http://archive.ubuntu.com/ubuntu jammy-updates/main amd64 Packages [3,617 kB]\n",
            "Get:19 http://security.ubuntu.com/ubuntu jammy-security/universe amd64 Packages [1,272 kB]\n",
            "Get:20 http://security.ubuntu.com/ubuntu jammy-security/main amd64 Packages [3,297 kB]\n",
            "Fetched 35.0 MB in 3s (12.2 MB/s)\n",
            "Reading package lists... Done\n",
            "W: Skipping acquire of configured file 'main/source/Sources' as repository 'https://r2u.stat.illinois.edu/ubuntu jammy InRelease' does not seem to provide it (sources.list entry misspelt?)\n",
            "Reading package lists... Done\n",
            "Building dependency tree... Done\n",
            "Reading state information... Done\n",
            "libopenmpi-dev is already the newest version (4.1.2-2ubuntu1).\n",
            "openmpi-bin is already the newest version (4.1.2-2ubuntu1).\n",
            "openmpi-bin set to manually installed.\n",
            "openmpi-common is already the newest version (4.1.2-2ubuntu1).\n",
            "openmpi-common set to manually installed.\n",
            "0 upgraded, 0 newly installed, 0 to remove and 41 not upgraded.\n",
            "Requirement already satisfied: opencv-python in /usr/local/lib/python3.12/dist-packages (4.12.0.88)\n",
            "Requirement already satisfied: numpy<2.3.0,>=2 in /usr/local/lib/python3.12/dist-packages (from opencv-python) (2.0.2)\n"
          ]
        }
      ],
      "source": [
        "!apt-get update\n",
        "!apt-get install -y libopenmpi-dev openmpi-bin openmpi-common\n",
        "!pip install opencv-python\n",
        "!mkdir -p input_images output_images\n",
        "\n",
        "# Generate some dummy .bmp images for testing\n",
        "import cv2\n",
        "import numpy as np\n",
        "for i in range(4):\n",
        "    img = np.random.randint(0, 256, (128,128), dtype=np.uint8)\n",
        "    cv2.imwrite(f'input_images/test_{i}.bmp', img)\n"
      ]
    },
    {
      "cell_type": "code",
      "source": [
        "%%shell\n",
        "%%shell\n",
        "# Update package lists\n",
        "apt-get update\n",
        "\n",
        "# Install essential build tools (if not already present, good practice)\n",
        "apt-get install -y build-essential\n",
        "\n",
        "# Install OpenCV development libraries (C++ headers and shared libraries)\n",
        "# 'libopencv-dev' provides the development files\n",
        "# 'python3-opencv' is for Python, but sometimes pulled in as a dependency\n",
        "apt-get install -y libopencv-dev python3-opencv\n",
        "\n",
        "# Verify OpenCV version (optional, but good for checking)\n",
        "pkg-config --modversion opencv4 # For OpenCV 4.x\n",
        "# Or for older versions: pkg-config --modversion opencv"
      ],
      "metadata": {
        "colab": {
          "base_uri": "https://localhost:8080/"
        },
        "id": "R405W31sCUiA",
        "outputId": "456ca07b-744e-46fc-dbde-85d8978cdb31"
      },
      "execution_count": 2,
      "outputs": [
        {
          "output_type": "stream",
          "name": "stdout",
          "text": [
            "/bin/bash: line 1: fg: no job control\n",
            "\r0% [Working]\r            \rHit:1 https://cli.github.com/packages stable InRelease\n",
            "\r0% [Connecting to archive.ubuntu.com (91.189.91.82)] [Connecting to security.ub\r                                                                               \rHit:2 https://developer.download.nvidia.com/compute/cuda/repos/ubuntu2204/x86_64  InRelease\n",
            "\r0% [Connecting to archive.ubuntu.com (91.189.91.82)] [Connecting to security.ub\r                                                                               \rHit:3 https://cloud.r-project.org/bin/linux/ubuntu jammy-cran40/ InRelease\n",
            "\r0% [Connecting to archive.ubuntu.com (91.189.91.82)] [Connecting to security.ub\r0% [Waiting for headers] [Connecting to security.ubuntu.com (185.125.190.82)] [\r                                                                               \rHit:4 http://archive.ubuntu.com/ubuntu jammy InRelease\n",
            "Hit:5 http://archive.ubuntu.com/ubuntu jammy-updates InRelease\n",
            "Hit:6 http://archive.ubuntu.com/ubuntu jammy-backports InRelease\n",
            "Hit:7 http://security.ubuntu.com/ubuntu jammy-security InRelease\n",
            "Hit:8 https://r2u.stat.illinois.edu/ubuntu jammy InRelease\n",
            "Hit:9 https://ppa.launchpadcontent.net/deadsnakes/ppa/ubuntu jammy InRelease\n",
            "Hit:10 https://ppa.launchpadcontent.net/graphics-drivers/ppa/ubuntu jammy InRelease\n",
            "Hit:11 https://ppa.launchpadcontent.net/ubuntugis/ppa/ubuntu jammy InRelease\n",
            "Reading package lists... Done\n",
            "W: Skipping acquire of configured file 'main/source/Sources' as repository 'https://r2u.stat.illinois.edu/ubuntu jammy InRelease' does not seem to provide it (sources.list entry misspelt?)\n",
            "Reading package lists... Done\n",
            "Building dependency tree... Done\n",
            "Reading state information... Done\n",
            "build-essential is already the newest version (12.9ubuntu3).\n",
            "0 upgraded, 0 newly installed, 0 to remove and 41 not upgraded.\n",
            "Reading package lists... Done\n",
            "Building dependency tree... Done\n",
            "Reading state information... Done\n",
            "libopencv-dev is already the newest version (4.5.4+dfsg-9ubuntu4+jammy1).\n",
            "Suggested packages:\n",
            "  python-numpy-doc python3-pytest\n",
            "The following NEW packages will be installed:\n",
            "  python3-numpy python3-opencv\n",
            "0 upgraded, 2 newly installed, 0 to remove and 41 not upgraded.\n",
            "Need to get 5,274 kB of archives.\n",
            "After this operation, 27.1 MB of additional disk space will be used.\n",
            "Get:1 http://archive.ubuntu.com/ubuntu jammy-updates/main amd64 python3-numpy amd64 1:1.21.5-1ubuntu22.04.1 [3,467 kB]\n",
            "Get:2 https://ppa.launchpadcontent.net/ubuntugis/ppa/ubuntu jammy/main amd64 python3-opencv amd64 4.5.4+dfsg-9ubuntu4+jammy1 [1,807 kB]\n",
            "Fetched 5,274 kB in 2s (3,344 kB/s)\n",
            "Selecting previously unselected package python3-numpy.\n",
            "(Reading database ... 126371 files and directories currently installed.)\n",
            "Preparing to unpack .../python3-numpy_1%3a1.21.5-1ubuntu22.04.1_amd64.deb ...\n",
            "Unpacking python3-numpy (1:1.21.5-1ubuntu22.04.1) ...\n",
            "Selecting previously unselected package python3-opencv:amd64.\n",
            "Preparing to unpack .../python3-opencv_4.5.4+dfsg-9ubuntu4+jammy1_amd64.deb ...\n",
            "Unpacking python3-opencv:amd64 (4.5.4+dfsg-9ubuntu4+jammy1) ...\n",
            "Setting up python3-numpy (1:1.21.5-1ubuntu22.04.1) ...\n",
            "Setting up python3-opencv:amd64 (4.5.4+dfsg-9ubuntu4+jammy1) ...\n",
            "4.5.4\n"
          ]
        },
        {
          "output_type": "execute_result",
          "data": {
            "text/plain": []
          },
          "metadata": {},
          "execution_count": 2
        }
      ]
    },
    {
      "cell_type": "code",
      "source": [
        "!pip install nvcc4jupyter"
      ],
      "metadata": {
        "colab": {
          "base_uri": "https://localhost:8080/"
        },
        "id": "q-7RfzykEaK2",
        "outputId": "28f7cf4b-d290-4d0c-f7c0-f86c1e95d879"
      },
      "execution_count": 7,
      "outputs": [
        {
          "output_type": "stream",
          "name": "stdout",
          "text": [
            "Collecting nvcc4jupyter\n",
            "  Downloading nvcc4jupyter-1.2.1-py3-none-any.whl.metadata (5.1 kB)\n",
            "Downloading nvcc4jupyter-1.2.1-py3-none-any.whl (10 kB)\n",
            "Installing collected packages: nvcc4jupyter\n",
            "Successfully installed nvcc4jupyter-1.2.1\n"
          ]
        }
      ]
    },
    {
      "cell_type": "code",
      "source": [
        "%load_ext nvcc4jupyter"
      ],
      "metadata": {
        "colab": {
          "base_uri": "https://localhost:8080/"
        },
        "id": "chq-q0CUEjeG",
        "outputId": "21a4fd8c-2d67-45cd-9e21-3c0b0b691a81"
      },
      "execution_count": 8,
      "outputs": [
        {
          "output_type": "stream",
          "name": "stdout",
          "text": [
            "Detected platform \"Colab\". Running its setup...\n",
            "Source files will be saved in \"/tmp/tmp0cemb41w\".\n"
          ]
        }
      ]
    },
    {
      "cell_type": "code",
      "source": [
        "%%shell\n",
        "nvcc --version"
      ],
      "metadata": {
        "colab": {
          "base_uri": "https://localhost:8080/"
        },
        "id": "VS3APrcEEo1s",
        "outputId": "b9baa719-9b58-4ac0-cc94-ce808a367219"
      },
      "execution_count": 9,
      "outputs": [
        {
          "output_type": "stream",
          "name": "stdout",
          "text": [
            "nvcc: NVIDIA (R) Cuda compiler driver\n",
            "Copyright (c) 2005-2024 NVIDIA Corporation\n",
            "Built on Thu_Jun__6_02:18:23_PDT_2024\n",
            "Cuda compilation tools, release 12.5, V12.5.82\n",
            "Build cuda_12.5.r12.5/compiler.34385749_0\n"
          ]
        },
        {
          "output_type": "execute_result",
          "data": {
            "text/plain": []
          },
          "metadata": {},
          "execution_count": 9
        }
      ]
    },
    {
      "cell_type": "code",
      "source": [
        "%%shell\n",
        "nvidia-smi"
      ],
      "metadata": {
        "colab": {
          "base_uri": "https://localhost:8080/"
        },
        "id": "7M1rZ_ZFEvxu",
        "outputId": "a480e850-0213-446e-9288-b3ebe4b121e6"
      },
      "execution_count": 10,
      "outputs": [
        {
          "output_type": "stream",
          "name": "stdout",
          "text": [
            "Sat Aug 30 17:42:40 2025       \n",
            "+-----------------------------------------------------------------------------------------+\n",
            "| NVIDIA-SMI 550.54.15              Driver Version: 550.54.15      CUDA Version: 12.4     |\n",
            "|-----------------------------------------+------------------------+----------------------+\n",
            "| GPU  Name                 Persistence-M | Bus-Id          Disp.A | Volatile Uncorr. ECC |\n",
            "| Fan  Temp   Perf          Pwr:Usage/Cap |           Memory-Usage | GPU-Util  Compute M. |\n",
            "|                                         |                        |               MIG M. |\n",
            "|=========================================+========================+======================|\n",
            "|   0  Tesla T4                       Off |   00000000:00:04.0 Off |                    0 |\n",
            "| N/A   40C    P8              9W /   70W |       0MiB /  15360MiB |      0%      Default |\n",
            "|                                         |                        |                  N/A |\n",
            "+-----------------------------------------+------------------------+----------------------+\n",
            "                                                                                         \n",
            "+-----------------------------------------------------------------------------------------+\n",
            "| Processes:                                                                              |\n",
            "|  GPU   GI   CI        PID   Type   Process name                              GPU Memory |\n",
            "|        ID   ID                                                               Usage      |\n",
            "|=========================================================================================|\n",
            "|  No running processes found                                                             |\n",
            "+-----------------------------------------------------------------------------------------+\n"
          ]
        },
        {
          "output_type": "execute_result",
          "data": {
            "text/plain": []
          },
          "metadata": {},
          "execution_count": 10
        }
      ]
    },
    {
      "cell_type": "code",
      "source": [
        "%%writefile scalable_cuda_streams.cu\n",
        "\n",
        "#include <mpi.h>\n",
        "#include <opencv2/opencv.hpp>\n",
        "#include <vector>\n",
        "#include <string>\n",
        "#include <filesystem>\n",
        "#include <iostream>\n",
        "#include \"cuda_runtime.h\"\n",
        "\n",
        "#define CHECK_CUDA(call) \\\n",
        "    { \\\n",
        "        cudaError_t err = call; \\\n",
        "        if (err != cudaSuccess) { \\\n",
        "            std::cerr << \"CUDA error: \" << cudaGetErrorString(err) << \" at \" << __FILE__ << \":\" << __LINE__ << std::endl; \\\n",
        "            MPI_Abort(MPI_COMM_WORLD, -1); \\\n",
        "        } \\\n",
        "    }\n",
        "\n",
        "__global__\n",
        "void gaussian_filter_kernel(const uchar* input, uchar* output, int width, int height, const float* kernel) {\n",
        "    int x = blockIdx.x * blockDim.x + threadIdx.x;\n",
        "    int y = blockIdx.y * blockDim.y + threadIdx.y;\n",
        "    if (x >= width || y >= height) return;\n",
        "    float sum = 0, kSum = 0;\n",
        "    for (int dy = -1; dy <= 1; ++dy) {\n",
        "        for (int dx = -1; dx <= 1; ++dx) {\n",
        "            int ix = min(max(x+dx,0), width-1);\n",
        "            int iy = min(max(y+dy,0), height-1);\n",
        "            float k = kernel[(dy+1)*3 + (dx+1)];\n",
        "            sum += input[iy*width + ix] * k;\n",
        "            kSum += k;\n",
        "        }\n",
        "    }\n",
        "    float result = kSum > 0 ? sum / kSum : 0;\n",
        "    result = min(max(result, 0.f), 255.f);\n",
        "    output[y*width + x] = static_cast<uchar>(result);\n",
        "}\n",
        "\n",
        "__global__\n",
        "void laplacian_filter_kernel(const uchar* input, uchar* output, int width, int height) {\n",
        "    int kernel[3][3] = { {-1,-1,-1}, {-1,8,-1}, {-1,-1,-1} };\n",
        "    int x = blockIdx.x * blockDim.x + threadIdx.x;\n",
        "    int y = blockIdx.y * blockDim.y + threadIdx.y;\n",
        "    if (x >= width || y >= height) return;\n",
        "    int sum = 0;\n",
        "    for (int dy = -1; dy <= 1; ++dy) {\n",
        "        for (int dx = -1; dx <= 1; ++dx) {\n",
        "            int ix = min(max(x+dx,0), width-1);\n",
        "            int iy = min(max(y+dy,0), height-1);\n",
        "            sum += input[iy*width + ix] * kernel[dy+1][dx+1];\n",
        "        }\n",
        "    }\n",
        "    int result = sum + 128;\n",
        "    result = min(max(result, 0), 255);\n",
        "    output[y*width + x] = static_cast<uchar>(result);\n",
        "}\n",
        "\n",
        "__global__ void empty_kernel(int *p) { *p = 1; }\n",
        "\n",
        "std::vector<std::string> get_image_paths(const std::string& folder) {\n",
        "    std::vector<std::string> paths;\n",
        "    for (const auto& entry : std::filesystem::directory_iterator(folder)) {\n",
        "        if (entry.path().extension() == \".bmp\") {\n",
        "            paths.push_back(entry.path().string());\n",
        "        }\n",
        "    }\n",
        "    return paths;\n",
        "}\n",
        "\n",
        "void warm_up_cuda() {\n",
        "    int* d_temp;\n",
        "    CHECK_CUDA(cudaMalloc(&d_temp, sizeof(int)));\n",
        "    empty_kernel<<<1, 1>>>(d_temp);\n",
        "    CHECK_CUDA(cudaDeviceSynchronize());\n",
        "    CHECK_CUDA(cudaFree(d_temp));\n",
        "}\n",
        "\n",
        "void process_images_on_rank(const std::vector<std::string>& images, const float* gaussKernel, const std::string& output_folder, int rank) {\n",
        "    for (const auto& path : images) {\n",
        "        cv::Mat img = cv::imread(path, cv::IMREAD_GRAYSCALE);\n",
        "        if (img.empty() || img.type() != CV_8U || img.channels() != 1) {\n",
        "            std::cerr << \"Rank \" << rank << \": Invalid image: \" << path << std::endl;\n",
        "            continue;\n",
        "        }\n",
        "\n",
        "        int width = img.cols, height = img.rows;\n",
        "        size_t size = width * height * sizeof(uchar);\n",
        "\n",
        "        uchar *d_input, *d_gauss, *d_laplace;\n",
        "        float *d_gkernel;\n",
        "        CHECK_CUDA(cudaMalloc(&d_input, size));\n",
        "        CHECK_CUDA(cudaMalloc(&d_gauss, size));\n",
        "        CHECK_CUDA(cudaMalloc(&d_laplace, size));\n",
        "        CHECK_CUDA(cudaMalloc(&d_gkernel, 9 * sizeof(float)));\n",
        "\n",
        "        cudaStream_t stream;\n",
        "        cudaEvent_t start_event, stop_event;\n",
        "        CHECK_CUDA(cudaStreamCreate(&stream));\n",
        "        CHECK_CUDA(cudaEventCreate(&start_event));\n",
        "        CHECK_CUDA(cudaEventCreate(&stop_event));\n",
        "\n",
        "        if (path == images.front()) {\n",
        "            warm_up_cuda();\n",
        "        }\n",
        "\n",
        "        CHECK_CUDA(cudaMemcpyAsync(d_input, img.data, size, cudaMemcpyHostToDevice, stream));\n",
        "        CHECK_CUDA(cudaMemcpyAsync(d_gkernel, gaussKernel, 9 * sizeof(float), cudaMemcpyHostToDevice, stream));\n",
        "\n",
        "        dim3 block(16,16), grid((width+15)/16, (height+15)/16);\n",
        "\n",
        "        CHECK_CUDA(cudaEventRecord(start_event, stream));\n",
        "\n",
        "        gaussian_filter_kernel<<<grid, block, 0, stream>>>(d_input, d_gauss, width, height, d_gkernel);\n",
        "        laplacian_filter_kernel<<<grid, block, 0, stream>>>(d_gauss, d_laplace, width, height);\n",
        "\n",
        "        CHECK_CUDA(cudaEventRecord(stop_event, stream));\n",
        "\n",
        "        cv::Mat out(height, width, CV_8U);\n",
        "        CHECK_CUDA(cudaMemcpyAsync(out.data, d_laplace, size, cudaMemcpyDeviceToHost, stream));\n",
        "        CHECK_CUDA(cudaStreamSynchronize(stream));\n",
        "\n",
        "        float elapsed_ms = 0;\n",
        "        CHECK_CUDA(cudaEventElapsedTime(&elapsed_ms, start_event, stop_event));\n",
        "\n",
        "        std::string gpu_output = output_folder + \"/\" + std::filesystem::path(path).stem().string() + \"_gpu_rank\" + std::to_string(rank) + \".bmp\";\n",
        "        if (!cv::imwrite(gpu_output, out)) {\n",
        "            std::cerr << \"Rank \" << rank << \": Failed to save GPU image: \" << gpu_output << std::endl;\n",
        "        }\n",
        "\n",
        "        std::cout << \"Rank \" << rank << \": Processed \" << path << \" in \" << elapsed_ms << \" ms\\n\";\n",
        "\n",
        "        CHECK_CUDA(cudaFree(d_input));\n",
        "        CHECK_CUDA(cudaFree(d_gauss));\n",
        "        CHECK_CUDA(cudaFree(d_laplace));\n",
        "        CHECK_CUDA(cudaFree(d_gkernel));\n",
        "        CHECK_CUDA(cudaEventDestroy(start_event));\n",
        "        CHECK_CUDA(cudaEventDestroy(stop_event));\n",
        "        CHECK_CUDA(cudaStreamDestroy(stream));\n",
        "    }\n",
        "}\n",
        "\n",
        "int main(int argc, char** argv) {\n",
        "    MPI_Init(&argc, &argv);\n",
        "\n",
        "    int rank, size;\n",
        "    MPI_Comm_rank(MPI_COMM_WORLD, &rank);\n",
        "    MPI_Comm_size(MPI_COMM_WORLD, &size);\n",
        "\n",
        "    std::string input_folder = \"input_images\";\n",
        "    std::string output_folder = \"output_images\";\n",
        "\n",
        "    if (rank == 0) {\n",
        "        std::filesystem::create_directories(output_folder);\n",
        "    }\n",
        "    MPI_Barrier(MPI_COMM_WORLD);\n",
        "\n",
        "    auto all_paths = get_image_paths(input_folder);\n",
        "\n",
        "    std::vector<std::string> images_for_rank;\n",
        "    for (size_t i = rank; i < all_paths.size(); i += size) {\n",
        "        images_for_rank.push_back(all_paths[i]);\n",
        "    }\n",
        "\n",
        "    int device_count = 0;\n",
        "    CHECK_CUDA(cudaGetDeviceCount(&device_count));\n",
        "    if (device_count == 0) {\n",
        "        if (rank == 0) std::cerr << \"No CUDA devices found.\\n\";\n",
        "        MPI_Finalize();\n",
        "        return -1;\n",
        "    }\n",
        "    int device_id = 0; // Colab only gives you one GPU, so all ranks use device 0\n",
        "    CHECK_CUDA(cudaSetDevice(device_id));\n",
        "    if (rank == 0)\n",
        "        std::cout << \"MPI ranks: \" << size << \", each using GPU \" << device_id << std::endl;\n",
        "\n",
        "    float gaussKernel[9] = {1.f/16, 2.f/16, 1.f/16, 2.f/16, 4.f/16, 2.f/16, 1.f/16, 2.f/16, 1.f/16};\n",
        "\n",
        "    process_images_on_rank(images_for_rank, gaussKernel, output_folder, rank);\n",
        "\n",
        "    MPI_Finalize();\n",
        "    return 0;\n",
        "}\n"
      ],
      "metadata": {
        "colab": {
          "base_uri": "https://localhost:8080/"
        },
        "id": "lJhM1chhCpAv",
        "outputId": "edb1ce1a-8242-462b-fa23-554097e0daca"
      },
      "execution_count": 18,
      "outputs": [
        {
          "output_type": "stream",
          "name": "stdout",
          "text": [
            "Writing scalable_cuda_streams.cu\n"
          ]
        }
      ]
    },
    {
      "cell_type": "code",
      "source": [
        "%%shell\n",
        "\n",
        "nvcc scalable_cuda_streams.cu -o scalable_cuda_streams -I/usr/lib/x86_64-linux-gnu/openmpi/include -L/usr/lib/x86_64-linux-gnu/openmpi/lib -lmpi -lstdc++fs -std=c++17 $(pkg-config --cflags --libs opencv4) -arch=sm_75"
      ],
      "metadata": {
        "colab": {
          "base_uri": "https://localhost:8080/"
        },
        "id": "IVRLsYX7D3Cn",
        "outputId": "ef4ec2b4-e56e-40b7-d2c3-7ae3494832db"
      },
      "execution_count": 19,
      "outputs": [
        {
          "output_type": "stream",
          "name": "stdout",
          "text": [
            "\u001b[01m\u001b[0m\u001b[01m/usr/include/opencv4/opencv2/stitching/detail/warpers.hpp(235)\u001b[0m: \u001b[01;35mwarning\u001b[0m #611-D: overloaded virtual function \u001b[01m\"cv::detail::PlaneWarper::buildMaps\"\u001b[0m is only partially overridden in class \u001b[01m\"cv::detail::AffineWarper\"\u001b[0m\n",
            "  class AffineWarper : public PlaneWarper\n",
            "        ^\n",
            "\n",
            "\u001b[01;36m\u001b[0m\u001b[01;36mRemark\u001b[0m: The warnings can be suppressed with \"-diag-suppress <warning-number>\"\n",
            "\n",
            "\u001b[01m\u001b[0m\u001b[01m/usr/include/opencv4/opencv2/stitching/detail/warpers.hpp(235)\u001b[0m: \u001b[01;35mwarning\u001b[0m #611-D: overloaded virtual function \u001b[01m\"cv::detail::PlaneWarper::warp\"\u001b[0m is only partially overridden in class \u001b[01m\"cv::detail::AffineWarper\"\u001b[0m\n",
            "  class AffineWarper : public PlaneWarper\n",
            "        ^\n",
            "\n",
            "\u001b[01m\u001b[0m\u001b[01m/usr/include/opencv4/opencv2/stitching/detail/blenders.hpp(100)\u001b[0m: \u001b[01;35mwarning\u001b[0m #611-D: overloaded virtual function \u001b[01m\"cv::detail::Blender::prepare\"\u001b[0m is only partially overridden in class \u001b[01m\"cv::detail::FeatherBlender\"\u001b[0m\n",
            "  class FeatherBlender : public Blender\n",
            "        ^\n",
            "\n",
            "\u001b[01m\u001b[0m\u001b[01m/usr/include/opencv4/opencv2/stitching/detail/blenders.hpp(127)\u001b[0m: \u001b[01;35mwarning\u001b[0m #611-D: overloaded virtual function \u001b[01m\"cv::detail::Blender::prepare\"\u001b[0m is only partially overridden in class \u001b[01m\"cv::detail::MultiBandBlender\"\u001b[0m\n",
            "  class MultiBandBlender : public Blender\n",
            "        ^\n",
            "\n",
            "\u001b[01m\u001b[0m\u001b[01m/usr/include/opencv4/opencv2/stitching/detail/warpers.hpp(235)\u001b[0m: \u001b[01;35mwarning\u001b[0m #611-D: overloaded virtual function \u001b[01m\"cv::detail::PlaneWarper::buildMaps\"\u001b[0m is only partially overridden in class \u001b[01m\"cv::detail::AffineWarper\"\u001b[0m\n",
            "  class AffineWarper : public PlaneWarper\n",
            "        ^\n",
            "\n",
            "\u001b[01;36m\u001b[0m\u001b[01;36mRemark\u001b[0m: The warnings can be suppressed with \"-diag-suppress <warning-number>\"\n",
            "\n",
            "\u001b[01m\u001b[0m\u001b[01m/usr/include/opencv4/opencv2/stitching/detail/warpers.hpp(235)\u001b[0m: \u001b[01;35mwarning\u001b[0m #611-D: overloaded virtual function \u001b[01m\"cv::detail::PlaneWarper::warp\"\u001b[0m is only partially overridden in class \u001b[01m\"cv::detail::AffineWarper\"\u001b[0m\n",
            "  class AffineWarper : public PlaneWarper\n",
            "        ^\n",
            "\n",
            "\u001b[01m\u001b[0m\u001b[01m/usr/include/opencv4/opencv2/stitching/detail/blenders.hpp(100)\u001b[0m: \u001b[01;35mwarning\u001b[0m #611-D: overloaded virtual function \u001b[01m\"cv::detail::Blender::prepare\"\u001b[0m is only partially overridden in class \u001b[01m\"cv::detail::FeatherBlender\"\u001b[0m\n",
            "  class FeatherBlender : public Blender\n",
            "        ^\n",
            "\n",
            "\u001b[01m\u001b[0m\u001b[01m/usr/include/opencv4/opencv2/stitching/detail/blenders.hpp(127)\u001b[0m: \u001b[01;35mwarning\u001b[0m #611-D: overloaded virtual function \u001b[01m\"cv::detail::Blender::prepare\"\u001b[0m is only partially overridden in class \u001b[01m\"cv::detail::MultiBandBlender\"\u001b[0m\n",
            "  class MultiBandBlender : public Blender\n",
            "        ^\n",
            "\n"
          ]
        },
        {
          "output_type": "execute_result",
          "data": {
            "text/plain": []
          },
          "metadata": {},
          "execution_count": 19
        }
      ]
    },
    {
      "cell_type": "code",
      "source": [
        "%%shell\n",
        "ls -l scalable_cuda_streams"
      ],
      "metadata": {
        "colab": {
          "base_uri": "https://localhost:8080/"
        },
        "id": "j4E37M6ND-Ou",
        "outputId": "c028ba2a-adc6-4301-a5cb-3ed6b547227c"
      },
      "execution_count": 20,
      "outputs": [
        {
          "output_type": "stream",
          "name": "stdout",
          "text": [
            "-rwxr-xr-x 1 root root 1087816 Aug 30 17:53 scalable_cuda_streams\n"
          ]
        },
        {
          "output_type": "execute_result",
          "data": {
            "text/plain": []
          },
          "metadata": {},
          "execution_count": 20
        }
      ]
    },
    {
      "cell_type": "code",
      "source": [
        "%%shell\n",
        "\n",
        "mpirun --allow-run-as-root --oversubscribe -np 4 ./scalable_cuda_streams"
      ],
      "metadata": {
        "colab": {
          "base_uri": "https://localhost:8080/"
        },
        "id": "-3pfLNm4HZIN",
        "outputId": "0e55a48f-3561-4b46-8e84-a8c12bb5e10c"
      },
      "execution_count": 25,
      "outputs": [
        {
          "output_type": "stream",
          "name": "stdout",
          "text": [
            "Rank 2: Processed input_images/test_0.bmp in 0.06304 ms\n",
            "MPI ranks: 4, each using GPU 0\n",
            "Rank 1: Processed input_images/test_3.bmp in 0.349728 ms\n",
            "Rank 3: Processed input_images/test_1.bmp in 0.024032 ms\n",
            "Rank 0: Processed input_images/test_2.bmp in 0.024608 ms\n"
          ]
        },
        {
          "output_type": "execute_result",
          "data": {
            "text/plain": []
          },
          "metadata": {},
          "execution_count": 25
        }
      ]
    }
  ]
}