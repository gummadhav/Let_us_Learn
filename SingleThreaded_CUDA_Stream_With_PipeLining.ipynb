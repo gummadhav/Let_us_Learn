{
  "nbformat": 4,
  "nbformat_minor": 0,
  "metadata": {
    "colab": {
      "provenance": [],
      "gpuType": "T4",
      "authorship_tag": "ABX9TyOOmdaeLyDvMi3b5EIb7j0f",
      "include_colab_link": true
    },
    "kernelspec": {
      "name": "python3",
      "display_name": "Python 3"
    },
    "language_info": {
      "name": "python"
    },
    "accelerator": "GPU"
  },
  "cells": [
    {
      "cell_type": "markdown",
      "metadata": {
        "id": "view-in-github",
        "colab_type": "text"
      },
      "source": [
        "<a href=\"https://colab.research.google.com/github/gummadhav/Let_us_Learn/blob/main/SingleThreaded_CUDA_Stream_With_PipeLining.ipynb\" target=\"_parent\"><img src=\"https://colab.research.google.com/assets/colab-badge.svg\" alt=\"Open In Colab\"/></a>"
      ]
    },
    {
      "cell_type": "code",
      "execution_count": null,
      "metadata": {
        "colab": {
          "base_uri": "https://localhost:8080/"
        },
        "id": "yT4FCBorykUd",
        "outputId": "3480eff1-2073-45b3-c078-4337b9ab3827"
      },
      "outputs": [
        {
          "output_type": "stream",
          "name": "stdout",
          "text": [
            "/bin/bash: line 1: fg: no job control\n",
            "Get:1 https://cloud.r-project.org/bin/linux/ubuntu jammy-cran40/ InRelease [3,632 B]\n",
            "Hit:2 https://cli.github.com/packages stable InRelease\n",
            "Get:3 https://developer.download.nvidia.com/compute/cuda/repos/ubuntu2204/x86_64  InRelease [1,581 B]\n",
            "Get:4 https://cloud.r-project.org/bin/linux/ubuntu jammy-cran40/ Packages [80.4 kB]\n",
            "Get:5 https://r2u.stat.illinois.edu/ubuntu jammy InRelease [6,555 B]\n",
            "Get:6 https://developer.download.nvidia.com/compute/cuda/repos/ubuntu2204/x86_64  Packages [2,002 kB]\n",
            "Get:7 https://r2u.stat.illinois.edu/ubuntu jammy/main amd64 Packages [2,789 kB]\n",
            "Hit:8 https://ppa.launchpadcontent.net/deadsnakes/ppa/ubuntu jammy InRelease\n",
            "Get:9 https://ppa.launchpadcontent.net/graphics-drivers/ppa/ubuntu jammy InRelease [24.3 kB]\n",
            "Get:10 http://security.ubuntu.com/ubuntu jammy-security InRelease [129 kB]\n",
            "Get:11 https://r2u.stat.illinois.edu/ubuntu jammy/main all Packages [9,237 kB]\n",
            "Hit:12 http://archive.ubuntu.com/ubuntu jammy InRelease\n",
            "Hit:13 https://ppa.launchpadcontent.net/ubuntugis/ppa/ubuntu jammy InRelease\n",
            "Get:14 http://archive.ubuntu.com/ubuntu jammy-updates InRelease [128 kB]\n",
            "Get:15 https://ppa.launchpadcontent.net/graphics-drivers/ppa/ubuntu jammy/main amd64 Packages [43.0 kB]\n",
            "Get:16 http://archive.ubuntu.com/ubuntu jammy-backports InRelease [127 kB]\n",
            "Get:17 http://security.ubuntu.com/ubuntu jammy-security/main amd64 Packages [3,310 kB]\n",
            "Get:18 http://archive.ubuntu.com/ubuntu jammy-updates/main amd64 Packages [3,623 kB]\n",
            "Get:19 http://security.ubuntu.com/ubuntu jammy-security/universe amd64 Packages [1,272 kB]\n",
            "Get:20 http://archive.ubuntu.com/ubuntu jammy-updates/universe amd64 Packages [1,580 kB]\n",
            "Fetched 24.4 MB in 3s (7,816 kB/s)\n",
            "Reading package lists... Done\n",
            "W: Skipping acquire of configured file 'main/source/Sources' as repository 'https://r2u.stat.illinois.edu/ubuntu jammy InRelease' does not seem to provide it (sources.list entry misspelt?)\n",
            "Reading package lists... Done\n",
            "Building dependency tree... Done\n",
            "Reading state information... Done\n",
            "build-essential is already the newest version (12.9ubuntu3).\n",
            "0 upgraded, 0 newly installed, 0 to remove and 41 not upgraded.\n",
            "Reading package lists... Done\n",
            "Building dependency tree... Done\n",
            "Reading state information... Done\n",
            "libopencv-dev is already the newest version (4.5.4+dfsg-9ubuntu4+jammy1).\n",
            "Suggested packages:\n",
            "  python-numpy-doc python3-pytest\n",
            "The following NEW packages will be installed:\n",
            "  python3-numpy python3-opencv\n",
            "0 upgraded, 2 newly installed, 0 to remove and 41 not upgraded.\n",
            "Need to get 5,274 kB of archives.\n",
            "After this operation, 27.1 MB of additional disk space will be used.\n",
            "Get:1 http://archive.ubuntu.com/ubuntu jammy-updates/main amd64 python3-numpy amd64 1:1.21.5-1ubuntu22.04.1 [3,467 kB]\n",
            "Get:2 https://ppa.launchpadcontent.net/ubuntugis/ppa/ubuntu jammy/main amd64 python3-opencv amd64 4.5.4+dfsg-9ubuntu4+jammy1 [1,807 kB]\n",
            "Fetched 5,274 kB in 2s (2,797 kB/s)\n",
            "Selecting previously unselected package python3-numpy.\n",
            "(Reading database ... 126374 files and directories currently installed.)\n",
            "Preparing to unpack .../python3-numpy_1%3a1.21.5-1ubuntu22.04.1_amd64.deb ...\n",
            "Unpacking python3-numpy (1:1.21.5-1ubuntu22.04.1) ...\n",
            "Selecting previously unselected package python3-opencv:amd64.\n",
            "Preparing to unpack .../python3-opencv_4.5.4+dfsg-9ubuntu4+jammy1_amd64.deb ...\n",
            "Unpacking python3-opencv:amd64 (4.5.4+dfsg-9ubuntu4+jammy1) ...\n",
            "Setting up python3-numpy (1:1.21.5-1ubuntu22.04.1) ...\n",
            "Setting up python3-opencv:amd64 (4.5.4+dfsg-9ubuntu4+jammy1) ...\n",
            "4.5.4\n"
          ]
        },
        {
          "output_type": "execute_result",
          "data": {
            "text/plain": []
          },
          "metadata": {},
          "execution_count": 1
        }
      ],
      "source": [
        "%%shell\n",
        "%%shell\n",
        "# Update package lists\n",
        "apt-get update\n",
        "\n",
        "# Install essential build tools (if not already present, good practice)\n",
        "apt-get install -y build-essential\n",
        "\n",
        "# Install OpenCV development libraries (C++ headers and shared libraries)\n",
        "# 'libopencv-dev' provides the development files\n",
        "# 'python3-opencv' is for Python, but sometimes pulled in as a dependency\n",
        "apt-get install -y libopencv-dev python3-opencv\n",
        "\n",
        "# Verify OpenCV version (optional, but good for checking)\n",
        "pkg-config --modversion opencv4 # For OpenCV 4.x\n",
        "# Or for older versions: pkg-config --modversion opencv"
      ]
    },
    {
      "cell_type": "code",
      "source": [
        "!pip install nvcc4jupyter"
      ],
      "metadata": {
        "colab": {
          "base_uri": "https://localhost:8080/"
        },
        "id": "dYsu9j5nzC3J",
        "outputId": "798dad1b-4880-448d-8005-f59fd6e10b6c"
      },
      "execution_count": null,
      "outputs": [
        {
          "output_type": "stream",
          "name": "stdout",
          "text": [
            "Collecting nvcc4jupyter\n",
            "  Downloading nvcc4jupyter-1.2.1-py3-none-any.whl.metadata (5.1 kB)\n",
            "Downloading nvcc4jupyter-1.2.1-py3-none-any.whl (10 kB)\n",
            "Installing collected packages: nvcc4jupyter\n",
            "Successfully installed nvcc4jupyter-1.2.1\n"
          ]
        }
      ]
    },
    {
      "cell_type": "code",
      "source": [
        "%load_ext nvcc4jupyter"
      ],
      "metadata": {
        "colab": {
          "base_uri": "https://localhost:8080/"
        },
        "id": "lg31kUwFzIDp",
        "outputId": "d914e5b9-8fe6-4c33-b644-1461f3c4d571"
      },
      "execution_count": null,
      "outputs": [
        {
          "output_type": "stream",
          "name": "stdout",
          "text": [
            "Detected platform \"Colab\". Running its setup...\n",
            "Source files will be saved in \"/tmp/tmp0t99kg18\".\n"
          ]
        }
      ]
    },
    {
      "cell_type": "code",
      "source": [
        "%%shell\n",
        "nvcc --version"
      ],
      "metadata": {
        "colab": {
          "base_uri": "https://localhost:8080/"
        },
        "id": "Wt8ouN7EzLq2",
        "outputId": "fa2baa6e-d61c-4eea-84f8-e8d0c17b0054"
      },
      "execution_count": null,
      "outputs": [
        {
          "output_type": "stream",
          "name": "stdout",
          "text": [
            "nvcc: NVIDIA (R) Cuda compiler driver\n",
            "Copyright (c) 2005-2024 NVIDIA Corporation\n",
            "Built on Thu_Jun__6_02:18:23_PDT_2024\n",
            "Cuda compilation tools, release 12.5, V12.5.82\n",
            "Build cuda_12.5.r12.5/compiler.34385749_0\n"
          ]
        },
        {
          "output_type": "execute_result",
          "data": {
            "text/plain": []
          },
          "metadata": {},
          "execution_count": 4
        }
      ]
    },
    {
      "cell_type": "code",
      "source": [
        "%%shell\n",
        "nvidia-smi"
      ],
      "metadata": {
        "colab": {
          "base_uri": "https://localhost:8080/"
        },
        "id": "WFr6ZUVhzPCw",
        "outputId": "5e241829-221a-45c0-92d2-7a8978c9a411"
      },
      "execution_count": null,
      "outputs": [
        {
          "output_type": "stream",
          "name": "stdout",
          "text": [
            "Sun Sep  7 15:40:53 2025       \n",
            "+-----------------------------------------------------------------------------------------+\n",
            "| NVIDIA-SMI 550.54.15              Driver Version: 550.54.15      CUDA Version: 12.4     |\n",
            "|-----------------------------------------+------------------------+----------------------+\n",
            "| GPU  Name                 Persistence-M | Bus-Id          Disp.A | Volatile Uncorr. ECC |\n",
            "| Fan  Temp   Perf          Pwr:Usage/Cap |           Memory-Usage | GPU-Util  Compute M. |\n",
            "|                                         |                        |               MIG M. |\n",
            "|=========================================+========================+======================|\n",
            "|   0  Tesla T4                       Off |   00000000:00:04.0 Off |                    0 |\n",
            "| N/A   51C    P8             10W /   70W |       0MiB /  15360MiB |      0%      Default |\n",
            "|                                         |                        |                  N/A |\n",
            "+-----------------------------------------+------------------------+----------------------+\n",
            "                                                                                         \n",
            "+-----------------------------------------------------------------------------------------+\n",
            "| Processes:                                                                              |\n",
            "|  GPU   GI   CI        PID   Type   Process name                              GPU Memory |\n",
            "|        ID   ID                                                               Usage      |\n",
            "|=========================================================================================|\n",
            "|  No running processes found                                                             |\n",
            "+-----------------------------------------------------------------------------------------+\n"
          ]
        },
        {
          "output_type": "execute_result",
          "data": {
            "text/plain": []
          },
          "metadata": {},
          "execution_count": 5
        }
      ]
    },
    {
      "cell_type": "code",
      "source": [
        "%%writefile single_threaded_CUDA_Stream_with_pipelining.cu\n",
        "\n",
        "#include <opencv2/opencv.hpp>\n",
        "#include <vector>\n",
        "#include <string>\n",
        "#include <filesystem>\n",
        "#include <iostream>\n",
        "#include \"cuda_runtime.h\"\n",
        "\n",
        "// Macro for CUDA error checking\n",
        "#define CHECK_CUDA(call) \\\n",
        "    { \\\n",
        "        cudaError_t err = call; \\\n",
        "        if (err != cudaSuccess) { \\\n",
        "            std::cerr << \"CUDA error: \" << cudaGetErrorString(err) << \" at \" << __FILE__ << \":\" << __LINE__ << std::endl; \\\n",
        "            exit(1); \\\n",
        "        } \\\n",
        "    }\n",
        "\n",
        "// Utility: get image paths from folder\n",
        "std::vector<std::string> get_image_paths(const std::string& folder) {\n",
        "    std::vector<std::string> paths;\n",
        "    if (!std::filesystem::exists(folder)) {\n",
        "        std::cerr << \"Input folder does not exist: \" << folder << std::endl;\n",
        "        return paths;\n",
        "    }\n",
        "    for (const auto& entry : std::filesystem::directory_iterator(folder)) {\n",
        "        if (entry.is_regular_file() && entry.path().extension() == \".bmp\") {\n",
        "            paths.push_back(entry.path().string());\n",
        "        }\n",
        "    }\n",
        "    return paths;\n",
        "}\n",
        "\n",
        "// CUDA Gaussian Filter kernel\n",
        "__global__\n",
        "void gaussian_filter_kernel(const uchar* input, uchar* output, int width, int height, const float* kernel) {\n",
        "    int x = blockIdx.x * blockDim.x + threadIdx.x;\n",
        "    int y = blockIdx.y * blockDim.y + threadIdx.y;\n",
        "    if (x >= width || y >= height) return;\n",
        "    float sum = 0, kSum = 0;\n",
        "    for (int dy = -1; dy <= 1; ++dy) {\n",
        "        for (int dx = -1; dx <= 1; ++dx) {\n",
        "            int ix = min(max(x+dx,0), width-1);\n",
        "            int iy = min(max(y+dy,0), height-1);\n",
        "            float k = kernel[(dy+1)*3 + (dx+1)];\n",
        "            sum += input[iy*width + ix] * k;\n",
        "            kSum += k;\n",
        "        }\n",
        "    }\n",
        "    float result = kSum > 0 ? sum / kSum : 0;\n",
        "    result = min(max(result, 0.0f), 255.0f);\n",
        "    output[y*width + x] = static_cast<uchar>(result);\n",
        "}\n",
        "\n",
        "// CUDA Laplacian Edge Detection kernel\n",
        "__global__\n",
        "void laplacian_filter_kernel(const uchar* input, uchar* output, int width, int height) {\n",
        "    int kernel[3][3] = { {-1,-1,-1}, {-1,8,-1}, {-1,-1,-1} };\n",
        "    int x = blockIdx.x * blockDim.x + threadIdx.x;\n",
        "    int y = blockIdx.y * blockDim.y + threadIdx.y;\n",
        "    if (x >= width || y >= height) return;\n",
        "    int sum = 0;\n",
        "    for (int dy = -1; dy <= 1; ++dy) {\n",
        "        for (int dx = -1; dx <= 1; ++dx) {\n",
        "            int ix = min(max(x+dx,0), width-1);\n",
        "            int iy = min(max(y+dy,0), height-1);\n",
        "            sum += input[iy*width + ix] * kernel[dy+1][dx+1];\n",
        "        }\n",
        "    }\n",
        "    int result = sum + 128;\n",
        "    result = min(max(result, 0), 255);\n",
        "    output[y*width + x] = static_cast<uchar>(result);\n",
        "}\n",
        "\n",
        "// Empty kernel for warm-up\n",
        "__global__ void empty_kernel(int* p) { *p = 1; }\n",
        "\n",
        "// Warm-up function to prime the CUDA context\n",
        "void warm_up() {\n",
        "    std::cout << \"Warming up CUDA...\" << std::endl;\n",
        "    int* d_temp;\n",
        "    // Use a small allocation for warm-up to avoid large memory footprint\n",
        "    CHECK_CUDA(cudaMalloc(&d_temp, sizeof(int)));\n",
        "    empty_kernel<<<1, 1>>>(d_temp);\n",
        "    CHECK_CUDA(cudaDeviceSynchronize());\n",
        "    CHECK_CUDA(cudaFree(d_temp));\n",
        "    std::cout << \"Warm-up complete.\" << std::endl;\n",
        "}\n",
        "\n",
        "int main() {\n",
        "    std::string input_folder  = \"input_images\";\n",
        "    std::string output_folder = \"output_images\";\n",
        "    std::filesystem::create_directories(output_folder);\n",
        "\n",
        "    auto paths = get_image_paths(input_folder);\n",
        "    if (paths.empty()) {\n",
        "        std::cerr << \"No BMP images found in \" << input_folder << std::endl;\n",
        "        return 1;\n",
        "    }\n",
        "\n",
        "    warm_up();\n",
        "\n",
        "    // Use a single CUDA stream for all operations\n",
        "    cudaStream_t stream;\n",
        "    CHECK_CUDA(cudaStreamCreate(&stream));\n",
        "\n",
        "    // Allocate two sets of host-side input and output buffers for pipelining\n",
        "    // Use cv::Mat for host buffers to leverage OpenCV's image handling\n",
        "    std::vector<cv::Mat> h_input(2);\n",
        "    std::vector<cv::Mat> h_output(2);\n",
        "\n",
        "    // Allocate two sets of device-side buffers (ping-pong)\n",
        "    uchar *d_input[2], *d_gauss[2], *d_laplace[2];\n",
        "    float *d_gkernel;\n",
        "\n",
        "    // Get dimensions from the first image to allocate buffers\n",
        "    h_input[0] = cv::imread(paths[0], cv::IMREAD_GRAYSCALE);\n",
        "    if (h_input[0].empty()) {\n",
        "        std::cerr << \"Failed to load first image: \" << paths[0] << std::endl;\n",
        "        return 1;\n",
        "    }\n",
        "    int width   = h_input[0].cols;\n",
        "    int height  = h_input[0].rows;\n",
        "    size_t size = width * height * sizeof(uchar);\n",
        "\n",
        "    // One-time allocation of device buffers and kernel\n",
        "    for (int i = 0; i < 2; ++i) {\n",
        "        CHECK_CUDA(cudaMalloc(&d_input[i], size));\n",
        "        CHECK_CUDA(cudaMalloc(&d_gauss[i], size));\n",
        "        CHECK_CUDA(cudaMalloc(&d_laplace[i], size));\n",
        "        // Allocate host output buffer as well\n",
        "        h_output[i].create(height, width, CV_8U);\n",
        "    }\n",
        "    CHECK_CUDA(cudaMalloc(&d_gkernel, 9 * sizeof(float)));\n",
        "\n",
        "    // Copy the Gaussian kernel to the device\n",
        "    float gaussKernel[9] = {1.f/16, 2.f/16, 1.f/16, 2.f/16, 4.f/16, 2.f/16, 1.f/16, 2.f/16, 1.f/16};\n",
        "    CHECK_CUDA(cudaMemcpy(d_gkernel, gaussKernel, 9 * sizeof(float), cudaMemcpyHostToDevice));\n",
        "\n",
        "    dim3 block(16,16);\n",
        "    dim3 grid((width + block.x - 1) / block.x, (height + block.y - 1) / block.y); // Correct grid calculation\n",
        "    cv::TickMeter timer;\n",
        "    timer.start();\n",
        "\n",
        "    // --- PRIMING THE PIPELINE ---\n",
        "    // Load and asynchronously copy the first image (idx 0)\n",
        "    CHECK_CUDA(cudaMemcpyAsync(d_input[0], h_input[0].data, size, cudaMemcpyHostToDevice, stream));\n",
        "\n",
        "    // --- MAIN PIPELINE LOOP ---\n",
        "    for (size_t i = 0; i < paths.size(); ++i) {\n",
        "        int current_idx = i % 2;\n",
        "        int next_idx = (i + 1) % 2;\n",
        "\n",
        "        // 1. Asynchronously read the next image and copy it to device\n",
        "        if (i + 1 < paths.size()) {\n",
        "            h_input[next_idx] = cv::imread(paths[i+1], cv::IMREAD_GRAYSCALE);\n",
        "            if (h_input[next_idx].empty()) {\n",
        "                std::cerr << \"Failed to load image \" << paths[i+1] << \". Skipping.\" << std::endl;\n",
        "                 // If loading fails, we should continue with the pipeline for the current image,\n",
        "                 // but the next image slot will be empty. This might cause issues if not handled carefully.\n",
        "                 // For simplicity in this fix, we'll just print an error and the next image won't be processed correctly.\n",
        "                 // A more robust solution would involve checking h_input[next_idx].empty() before the next iteration's memcpy.\n",
        "            } else {\n",
        "                 // Ensure the dimensions match if processing multiple images.\n",
        "                 // This code assumes all images have the same dimensions as the first one.\n",
        "                 if (h_input[next_idx].cols != width || h_input[next_idx].rows != height) {\n",
        "                     std::cerr << \"Image dimensions mismatch for \" << paths[i+1] << \". Skipping.\" << std::endl;\n",
        "                     h_input[next_idx].release(); // Release the loaded image\n",
        "                 } else {\n",
        "                     CHECK_CUDA(cudaMemcpyAsync(d_input[next_idx], h_input[next_idx].data, size, cudaMemcpyHostToDevice, stream));\n",
        "                 }\n",
        "            }\n",
        "        }\n",
        "\n",
        "        // 2. Launch kernels for the current image. These kernels will start\n",
        "        //    as soon as the previous HtoD copy for this buffer is complete.\n",
        "        //    Ensure kernels are only launched if the current image was successfully loaded.\n",
        "        if (!h_input[current_idx].empty()) {\n",
        "            gaussian_filter_kernel<<<grid, block, 0, stream>>>(d_input[current_idx], d_gauss[current_idx], width, height, d_gkernel);\n",
        "            laplacian_filter_kernel<<<grid, block, 0, stream>>>(d_gauss[current_idx], d_laplace[current_idx], width, height);\n",
        "\n",
        "            // 3. Asynchronously copy the result back to the host\n",
        "            CHECK_CUDA(cudaMemcpyAsync(h_output[current_idx].data, d_laplace[current_idx], size, cudaMemcpyDeviceToHost, stream));\n",
        "\n",
        "            // Wait for the current DtoH copy to finish before saving the file\n",
        "            // This is the only synchronization point necessary within the loop\n",
        "            CHECK_CUDA(cudaStreamSynchronize(stream));\n",
        "\n",
        "            // 4. Save the output file to disk\n",
        "            std::string output_path = output_folder + \"/\" + std::filesystem::path(paths[i]).stem().string() + \"_gpu.bmp\";\n",
        "            if (!cv::imwrite(output_path, h_output[current_idx])) {\n",
        "                std::cerr << \"Failed to save GPU image: \" << output_path << std::endl;\n",
        "            }\n",
        "            std::cout << \"Processed: \" << paths[i] << std::endl;\n",
        "        } else {\n",
        "             std::cerr << \"Skipping processing for \" << paths[i] << \" due to previous loading failure.\" << std::endl;\n",
        "        }\n",
        "    }\n",
        "\n",
        "    // Ensure all operations on the stream are complete before cleanup\n",
        "    CHECK_CUDA(cudaStreamSynchronize(stream));\n",
        "\n",
        "    timer.stop();\n",
        "    std::cout << \"\\nTotal execution time for \" << paths.size() << \" images: \" << timer.getTimeMilli() << \" ms\" << std::endl;\n",
        "\n",
        "    // --- CLEANUP ---\n",
        "    for (int i = 0; i < 2; ++i) {\n",
        "        CHECK_CUDA(cudaFree(d_input[i]));\n",
        "        CHECK_CUDA(cudaFree(d_gauss[i]));\n",
        "        CHECK_CUDA(cudaFree(d_laplace[i]));\n",
        "    }\n",
        "    CHECK_CUDA(cudaFree(d_gkernel));\n",
        "    CHECK_CUDA(cudaStreamDestroy(stream));\n",
        "\n",
        "    return 0;\n",
        "}\n"
      ],
      "metadata": {
        "colab": {
          "base_uri": "https://localhost:8080/"
        },
        "id": "1Dd1PN15zSiv",
        "outputId": "c3a183e5-b426-4cb4-d069-1317f4579126"
      },
      "execution_count": null,
      "outputs": [
        {
          "output_type": "stream",
          "name": "stdout",
          "text": [
            "Overwriting single_threaded_CUDA_Stream_with_pipelining.cu\n"
          ]
        }
      ]
    },
    {
      "cell_type": "code",
      "source": [
        "%%shell\n",
        "nvcc single_threaded_CUDA_Stream_with_pipelining.cu -o single_threaded_CUDA_Stream_with_pipelining $(pkg-config --cflags --libs opencv4) -arch=sm_75"
      ],
      "metadata": {
        "colab": {
          "base_uri": "https://localhost:8080/"
        },
        "id": "mtvBcWw10JjO",
        "outputId": "c6b34d6a-5a44-424e-8704-80b9126aef27"
      },
      "execution_count": null,
      "outputs": [
        {
          "output_type": "stream",
          "name": "stdout",
          "text": [
            "\u001b[01m\u001b[Ksingle_threaded_CUDA_Stream_with_pipelining.cu:11:7:\u001b[m\u001b[K \u001b[01;35m\u001b[Kwarning: \u001b[m\u001b[Kbackslash and newline separated by space\n",
            "   11 |     { \\\n",
            "      |        \n",
            "\u001b[01m\u001b[0m\u001b[01m/usr/include/opencv4/opencv2/stitching/detail/warpers.hpp(235)\u001b[0m: \u001b[01;35mwarning\u001b[0m #611-D: overloaded virtual function \u001b[01m\"cv::detail::PlaneWarper::buildMaps\"\u001b[0m is only partially overridden in class \u001b[01m\"cv::detail::AffineWarper\"\u001b[0m\n",
            "  class AffineWarper : public PlaneWarper\n",
            "        ^\n",
            "\n",
            "\u001b[01;36m\u001b[0m\u001b[01;36mRemark\u001b[0m: The warnings can be suppressed with \"-diag-suppress <warning-number>\"\n",
            "\n",
            "\u001b[01m\u001b[0m\u001b[01m/usr/include/opencv4/opencv2/stitching/detail/warpers.hpp(235)\u001b[0m: \u001b[01;35mwarning\u001b[0m #611-D: overloaded virtual function \u001b[01m\"cv::detail::PlaneWarper::warp\"\u001b[0m is only partially overridden in class \u001b[01m\"cv::detail::AffineWarper\"\u001b[0m\n",
            "  class AffineWarper : public PlaneWarper\n",
            "        ^\n",
            "\n",
            "\u001b[01m\u001b[0m\u001b[01m/usr/include/opencv4/opencv2/stitching/detail/blenders.hpp(100)\u001b[0m: \u001b[01;35mwarning\u001b[0m #611-D: overloaded virtual function \u001b[01m\"cv::detail::Blender::prepare\"\u001b[0m is only partially overridden in class \u001b[01m\"cv::detail::FeatherBlender\"\u001b[0m\n",
            "  class FeatherBlender : public Blender\n",
            "        ^\n",
            "\n",
            "\u001b[01m\u001b[0m\u001b[01m/usr/include/opencv4/opencv2/stitching/detail/blenders.hpp(127)\u001b[0m: \u001b[01;35mwarning\u001b[0m #611-D: overloaded virtual function \u001b[01m\"cv::detail::Blender::prepare\"\u001b[0m is only partially overridden in class \u001b[01m\"cv::detail::MultiBandBlender\"\u001b[0m\n",
            "  class MultiBandBlender : public Blender\n",
            "        ^\n",
            "\n",
            "\u001b[01m\u001b[Ksingle_threaded_CUDA_Stream_with_pipelining.cu:11:7:\u001b[m\u001b[K \u001b[01;35m\u001b[Kwarning: \u001b[m\u001b[Kbackslash and newline separated by space\n",
            "   11 |     { \\\n",
            "      |        \n",
            "\u001b[01m\u001b[0m\u001b[01m/usr/include/opencv4/opencv2/stitching/detail/warpers.hpp(235)\u001b[0m: \u001b[01;35mwarning\u001b[0m #611-D: overloaded virtual function \u001b[01m\"cv::detail::PlaneWarper::buildMaps\"\u001b[0m is only partially overridden in class \u001b[01m\"cv::detail::AffineWarper\"\u001b[0m\n",
            "  class AffineWarper : public PlaneWarper\n",
            "        ^\n",
            "\n",
            "\u001b[01;36m\u001b[0m\u001b[01;36mRemark\u001b[0m: The warnings can be suppressed with \"-diag-suppress <warning-number>\"\n",
            "\n",
            "\u001b[01m\u001b[0m\u001b[01m/usr/include/opencv4/opencv2/stitching/detail/warpers.hpp(235)\u001b[0m: \u001b[01;35mwarning\u001b[0m #611-D: overloaded virtual function \u001b[01m\"cv::detail::PlaneWarper::warp\"\u001b[0m is only partially overridden in class \u001b[01m\"cv::detail::AffineWarper\"\u001b[0m\n",
            "  class AffineWarper : public PlaneWarper\n",
            "        ^\n",
            "\n",
            "\u001b[01m\u001b[0m\u001b[01m/usr/include/opencv4/opencv2/stitching/detail/blenders.hpp(100)\u001b[0m: \u001b[01;35mwarning\u001b[0m #611-D: overloaded virtual function \u001b[01m\"cv::detail::Blender::prepare\"\u001b[0m is only partially overridden in class \u001b[01m\"cv::detail::FeatherBlender\"\u001b[0m\n",
            "  class FeatherBlender : public Blender\n",
            "        ^\n",
            "\n",
            "\u001b[01m\u001b[0m\u001b[01m/usr/include/opencv4/opencv2/stitching/detail/blenders.hpp(127)\u001b[0m: \u001b[01;35mwarning\u001b[0m #611-D: overloaded virtual function \u001b[01m\"cv::detail::Blender::prepare\"\u001b[0m is only partially overridden in class \u001b[01m\"cv::detail::MultiBandBlender\"\u001b[0m\n",
            "  class MultiBandBlender : public Blender\n",
            "        ^\n",
            "\n"
          ]
        },
        {
          "output_type": "execute_result",
          "data": {
            "text/plain": []
          },
          "metadata": {},
          "execution_count": 12
        }
      ]
    },
    {
      "cell_type": "code",
      "source": [
        "%%shell\n",
        "ls -l single_threaded_CUDA_Stream_with_pipelining"
      ],
      "metadata": {
        "colab": {
          "base_uri": "https://localhost:8080/"
        },
        "id": "Hrm8f42S0Zkn",
        "outputId": "b960bd40-41f3-4c64-fb36-8275d15165cd"
      },
      "execution_count": null,
      "outputs": [
        {
          "output_type": "stream",
          "name": "stdout",
          "text": [
            "-rwxr-xr-x 1 root root 1083408 Sep  7 15:55 single_threaded_CUDA_Stream_with_pipelining\n"
          ]
        },
        {
          "output_type": "execute_result",
          "data": {
            "text/plain": []
          },
          "metadata": {},
          "execution_count": 13
        }
      ]
    },
    {
      "cell_type": "code",
      "source": [
        "%%shell\n",
        "./single_threaded_CUDA_Stream_with_pipelining"
      ],
      "metadata": {
        "id": "szvFbza30fiJ",
        "colab": {
          "base_uri": "https://localhost:8080/"
        },
        "outputId": "5ea3bd63-3ad0-4695-f074-f03371c7fbd6"
      },
      "execution_count": null,
      "outputs": [
        {
          "output_type": "stream",
          "name": "stdout",
          "text": [
            "Warming up CUDA...\n",
            "Warm-up complete.\n",
            "Processed: input_images/lena.bmp\n",
            "Processed: input_images/blackbuck.bmp\n",
            "\n",
            "Total execution time for 2 images: 2.08594 ms\n"
          ]
        },
        {
          "output_type": "execute_result",
          "data": {
            "text/plain": []
          },
          "metadata": {},
          "execution_count": 15
        }
      ]
    },
    {
      "cell_type": "code",
      "source": [
        "%%writefile single_threaded_CUDA_Stream_with_no_pipelining.cu\n",
        "\n",
        "#include <opencv2/opencv.hpp>\n",
        "#include <vector>\n",
        "#include <string>\n",
        "#include <filesystem>\n",
        "#include <iostream>\n",
        "#include \"cuda_runtime.h\"\n",
        "\n",
        "// Macro for CUDA error checking\n",
        "#define CHECK_CUDA(call) \\\n",
        "    { \\\n",
        "        cudaError_t err = call; \\\n",
        "        if (err != cudaSuccess) { \\\n",
        "            std::cerr << \"CUDA error: \" << cudaGetErrorString(err) << \" at \" << __FILE__ << \":\" << __LINE__ << std::endl; \\\n",
        "            exit(1); \\\n",
        "        } \\\n",
        "    }\n",
        "\n",
        "// Utility: get image paths from folder\n",
        "std::vector<std::string> get_image_paths(const std::string& folder) {\n",
        "    std::vector<std::string> paths;\n",
        "    for (const auto& entry : std::filesystem::directory_iterator(folder)) {\n",
        "        if (entry.path().extension() == \".bmp\") {\n",
        "            paths.push_back(entry.path().string());\n",
        "        }\n",
        "    }\n",
        "    return paths;\n",
        "}\n",
        "\n",
        "// CUDA Gaussian Filter kernel\n",
        "__global__\n",
        "void gaussian_filter_kernel(const uchar* input, uchar* output, int width, int height, const float* kernel) {\n",
        "    int x = blockIdx.x * blockDim.x + threadIdx.x;\n",
        "    int y = blockIdx.y * blockDim.y + threadIdx.y;\n",
        "    if (x >= width || y >= height) return;\n",
        "    float sum = 0, kSum = 0;\n",
        "    for (int dy = -1; dy <= 1; ++dy) {\n",
        "        for (int dx = -1; dx <= 1; ++dx) {\n",
        "            int ix = min(max(x+dx,0), width-1);\n",
        "            int iy = min(max(y+dy,0), height-1);\n",
        "            float k = kernel[(dy+1)*3 + (dx+1)];\n",
        "            sum += input[iy*width + ix] * k;\n",
        "            kSum += k;\n",
        "        }\n",
        "    }\n",
        "    float result = kSum > 0 ? sum / kSum : 0;\n",
        "    result = min(max(result, 0.0f), 255.0f);\n",
        "    output[y*width + x] = static_cast<uchar>(result);\n",
        "}\n",
        "\n",
        "// CUDA Laplacian Edge Detection kernel\n",
        "__global__\n",
        "void laplacian_filter_kernel(const uchar* input, uchar* output, int width, int height) {\n",
        "    int kernel[3][3] = { {-1,-1,-1}, {-1,8,-1}, {-1,-1,-1} };\n",
        "    int x = blockIdx.x * blockDim.x + threadIdx.x;\n",
        "    int y = blockIdx.y * blockDim.y + threadIdx.y;\n",
        "    if (x >= width || y >= height) return;\n",
        "    int sum = 0;\n",
        "    for (int dy = -1; dy <= 1; ++dy) {\n",
        "        for (int dx = -1; dx <= 1; ++dx) {\n",
        "            int ix = min(max(x+dx,0), width-1);\n",
        "            int iy = min(max(y+dy,0), height-1);\n",
        "            sum += input[iy*width + ix] * kernel[dy+1][dx+1];\n",
        "        }\n",
        "    }\n",
        "    int result = sum + 128;\n",
        "    result = min(max(result, 0), 255);\n",
        "    output[y*width + x] = static_cast<uchar>(result);\n",
        "}\n",
        "\n",
        "// Empty kernel for warm-up\n",
        "__global__ void empty_kernel(int* p) { *p = 1; }\n",
        "\n",
        "// Warm-up function to prime the CUDA context\n",
        "void warm_up() {\n",
        "    std::cout << \"Warming up CUDA...\" << std::endl;\n",
        "    int* d_temp;\n",
        "    CHECK_CUDA(cudaMalloc(&d_temp, sizeof(int)));\n",
        "    empty_kernel<<<1, 1>>>(d_temp);\n",
        "    CHECK_CUDA(cudaDeviceSynchronize());\n",
        "    CHECK_CUDA(cudaFree(d_temp));\n",
        "    std::cout << \"Warm-up complete.\" << std::endl;\n",
        "}\n",
        "\n",
        "int main() {\n",
        "    std::string input_folder = \"input_images\";\n",
        "    std::string output_folder = \"output_images\";\n",
        "    std::filesystem::create_directories(output_folder);\n",
        "\n",
        "    auto paths = get_image_paths(input_folder);\n",
        "    if (paths.empty()) {\n",
        "        std::cerr << \"No BMP images found in \" << input_folder << std::endl;\n",
        "        return 1;\n",
        "    }\n",
        "\n",
        "    warm_up();\n",
        "\n",
        "    // Copy the Gaussian kernel to the device once\n",
        "    float gaussKernel[9] = {1.f/16, 2.f/16, 1.f/16, 2.f/16, 4.f/16, 2.f/16, 1.f/16, 2.f/16, 1.f/16};\n",
        "    float *d_gkernel;\n",
        "    CHECK_CUDA(cudaMalloc(&d_gkernel, 9 * sizeof(float)));\n",
        "    CHECK_CUDA(cudaMemcpy(d_gkernel, gaussKernel, 9 * sizeof(float), cudaMemcpyHostToDevice));\n",
        "\n",
        "    cv::TickMeter timer;\n",
        "    timer.start();\n",
        "\n",
        "    // --- MAIN SERIAL LOOP ---\n",
        "    for (const auto& path : paths) {\n",
        "        // Read the image from disk\n",
        "        cv::Mat h_input = cv::imread(path, cv::IMREAD_GRAYSCALE);\n",
        "        if (h_input.empty()) {\n",
        "            std::cerr << \"Failed to load image \" << path << std::endl;\n",
        "            continue;\n",
        "        }\n",
        "\n",
        "        int width = h_input.cols;\n",
        "        int height = h_input.rows;\n",
        "        size_t size = width * height * sizeof(uchar);\n",
        "\n",
        "        // Allocate device buffers for this specific image\n",
        "        uchar *d_input, *d_gauss, *d_laplace;\n",
        "        CHECK_CUDA(cudaMalloc(&d_input, size));\n",
        "        CHECK_CUDA(cudaMalloc(&d_gauss, size));\n",
        "        CHECK_CUDA(cudaMalloc(&d_laplace, size));\n",
        "\n",
        "        // 1. Synchronous Host-to-Device memory copy\n",
        "        CHECK_CUDA(cudaMemcpy(d_input, h_input.data, size, cudaMemcpyHostToDevice));\n",
        "\n",
        "        dim3 block(16,16), grid((width+15)/16, (height+15)/16);\n",
        "\n",
        "        // 2. Launch kernels\n",
        "        gaussian_filter_kernel<<<grid, block>>>(d_input, d_gauss, width, height, d_gkernel);\n",
        "        laplacian_filter_kernel<<<grid, block>>>(d_gauss, d_laplace, width, height);\n",
        "\n",
        "        // 3. Synchronize with the device to wait for kernel completion\n",
        "        CHECK_CUDA(cudaDeviceSynchronize());\n",
        "\n",
        "        // 4. Synchronous Device-to-Host memory copy\n",
        "        cv::Mat h_output(height, width, CV_8U);\n",
        "        CHECK_CUDA(cudaMemcpy(h_output.data, d_laplace, size, cudaMemcpyDeviceToHost));\n",
        "\n",
        "        // 5. Save the output file to disk\n",
        "        std::string output_path = output_folder + \"/\" + std::filesystem::path(path).stem().string() + \"_gpu.bmp\";\n",
        "        if (!cv::imwrite(output_path, h_output)) {\n",
        "            std::cerr << \"Failed to save GPU image: \" << output_path << std::endl;\n",
        "        }\n",
        "        std::cout << \"Processed: \" << path << std::endl;\n",
        "\n",
        "        // Clean up buffers for this image\n",
        "        CHECK_CUDA(cudaFree(d_input));\n",
        "        CHECK_CUDA(cudaFree(d_gauss));\n",
        "        CHECK_CUDA(cudaFree(d_laplace));\n",
        "    }\n",
        "\n",
        "    timer.stop();\n",
        "    std::cout << \"\\nTotal execution time for \" << paths.size() << \" images: \" << timer.getTimeMilli() << \" ms\" << std::endl;\n",
        "\n",
        "    // Final cleanup of the kernel buffer\n",
        "    CHECK_CUDA(cudaFree(d_gkernel));\n",
        "\n",
        "    return 0;\n",
        "}"
      ],
      "metadata": {
        "id": "OUJahzpk9uf0",
        "colab": {
          "base_uri": "https://localhost:8080/"
        },
        "outputId": "00efd359-e876-4905-d340-029de82ca849"
      },
      "execution_count": 19,
      "outputs": [
        {
          "output_type": "stream",
          "name": "stdout",
          "text": [
            "Overwriting single_threaded_CUDA_Stream_with_no_pipelining.cu\n"
          ]
        }
      ]
    },
    {
      "cell_type": "code",
      "source": [
        "%%shell\n",
        "\n",
        "nvcc single_threaded_CUDA_Stream_with_no_pipelining.cu -o single_threaded_CUDA_Stream_with_no_pipelining $(pkg-config --cflags --libs opencv4) -arch=sm_75"
      ],
      "metadata": {
        "colab": {
          "base_uri": "https://localhost:8080/"
        },
        "id": "3zeWnPNA_bet",
        "outputId": "8af8c36e-a3b9-46e6-9fea-89cf55f6cde4"
      },
      "execution_count": 20,
      "outputs": [
        {
          "output_type": "stream",
          "name": "stdout",
          "text": [
            "\u001b[01m\u001b[0m\u001b[01m/usr/include/opencv4/opencv2/stitching/detail/warpers.hpp(235)\u001b[0m: \u001b[01;35mwarning\u001b[0m #611-D: overloaded virtual function \u001b[01m\"cv::detail::PlaneWarper::buildMaps\"\u001b[0m is only partially overridden in class \u001b[01m\"cv::detail::AffineWarper\"\u001b[0m\n",
            "  class AffineWarper : public PlaneWarper\n",
            "        ^\n",
            "\n",
            "\u001b[01;36m\u001b[0m\u001b[01;36mRemark\u001b[0m: The warnings can be suppressed with \"-diag-suppress <warning-number>\"\n",
            "\n",
            "\u001b[01m\u001b[0m\u001b[01m/usr/include/opencv4/opencv2/stitching/detail/warpers.hpp(235)\u001b[0m: \u001b[01;35mwarning\u001b[0m #611-D: overloaded virtual function \u001b[01m\"cv::detail::PlaneWarper::warp\"\u001b[0m is only partially overridden in class \u001b[01m\"cv::detail::AffineWarper\"\u001b[0m\n",
            "  class AffineWarper : public PlaneWarper\n",
            "        ^\n",
            "\n",
            "\u001b[01m\u001b[0m\u001b[01m/usr/include/opencv4/opencv2/stitching/detail/blenders.hpp(100)\u001b[0m: \u001b[01;35mwarning\u001b[0m #611-D: overloaded virtual function \u001b[01m\"cv::detail::Blender::prepare\"\u001b[0m is only partially overridden in class \u001b[01m\"cv::detail::FeatherBlender\"\u001b[0m\n",
            "  class FeatherBlender : public Blender\n",
            "        ^\n",
            "\n",
            "\u001b[01m\u001b[0m\u001b[01m/usr/include/opencv4/opencv2/stitching/detail/blenders.hpp(127)\u001b[0m: \u001b[01;35mwarning\u001b[0m #611-D: overloaded virtual function \u001b[01m\"cv::detail::Blender::prepare\"\u001b[0m is only partially overridden in class \u001b[01m\"cv::detail::MultiBandBlender\"\u001b[0m\n",
            "  class MultiBandBlender : public Blender\n",
            "        ^\n",
            "\n",
            "\u001b[01m\u001b[0m\u001b[01m/usr/include/opencv4/opencv2/stitching/detail/warpers.hpp(235)\u001b[0m: \u001b[01;35mwarning\u001b[0m #611-D: overloaded virtual function \u001b[01m\"cv::detail::PlaneWarper::buildMaps\"\u001b[0m is only partially overridden in class \u001b[01m\"cv::detail::AffineWarper\"\u001b[0m\n",
            "  class AffineWarper : public PlaneWarper\n",
            "        ^\n",
            "\n",
            "\u001b[01;36m\u001b[0m\u001b[01;36mRemark\u001b[0m: The warnings can be suppressed with \"-diag-suppress <warning-number>\"\n",
            "\n",
            "\u001b[01m\u001b[0m\u001b[01m/usr/include/opencv4/opencv2/stitching/detail/warpers.hpp(235)\u001b[0m: \u001b[01;35mwarning\u001b[0m #611-D: overloaded virtual function \u001b[01m\"cv::detail::PlaneWarper::warp\"\u001b[0m is only partially overridden in class \u001b[01m\"cv::detail::AffineWarper\"\u001b[0m\n",
            "  class AffineWarper : public PlaneWarper\n",
            "        ^\n",
            "\n",
            "\u001b[01m\u001b[0m\u001b[01m/usr/include/opencv4/opencv2/stitching/detail/blenders.hpp(100)\u001b[0m: \u001b[01;35mwarning\u001b[0m #611-D: overloaded virtual function \u001b[01m\"cv::detail::Blender::prepare\"\u001b[0m is only partially overridden in class \u001b[01m\"cv::detail::FeatherBlender\"\u001b[0m\n",
            "  class FeatherBlender : public Blender\n",
            "        ^\n",
            "\n",
            "\u001b[01m\u001b[0m\u001b[01m/usr/include/opencv4/opencv2/stitching/detail/blenders.hpp(127)\u001b[0m: \u001b[01;35mwarning\u001b[0m #611-D: overloaded virtual function \u001b[01m\"cv::detail::Blender::prepare\"\u001b[0m is only partially overridden in class \u001b[01m\"cv::detail::MultiBandBlender\"\u001b[0m\n",
            "  class MultiBandBlender : public Blender\n",
            "        ^\n",
            "\n"
          ]
        },
        {
          "output_type": "execute_result",
          "data": {
            "text/plain": []
          },
          "metadata": {},
          "execution_count": 20
        }
      ]
    },
    {
      "cell_type": "code",
      "source": [
        "%%shell\n",
        "\n",
        "ls -l single_threaded_CUDA_Stream_with_no_pipelining"
      ],
      "metadata": {
        "colab": {
          "base_uri": "https://localhost:8080/"
        },
        "id": "e_BSYbqB_tsp",
        "outputId": "000f6e4b-965c-4c52-c93d-b9e1d514b338"
      },
      "execution_count": 21,
      "outputs": [
        {
          "output_type": "stream",
          "name": "stdout",
          "text": [
            "-rwxr-xr-x 1 root root 1075224 Sep  7 16:25 single_threaded_CUDA_Stream_with_no_pipelining\n"
          ]
        },
        {
          "output_type": "execute_result",
          "data": {
            "text/plain": []
          },
          "metadata": {},
          "execution_count": 21
        }
      ]
    },
    {
      "cell_type": "code",
      "source": [
        "%%shell\n",
        "\n",
        "./single_threaded_CUDA_Stream_with_no_pipelining"
      ],
      "metadata": {
        "colab": {
          "base_uri": "https://localhost:8080/"
        },
        "id": "_1yw70JC_1OD",
        "outputId": "b757916d-d7f5-4863-9fb2-a0895d3a3883"
      },
      "execution_count": 22,
      "outputs": [
        {
          "output_type": "stream",
          "name": "stdout",
          "text": [
            "Warming up CUDA...\n",
            "Warm-up complete.\n",
            "Processed: input_images/lena.bmp\n",
            "Processed: input_images/blackbuck.bmp\n",
            "\n",
            "Total execution time for 2 images: 10.3978 ms\n"
          ]
        },
        {
          "output_type": "execute_result",
          "data": {
            "text/plain": []
          },
          "metadata": {},
          "execution_count": 22
        }
      ]
    }
  ]
}